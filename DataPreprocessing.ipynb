{
  "nbformat": 4,
  "nbformat_minor": 0,
  "metadata": {
    "colab": {
      "name": "DataPreprocessing.ipynb",
      "version": "0.3.2",
      "provenance": [],
      "include_colab_link": true
    },
    "kernelspec": {
      "name": "python3",
      "display_name": "Python 3"
    }
  },
  "cells": [
    {
      "cell_type": "markdown",
      "metadata": {
        "id": "view-in-github",
        "colab_type": "text"
      },
      "source": [
        "<a href=\"https://colab.research.google.com/github/Kaguura/SarcasmDetection/blob/master/DataPreprocessing.ipynb\" target=\"_parent\"><img src=\"https://colab.research.google.com/assets/colab-badge.svg\" alt=\"Open In Colab\"/></a>"
      ]
    },
    {
      "metadata": {
        "id": "gylyyjVq-_ec",
        "colab_type": "text"
      },
      "cell_type": "markdown",
      "source": [
        "I'm using dataset posted on kaggle (it's easier to download).\n",
        "You need to have kaggle API first: Sign up for kaggle, go to your account, scroll down and there's API section, where you can create a new API token. Download that token.\n",
        "Run the cell below and choose your kaggle.json file right after clicking on run."
      ]
    },
    {
      "metadata": {
        "id": "KNQ-WrSJ-0N3",
        "colab_type": "code",
        "outputId": "f0605ea4-3b8c-48d9-dc32-ee2c2a1d3f11",
        "colab": {
          "resources": {
            "http://localhost:8080/nbextensions/google.colab/files.js": {
              "data": "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",
              "ok": true,
              "headers": [
                [
                  "content-type",
                  "application/javascript"
                ]
              ],
              "status": 200,
              "status_text": ""
            }
          },
          "base_uri": "https://localhost:8080/",
          "height": 88
        }
      },
      "cell_type": "code",
      "source": [
        "#code run on google colab so you don't have to use your slow computer.\n",
        "from google.colab import files\n",
        "\n",
        "\n",
        "files.upload()\n",
        "#upload your kaggle.json here"
      ],
      "execution_count": 1,
      "outputs": [
        {
          "output_type": "display_data",
          "data": {
            "text/html": [
              "\n",
              "     <input type=\"file\" id=\"files-801830e7-187e-4acb-a3f2-49e474e554ed\" name=\"files[]\" multiple disabled />\n",
              "     <output id=\"result-801830e7-187e-4acb-a3f2-49e474e554ed\">\n",
              "      Upload widget is only available when the cell has been executed in the\n",
              "      current browser session. Please rerun this cell to enable.\n",
              "      </output>\n",
              "      <script src=\"/nbextensions/google.colab/files.js\"></script> "
            ],
            "text/plain": [
              "<IPython.core.display.HTML object>"
            ]
          },
          "metadata": {
            "tags": []
          }
        },
        {
          "output_type": "stream",
          "text": [
            "Saving kaggle.json to kaggle (2).json\n"
          ],
          "name": "stdout"
        },
        {
          "output_type": "execute_result",
          "data": {
            "text/plain": [
              "{'kaggle.json': b'{\"username\":\"sunshine1asel\",\"key\":\"5f95269dc425754c2027b61e3690407f\"}'}"
            ]
          },
          "metadata": {
            "tags": []
          },
          "execution_count": 1
        }
      ]
    },
    {
      "metadata": {
        "id": "HKep5jNw_-h2",
        "colab_type": "code",
        "outputId": "93054202-5c5d-4819-b332-969782e0c038",
        "colab": {
          "base_uri": "https://localhost:8080/",
          "height": 34
        }
      },
      "cell_type": "code",
      "source": [
        "!mkdir -p ~/.kaggle\n",
        "!cp kaggle.json ~/.kaggle/\n",
        "!chmod 600 ~/.kaggle/kaggle.json\n",
        "!ls ~/.kaggle"
      ],
      "execution_count": 2,
      "outputs": [
        {
          "output_type": "stream",
          "text": [
            "kaggle.json\n"
          ],
          "name": "stdout"
        }
      ]
    },
    {
      "metadata": {
        "id": "wvVVHSEEAIjp",
        "colab_type": "code",
        "colab": {}
      },
      "cell_type": "code",
      "source": [
        "!pip install -q kaggle\n",
        "!pip install -q kaggle-cli"
      ],
      "execution_count": 0,
      "outputs": []
    },
    {
      "metadata": {
        "id": "C55bc0ZZAf4E",
        "colab_type": "code",
        "outputId": "37c49ccf-fe91-4d1f-a958-8b6ba01140dc",
        "colab": {
          "base_uri": "https://localhost:8080/",
          "height": 68
        }
      },
      "cell_type": "code",
      "source": [
        "!kaggle datasets download -d danofer/sarcasm"
      ],
      "execution_count": 4,
      "outputs": [
        {
          "output_type": "stream",
          "text": [
            "Downloading sarcasm.zip to /content\n",
            " 96% 207M/216M [00:01<00:00, 175MB/s]\n",
            "100% 216M/216M [00:01<00:00, 159MB/s]\n"
          ],
          "name": "stdout"
        }
      ]
    },
    {
      "metadata": {
        "id": "WLNoLQhSAkr_",
        "colab_type": "code",
        "outputId": "c3c9e72e-ebe3-43dd-bf87-5cf4f1cffba5",
        "colab": {
          "base_uri": "https://localhost:8080/",
          "height": 187
        }
      },
      "cell_type": "code",
      "source": [
        "!unzip sarcasm.zip"
      ],
      "execution_count": 5,
      "outputs": [
        {
          "output_type": "stream",
          "text": [
            "Archive:  sarcasm.zip\n",
            "replace train-balanced-sarc.csv.gz? [y]es, [n]o, [A]ll, [N]one, [r]ename: y\n",
            "  inflating: train-balanced-sarc.csv.gz  \n",
            "replace test-unbalanced.csv? [y]es, [n]o, [A]ll, [N]one, [r]ename: y\n",
            "  inflating: test-unbalanced.csv     \n",
            "replace test-balanced.csv? [y]es, [n]o, [A]ll, [N]one, [r]ename: y\n",
            "  inflating: test-balanced.csv       \n",
            "replace train-balanced-sarcasm.csv? [y]es, [n]o, [A]ll, [N]one, [r]ename: y\n",
            "  inflating: train-balanced-sarcasm.csv  y\n",
            "\n"
          ],
          "name": "stdout"
        }
      ]
    },
    {
      "metadata": {
        "id": "mqPFttPoAtmk",
        "colab_type": "code",
        "colab": {}
      },
      "cell_type": "code",
      "source": [
        "!rm sarcasm.zip"
      ],
      "execution_count": 0,
      "outputs": []
    },
    {
      "metadata": {
        "id": "Lueq46MhAx0K",
        "colab_type": "code",
        "colab": {}
      },
      "cell_type": "code",
      "source": [
        "import pandas as pd\n",
        "sarcasm_data = pd.read_csv(\"train-balanced-sarcasm.csv\")"
      ],
      "execution_count": 0,
      "outputs": []
    },
    {
      "metadata": {
        "id": "IFjTHp8WCnce",
        "colab_type": "code",
        "outputId": "2b4b7d9f-e657-4ce1-f0bf-d764906b3cc2",
        "colab": {
          "base_uri": "https://localhost:8080/",
          "height": 529
        }
      },
      "cell_type": "code",
      "source": [
        "sarcasm_data.head(10)"
      ],
      "execution_count": 8,
      "outputs": [
        {
          "output_type": "execute_result",
          "data": {
            "text/html": [
              "<div>\n",
              "<style scoped>\n",
              "    .dataframe tbody tr th:only-of-type {\n",
              "        vertical-align: middle;\n",
              "    }\n",
              "\n",
              "    .dataframe tbody tr th {\n",
              "        vertical-align: top;\n",
              "    }\n",
              "\n",
              "    .dataframe thead th {\n",
              "        text-align: right;\n",
              "    }\n",
              "</style>\n",
              "<table border=\"1\" class=\"dataframe\">\n",
              "  <thead>\n",
              "    <tr style=\"text-align: right;\">\n",
              "      <th></th>\n",
              "      <th>label</th>\n",
              "      <th>comment</th>\n",
              "      <th>author</th>\n",
              "      <th>subreddit</th>\n",
              "      <th>score</th>\n",
              "      <th>ups</th>\n",
              "      <th>downs</th>\n",
              "      <th>date</th>\n",
              "      <th>created_utc</th>\n",
              "      <th>parent_comment</th>\n",
              "    </tr>\n",
              "  </thead>\n",
              "  <tbody>\n",
              "    <tr>\n",
              "      <th>0</th>\n",
              "      <td>0</td>\n",
              "      <td>NC and NH.</td>\n",
              "      <td>Trumpbart</td>\n",
              "      <td>politics</td>\n",
              "      <td>2</td>\n",
              "      <td>-1</td>\n",
              "      <td>-1</td>\n",
              "      <td>2016-10</td>\n",
              "      <td>2016-10-16 23:55:23</td>\n",
              "      <td>Yeah, I get that argument. At this point, I'd ...</td>\n",
              "    </tr>\n",
              "    <tr>\n",
              "      <th>1</th>\n",
              "      <td>0</td>\n",
              "      <td>You do know west teams play against west teams...</td>\n",
              "      <td>Shbshb906</td>\n",
              "      <td>nba</td>\n",
              "      <td>-4</td>\n",
              "      <td>-1</td>\n",
              "      <td>-1</td>\n",
              "      <td>2016-11</td>\n",
              "      <td>2016-11-01 00:24:10</td>\n",
              "      <td>The blazers and Mavericks (The wests 5 and 6 s...</td>\n",
              "    </tr>\n",
              "    <tr>\n",
              "      <th>2</th>\n",
              "      <td>0</td>\n",
              "      <td>They were underdogs earlier today, but since G...</td>\n",
              "      <td>Creepeth</td>\n",
              "      <td>nfl</td>\n",
              "      <td>3</td>\n",
              "      <td>3</td>\n",
              "      <td>0</td>\n",
              "      <td>2016-09</td>\n",
              "      <td>2016-09-22 21:45:37</td>\n",
              "      <td>They're favored to win.</td>\n",
              "    </tr>\n",
              "    <tr>\n",
              "      <th>3</th>\n",
              "      <td>0</td>\n",
              "      <td>This meme isn't funny none of the \"new york ni...</td>\n",
              "      <td>icebrotha</td>\n",
              "      <td>BlackPeopleTwitter</td>\n",
              "      <td>-8</td>\n",
              "      <td>-1</td>\n",
              "      <td>-1</td>\n",
              "      <td>2016-10</td>\n",
              "      <td>2016-10-18 21:03:47</td>\n",
              "      <td>deadass don't kill my buzz</td>\n",
              "    </tr>\n",
              "    <tr>\n",
              "      <th>4</th>\n",
              "      <td>0</td>\n",
              "      <td>I could use one of those tools.</td>\n",
              "      <td>cush2push</td>\n",
              "      <td>MaddenUltimateTeam</td>\n",
              "      <td>6</td>\n",
              "      <td>-1</td>\n",
              "      <td>-1</td>\n",
              "      <td>2016-12</td>\n",
              "      <td>2016-12-30 17:00:13</td>\n",
              "      <td>Yep can confirm I saw the tool they use for th...</td>\n",
              "    </tr>\n",
              "    <tr>\n",
              "      <th>5</th>\n",
              "      <td>0</td>\n",
              "      <td>I don't pay attention to her, but as long as s...</td>\n",
              "      <td>only7inches</td>\n",
              "      <td>AskReddit</td>\n",
              "      <td>0</td>\n",
              "      <td>0</td>\n",
              "      <td>0</td>\n",
              "      <td>2016-09</td>\n",
              "      <td>2016-09-02 10:35:08</td>\n",
              "      <td>do you find ariana grande sexy ?</td>\n",
              "    </tr>\n",
              "    <tr>\n",
              "      <th>6</th>\n",
              "      <td>0</td>\n",
              "      <td>Trick or treating in general is just weird...</td>\n",
              "      <td>only7inches</td>\n",
              "      <td>AskReddit</td>\n",
              "      <td>1</td>\n",
              "      <td>-1</td>\n",
              "      <td>-1</td>\n",
              "      <td>2016-10</td>\n",
              "      <td>2016-10-23 21:43:03</td>\n",
              "      <td>What's your weird or unsettling Trick or Treat...</td>\n",
              "    </tr>\n",
              "    <tr>\n",
              "      <th>7</th>\n",
              "      <td>0</td>\n",
              "      <td>Blade Mastery+Masamune or GTFO!</td>\n",
              "      <td>P0k3rm4s7</td>\n",
              "      <td>FFBraveExvius</td>\n",
              "      <td>2</td>\n",
              "      <td>-1</td>\n",
              "      <td>-1</td>\n",
              "      <td>2016-10</td>\n",
              "      <td>2016-10-13 21:13:55</td>\n",
              "      <td>Probably Sephiroth. I refuse to taint his grea...</td>\n",
              "    </tr>\n",
              "    <tr>\n",
              "      <th>8</th>\n",
              "      <td>0</td>\n",
              "      <td>You don't have to, you have a good build, buy ...</td>\n",
              "      <td>SoupToPots</td>\n",
              "      <td>pcmasterrace</td>\n",
              "      <td>1</td>\n",
              "      <td>-1</td>\n",
              "      <td>-1</td>\n",
              "      <td>2016-10</td>\n",
              "      <td>2016-10-27 19:11:06</td>\n",
              "      <td>What to upgrade? I have $500 to spend (mainly ...</td>\n",
              "    </tr>\n",
              "    <tr>\n",
              "      <th>9</th>\n",
              "      <td>0</td>\n",
              "      <td>I would love to see him at lolla.</td>\n",
              "      <td>chihawks</td>\n",
              "      <td>Lollapalooza</td>\n",
              "      <td>2</td>\n",
              "      <td>-1</td>\n",
              "      <td>-1</td>\n",
              "      <td>2016-11</td>\n",
              "      <td>2016-11-21 23:39:12</td>\n",
              "      <td>Probably count Kanye out Since the rest of his...</td>\n",
              "    </tr>\n",
              "  </tbody>\n",
              "</table>\n",
              "</div>"
            ],
            "text/plain": [
              "   label                                            comment       author  \\\n",
              "0      0                                         NC and NH.    Trumpbart   \n",
              "1      0  You do know west teams play against west teams...    Shbshb906   \n",
              "2      0  They were underdogs earlier today, but since G...     Creepeth   \n",
              "3      0  This meme isn't funny none of the \"new york ni...    icebrotha   \n",
              "4      0                    I could use one of those tools.    cush2push   \n",
              "5      0  I don't pay attention to her, but as long as s...  only7inches   \n",
              "6      0      Trick or treating in general is just weird...  only7inches   \n",
              "7      0                    Blade Mastery+Masamune or GTFO!    P0k3rm4s7   \n",
              "8      0  You don't have to, you have a good build, buy ...   SoupToPots   \n",
              "9      0                  I would love to see him at lolla.     chihawks   \n",
              "\n",
              "            subreddit  score  ups  downs     date          created_utc  \\\n",
              "0            politics      2   -1     -1  2016-10  2016-10-16 23:55:23   \n",
              "1                 nba     -4   -1     -1  2016-11  2016-11-01 00:24:10   \n",
              "2                 nfl      3    3      0  2016-09  2016-09-22 21:45:37   \n",
              "3  BlackPeopleTwitter     -8   -1     -1  2016-10  2016-10-18 21:03:47   \n",
              "4  MaddenUltimateTeam      6   -1     -1  2016-12  2016-12-30 17:00:13   \n",
              "5           AskReddit      0    0      0  2016-09  2016-09-02 10:35:08   \n",
              "6           AskReddit      1   -1     -1  2016-10  2016-10-23 21:43:03   \n",
              "7       FFBraveExvius      2   -1     -1  2016-10  2016-10-13 21:13:55   \n",
              "8        pcmasterrace      1   -1     -1  2016-10  2016-10-27 19:11:06   \n",
              "9        Lollapalooza      2   -1     -1  2016-11  2016-11-21 23:39:12   \n",
              "\n",
              "                                      parent_comment  \n",
              "0  Yeah, I get that argument. At this point, I'd ...  \n",
              "1  The blazers and Mavericks (The wests 5 and 6 s...  \n",
              "2                            They're favored to win.  \n",
              "3                         deadass don't kill my buzz  \n",
              "4  Yep can confirm I saw the tool they use for th...  \n",
              "5                   do you find ariana grande sexy ?  \n",
              "6  What's your weird or unsettling Trick or Treat...  \n",
              "7  Probably Sephiroth. I refuse to taint his grea...  \n",
              "8  What to upgrade? I have $500 to spend (mainly ...  \n",
              "9  Probably count Kanye out Since the rest of his...  "
            ]
          },
          "metadata": {
            "tags": []
          },
          "execution_count": 8
        }
      ]
    },
    {
      "metadata": {
        "id": "iZBzhtvJDRDa",
        "colab_type": "code",
        "colab": {}
      },
      "cell_type": "code",
      "source": [
        "# drop every column except label and comment itself. We can discuss on additional columns later as well\n",
        "sarcasm_data = sarcasm_data[['label', 'comment']]"
      ],
      "execution_count": 0,
      "outputs": []
    },
    {
      "metadata": {
        "id": "eycTTV-DFbwv",
        "colab_type": "code",
        "outputId": "ce7a8661-f96f-4760-93c3-2737e3c390c8",
        "colab": {
          "base_uri": "https://localhost:8080/",
          "height": 359
        }
      },
      "cell_type": "code",
      "source": [
        "sarcasm_data.head(10)"
      ],
      "execution_count": 10,
      "outputs": [
        {
          "output_type": "execute_result",
          "data": {
            "text/html": [
              "<div>\n",
              "<style scoped>\n",
              "    .dataframe tbody tr th:only-of-type {\n",
              "        vertical-align: middle;\n",
              "    }\n",
              "\n",
              "    .dataframe tbody tr th {\n",
              "        vertical-align: top;\n",
              "    }\n",
              "\n",
              "    .dataframe thead th {\n",
              "        text-align: right;\n",
              "    }\n",
              "</style>\n",
              "<table border=\"1\" class=\"dataframe\">\n",
              "  <thead>\n",
              "    <tr style=\"text-align: right;\">\n",
              "      <th></th>\n",
              "      <th>label</th>\n",
              "      <th>comment</th>\n",
              "    </tr>\n",
              "  </thead>\n",
              "  <tbody>\n",
              "    <tr>\n",
              "      <th>0</th>\n",
              "      <td>0</td>\n",
              "      <td>NC and NH.</td>\n",
              "    </tr>\n",
              "    <tr>\n",
              "      <th>1</th>\n",
              "      <td>0</td>\n",
              "      <td>You do know west teams play against west teams...</td>\n",
              "    </tr>\n",
              "    <tr>\n",
              "      <th>2</th>\n",
              "      <td>0</td>\n",
              "      <td>They were underdogs earlier today, but since G...</td>\n",
              "    </tr>\n",
              "    <tr>\n",
              "      <th>3</th>\n",
              "      <td>0</td>\n",
              "      <td>This meme isn't funny none of the \"new york ni...</td>\n",
              "    </tr>\n",
              "    <tr>\n",
              "      <th>4</th>\n",
              "      <td>0</td>\n",
              "      <td>I could use one of those tools.</td>\n",
              "    </tr>\n",
              "    <tr>\n",
              "      <th>5</th>\n",
              "      <td>0</td>\n",
              "      <td>I don't pay attention to her, but as long as s...</td>\n",
              "    </tr>\n",
              "    <tr>\n",
              "      <th>6</th>\n",
              "      <td>0</td>\n",
              "      <td>Trick or treating in general is just weird...</td>\n",
              "    </tr>\n",
              "    <tr>\n",
              "      <th>7</th>\n",
              "      <td>0</td>\n",
              "      <td>Blade Mastery+Masamune or GTFO!</td>\n",
              "    </tr>\n",
              "    <tr>\n",
              "      <th>8</th>\n",
              "      <td>0</td>\n",
              "      <td>You don't have to, you have a good build, buy ...</td>\n",
              "    </tr>\n",
              "    <tr>\n",
              "      <th>9</th>\n",
              "      <td>0</td>\n",
              "      <td>I would love to see him at lolla.</td>\n",
              "    </tr>\n",
              "  </tbody>\n",
              "</table>\n",
              "</div>"
            ],
            "text/plain": [
              "   label                                            comment\n",
              "0      0                                         NC and NH.\n",
              "1      0  You do know west teams play against west teams...\n",
              "2      0  They were underdogs earlier today, but since G...\n",
              "3      0  This meme isn't funny none of the \"new york ni...\n",
              "4      0                    I could use one of those tools.\n",
              "5      0  I don't pay attention to her, but as long as s...\n",
              "6      0      Trick or treating in general is just weird...\n",
              "7      0                    Blade Mastery+Masamune or GTFO!\n",
              "8      0  You don't have to, you have a good build, buy ...\n",
              "9      0                  I would love to see him at lolla."
            ]
          },
          "metadata": {
            "tags": []
          },
          "execution_count": 10
        }
      ]
    },
    {
      "metadata": {
        "id": "OmsmS68iILmi",
        "colab_type": "text"
      },
      "cell_type": "markdown",
      "source": [
        "### Feature engineering"
      ]
    },
    {
      "metadata": {
        "id": "Ut7U_w78KGUF",
        "colab_type": "text"
      },
      "cell_type": "markdown",
      "source": [
        "Tried to get bigrams but there are 'nan' comments in the dataset."
      ]
    },
    {
      "metadata": {
        "id": "TnzrD_AnJwWI",
        "colab_type": "code",
        "outputId": "19019dc1-ff32-48ca-b52d-1eea8949e8f4",
        "colab": {
          "base_uri": "https://localhost:8080/",
          "height": 34
        }
      },
      "cell_type": "code",
      "source": [
        "sarcasm_data['comment'].isna().sum()"
      ],
      "execution_count": 11,
      "outputs": [
        {
          "output_type": "execute_result",
          "data": {
            "text/plain": [
              "53"
            ]
          },
          "metadata": {
            "tags": []
          },
          "execution_count": 11
        }
      ]
    },
    {
      "metadata": {
        "id": "HI4dxJRGKR0V",
        "colab_type": "code",
        "colab": {}
      },
      "cell_type": "code",
      "source": [
        "# Drop 'nan' comments\n",
        "sarcasm_data = sarcasm_data.dropna()"
      ],
      "execution_count": 0,
      "outputs": []
    },
    {
      "metadata": {
        "id": "MHabPV7zFd99",
        "colab_type": "code",
        "colab": {}
      },
      "cell_type": "code",
      "source": [
        "from sklearn.feature_extraction.text import CountVectorizer\n",
        "\n",
        "\n",
        "# From sklearn feature extraction\n",
        "bigram_vectorizer = CountVectorizer(ngram_range=(1, 2), token_pattern=r'\\b\\w+\\b', min_df=1)"
      ],
      "execution_count": 0,
      "outputs": []
    },
    {
      "metadata": {
        "id": "FcPMh9OVIzrf",
        "colab_type": "code",
        "colab": {}
      },
      "cell_type": "code",
      "source": [
        "# Our feature set\n",
        "X = bigram_vectorizer.fit_transform(sarcasm_data['comment'])\n",
        "\n",
        "# labels\n",
        "y = sarcasm_data['label']"
      ],
      "execution_count": 0,
      "outputs": []
    },
    {
      "metadata": {
        "id": "vrsRM9jhcqcu",
        "colab_type": "text"
      },
      "cell_type": "markdown",
      "source": [
        "From here you can directly start using this data in the model or you might want to save it to file and read from your own jupyter notebook file (local or colab)."
      ]
    },
    {
      "metadata": {
        "id": "cLH0gxuyLgsH",
        "colab_type": "code",
        "colab": {
          "base_uri": "https://localhost:8080/",
          "height": 442
        },
        "outputId": "3132c85e-abe5-442d-f719-852eeb44cd15"
      },
      "cell_type": "code",
      "source": [
        "# Save to file to not repeat this preporocessing step\n",
        "X = pd.DataFrame(X)\n",
        "\n",
        "# It saves indexes as well so we need to specify that we don't want that additional column\n",
        "X.to_csv('comments.csv', header=False, index=False)\n",
        "y.to_csv('labels.csv', header=True, index=False)\n",
        "\n",
        "# If you're just copying useful code to your local jupyter notebook, no need for downloading. It'll save automatically from above\n",
        "\n",
        "# Download to local. You can try this but file's too huge. Probably will get an exception\n",
        "files.download('comments.csv') # Note: it's a representation of a sparse matrix (text is like a feature count here)\n",
        "files.download('labels.csv')"
      ],
      "execution_count": 15,
      "outputs": [
        {
          "output_type": "stream",
          "text": [
            "----------------------------------------\n",
            "Exception happened during processing of request from ('::ffff:127.0.0.1', 35902, 0, 0)\n",
            "Traceback (most recent call last):\n",
            "  File \"/usr/lib/python3.6/socketserver.py\", line 317, in _handle_request_noblock\n",
            "    self.process_request(request, client_address)\n",
            "  File \"/usr/lib/python3.6/socketserver.py\", line 348, in process_request\n",
            "    self.finish_request(request, client_address)\n",
            "  File \"/usr/lib/python3.6/socketserver.py\", line 361, in finish_request\n",
            "    self.RequestHandlerClass(request, client_address, self)\n",
            "  File \"/usr/lib/python3.6/socketserver.py\", line 721, in __init__\n",
            "    self.handle()\n",
            "  File \"/usr/lib/python3.6/http/server.py\", line 418, in handle\n",
            "    self.handle_one_request()\n",
            "  File \"/usr/lib/python3.6/http/server.py\", line 406, in handle_one_request\n",
            "    method()\n",
            "  File \"/usr/lib/python3.6/http/server.py\", line 639, in do_GET\n",
            "    self.copyfile(f, self.wfile)\n",
            "  File \"/usr/lib/python3.6/http/server.py\", line 800, in copyfile\n",
            "    shutil.copyfileobj(source, outputfile)\n",
            "  File \"/usr/lib/python3.6/shutil.py\", line 82, in copyfileobj\n",
            "    fdst.write(buf)\n",
            "  File \"/usr/lib/python3.6/socketserver.py\", line 800, in write\n",
            "    self._sock.sendall(b)\n",
            "ConnectionResetError: [Errno 104] Connection reset by peer\n",
            "----------------------------------------\n"
          ],
          "name": "stderr"
        }
      ]
    },
    {
      "metadata": {
        "id": "yZ1MVFzOft0f",
        "colab_type": "code",
        "colab": {
          "base_uri": "https://localhost:8080/",
          "height": 85
        },
        "outputId": "443bee7f-6416-4e18-853f-c883bff71927"
      },
      "cell_type": "code",
      "source": [
        "# Better to save on your google drive\n",
        "\n",
        "!pip install -U -q PyDrive\n",
        "from pydrive.auth import GoogleAuth\n",
        "from pydrive.drive import GoogleDrive\n",
        "from google.colab import auth\n",
        "from oauth2client.client import GoogleCredentials\n",
        "\n",
        "# Authenticate and create the PyDrive client.\n",
        "# This only needs to be done once in a notebook.\n",
        "auth.authenticate_user()\n",
        "gauth = GoogleAuth()\n",
        "gauth.credentials = GoogleCredentials.get_application_default()\n",
        "drive = GoogleDrive(gauth)\n",
        "\n",
        "\n",
        "# Create & upload a file.\n",
        "uploaded = drive.CreateFile({'title': 'comments.csv'})\n",
        "uploaded.SetContentFile('comments.csv')\n",
        "uploaded.Upload()\n",
        "print('Uploaded file with ID {}'.format(uploaded.get('id')))\n",
        "\n",
        "uploaded = drive.CreateFile({'title': 'labels.csv'})\n",
        "uploaded.SetContentFile('labels.csv')\n",
        "uploaded.Upload()\n",
        "print('Uploaded file with ID {}'.format(uploaded.get('id')))"
      ],
      "execution_count": 16,
      "outputs": [
        {
          "output_type": "stream",
          "text": [
            "\u001b[?25l\r\u001b[K    1% |▎                               | 10kB 17.2MB/s eta 0:00:01\r\u001b[K    2% |▋                               | 20kB 1.3MB/s eta 0:00:01\r\u001b[K    3% |█                               | 30kB 1.9MB/s eta 0:00:01\r\u001b[K    4% |█▎                              | 40kB 1.2MB/s eta 0:00:01\r\u001b[K    5% |█▋                              | 51kB 1.5MB/s eta 0:00:01\r\u001b[K    6% |██                              | 61kB 1.8MB/s eta 0:00:01\r\u001b[K    7% |██▎                             | 71kB 2.1MB/s eta 0:00:01\r\u001b[K    8% |██▋                             | 81kB 2.3MB/s eta 0:00:01\r\u001b[K    9% |███                             | 92kB 2.6MB/s eta 0:00:01\r\u001b[K    10% |███▎                            | 102kB 2.0MB/s eta 0:00:01\r\u001b[K    11% |███▋                            | 112kB 2.0MB/s eta 0:00:01\r\u001b[K    12% |████                            | 122kB 2.9MB/s eta 0:00:01\r\u001b[K    13% |████▎                           | 133kB 2.9MB/s eta 0:00:01\r\u001b[K    14% |████▋                           | 143kB 5.5MB/s eta 0:00:01\r\u001b[K    15% |█████                           | 153kB 5.5MB/s eta 0:00:01\r\u001b[K    16% |█████▎                          | 163kB 5.6MB/s eta 0:00:01\r\u001b[K    17% |█████▋                          | 174kB 5.6MB/s eta 0:00:01\r\u001b[K    18% |██████                          | 184kB 5.6MB/s eta 0:00:01\r\u001b[K    19% |██████▎                         | 194kB 5.6MB/s eta 0:00:01\r\u001b[K    20% |██████▋                         | 204kB 39.6MB/s eta 0:00:01\r\u001b[K    21% |███████                         | 215kB 5.9MB/s eta 0:00:01\r\u001b[K    22% |███████▎                        | 225kB 5.9MB/s eta 0:00:01\r\u001b[K    23% |███████▋                        | 235kB 6.0MB/s eta 0:00:01\r\u001b[K    24% |████████                        | 245kB 5.9MB/s eta 0:00:01\r\u001b[K    25% |████████▎                       | 256kB 5.9MB/s eta 0:00:01\r\u001b[K    26% |████████▋                       | 266kB 5.8MB/s eta 0:00:01\r\u001b[K    27% |█████████                       | 276kB 5.9MB/s eta 0:00:01\r\u001b[K    29% |█████████▎                      | 286kB 5.8MB/s eta 0:00:01\r\u001b[K    30% |█████████▋                      | 296kB 5.8MB/s eta 0:00:01\r\u001b[K    31% |██████████                      | 307kB 6.0MB/s eta 0:00:01\r\u001b[K    32% |██████████▎                     | 317kB 46.8MB/s eta 0:00:01\r\u001b[K    33% |██████████▋                     | 327kB 51.2MB/s eta 0:00:01\r\u001b[K    34% |███████████                     | 337kB 53.3MB/s eta 0:00:01\r\u001b[K    35% |███████████▎                    | 348kB 46.5MB/s eta 0:00:01\r\u001b[K    36% |███████████▋                    | 358kB 46.6MB/s eta 0:00:01\r\u001b[K    37% |████████████                    | 368kB 56.2MB/s eta 0:00:01\r\u001b[K    38% |████████████▎                   | 378kB 56.2MB/s eta 0:00:01\r\u001b[K    39% |████████████▋                   | 389kB 57.1MB/s eta 0:00:01\r\u001b[K    40% |█████████████                   | 399kB 6.7MB/s eta 0:00:01\r\u001b[K    41% |█████████████▎                  | 409kB 6.6MB/s eta 0:00:01\r\u001b[K    42% |█████████████▋                  | 419kB 6.5MB/s eta 0:00:01\r\u001b[K    43% |██████████████                  | 430kB 6.5MB/s eta 0:00:01\r\u001b[K    44% |██████████████▎                 | 440kB 6.5MB/s eta 0:00:01\r\u001b[K    45% |██████████████▋                 | 450kB 6.4MB/s eta 0:00:01\r\u001b[K    46% |███████████████                 | 460kB 6.4MB/s eta 0:00:01\r\u001b[K    47% |███████████████▎                | 471kB 6.4MB/s eta 0:00:01\r\u001b[K    48% |███████████████▋                | 481kB 6.4MB/s eta 0:00:01\r\u001b[K    49% |████████████████                | 491kB 6.4MB/s eta 0:00:01\r\u001b[K    50% |████████████████▎               | 501kB 42.3MB/s eta 0:00:01\r\u001b[K    51% |████████████████▋               | 512kB 42.0MB/s eta 0:00:01\r\u001b[K    52% |█████████████████               | 522kB 43.2MB/s eta 0:00:01\r\u001b[K    53% |█████████████████▎              | 532kB 44.9MB/s eta 0:00:01\r\u001b[K    54% |█████████████████▋              | 542kB 44.1MB/s eta 0:00:01\r\u001b[K    55% |██████████████████              | 552kB 54.9MB/s eta 0:00:01\r\u001b[K    57% |██████████████████▎             | 563kB 58.5MB/s eta 0:00:01\r\u001b[K    58% |██████████████████▋             | 573kB 58.5MB/s eta 0:00:01\r\u001b[K    59% |███████████████████             | 583kB 59.3MB/s eta 0:00:01\r\u001b[K    60% |███████████████████▎            | 593kB 60.1MB/s eta 0:00:01\r\u001b[K    61% |███████████████████▋            | 604kB 61.2MB/s eta 0:00:01\r\u001b[K    62% |████████████████████            | 614kB 72.6MB/s eta 0:00:01\r\u001b[K    63% |████████████████████▎           | 624kB 72.0MB/s eta 0:00:01\r\u001b[K    64% |████████████████████▋           | 634kB 72.4MB/s eta 0:00:01\r\u001b[K    65% |█████████████████████           | 645kB 74.7MB/s eta 0:00:01\r\u001b[K    66% |█████████████████████▎          | 655kB 75.6MB/s eta 0:00:01\r\u001b[K    67% |█████████████████████▋          | 665kB 51.0MB/s eta 0:00:01\r\u001b[K    68% |██████████████████████          | 675kB 50.3MB/s eta 0:00:01\r\u001b[K    69% |██████████████████████▎         | 686kB 50.5MB/s eta 0:00:01\r\u001b[K    70% |██████████████████████▋         | 696kB 49.8MB/s eta 0:00:01\r\u001b[K    71% |███████████████████████         | 706kB 49.2MB/s eta 0:00:01\r\u001b[K    72% |███████████████████████▎        | 716kB 49.1MB/s eta 0:00:01\r\u001b[K    73% |███████████████████████▋        | 727kB 49.4MB/s eta 0:00:01\r\u001b[K    74% |████████████████████████        | 737kB 49.4MB/s eta 0:00:01\r\u001b[K    75% |████████████████████████▎       | 747kB 49.9MB/s eta 0:00:01\r\u001b[K    76% |████████████████████████▋       | 757kB 49.9MB/s eta 0:00:01\r\u001b[K    77% |████████████████████████▉       | 768kB 74.2MB/s eta 0:00:01\r\u001b[K    78% |█████████████████████████▏      | 778kB 77.0MB/s eta 0:00:01\r\u001b[K    79% |█████████████████████████▌      | 788kB 73.4MB/s eta 0:00:01\r\u001b[K    80% |█████████████████████████▉      | 798kB 71.4MB/s eta 0:00:01\r\u001b[K    81% |██████████████████████████▏     | 808kB 69.7MB/s eta 0:00:01\r\u001b[K    82% |██████████████████████████▌     | 819kB 9.2MB/s eta 0:00:01\r\u001b[K    83% |██████████████████████████▉     | 829kB 9.1MB/s eta 0:00:01\r\u001b[K    85% |███████████████████████████▏    | 839kB 9.0MB/s eta 0:00:01\r\u001b[K    86% |███████████████████████████▌    | 849kB 9.0MB/s eta 0:00:01\r\u001b[K    87% |███████████████████████████▉    | 860kB 8.6MB/s eta 0:00:01\r\u001b[K    88% |████████████████████████████▏   | 870kB 8.6MB/s eta 0:00:01\r\u001b[K    89% |████████████████████████████▌   | 880kB 8.6MB/s eta 0:00:01\r\u001b[K    90% |████████████████████████████▉   | 890kB 8.6MB/s eta 0:00:01\r\u001b[K    91% |█████████████████████████████▏  | 901kB 8.7MB/s eta 0:00:01\r\u001b[K    92% |█████████████████████████████▌  | 911kB 8.7MB/s eta 0:00:01\r\u001b[K    93% |█████████████████████████████▉  | 921kB 49.0MB/s eta 0:00:01\r\u001b[K    94% |██████████████████████████████▏ | 931kB 52.5MB/s eta 0:00:01\r\u001b[K    95% |██████████████████████████████▌ | 942kB 55.1MB/s eta 0:00:01\r\u001b[K    96% |██████████████████████████████▉ | 952kB 56.4MB/s eta 0:00:01\r\u001b[K    97% |███████████████████████████████▏| 962kB 75.6MB/s eta 0:00:01\r\u001b[K    98% |███████████████████████████████▌| 972kB 78.3MB/s eta 0:00:01\r\u001b[K    99% |███████████████████████████████▉| 983kB 77.2MB/s eta 0:00:01\r\u001b[K    100% |████████████████████████████████| 993kB 18.4MB/s \n",
            "\u001b[?25h  Building wheel for PyDrive (setup.py) ... \u001b[?25ldone\n",
            "\u001b[?25hUploaded file with ID 1wgsALhrL8FPOKiZqvZR5vb_DnOiZzDea\n",
            "Uploaded file with ID 1ZI0nDo8-pMbOPhY-1-7s-SceWc5JXf2z\n"
          ],
          "name": "stdout"
        }
      ]
    },
    {
      "metadata": {
        "id": "B3IulY8WaPFV",
        "colab_type": "text"
      },
      "cell_type": "markdown",
      "source": [
        "Sample to how to read it after to directly use in the models."
      ]
    },
    {
      "metadata": {
        "id": "nVxaRu87XktJ",
        "colab_type": "code",
        "colab": {}
      },
      "cell_type": "code",
      "source": [
        "# Upload comments.csv\n",
        "files.upload()\n",
        "# Upload labels.csv\n",
        "files.upload()"
      ],
      "execution_count": 0,
      "outputs": []
    },
    {
      "metadata": {
        "id": "0rYyVs0waMdg",
        "colab_type": "code",
        "colab": {}
      },
      "cell_type": "code",
      "source": [
        "# no header in X\n",
        "X = pd.read_csv('comments.csv', header=None)\n",
        "y = pd.read_csv('labels.csv')"
      ],
      "execution_count": 0,
      "outputs": []
    }
  ]
}