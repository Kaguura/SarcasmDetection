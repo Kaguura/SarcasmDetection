{
 "cells": [
  {
   "cell_type": "code",
   "execution_count": 1,
   "metadata": {},
   "outputs": [
    {
     "name": "stderr",
     "output_type": "stream",
     "text": [
      "[nltk_data] Downloading package stopwords to /Users/asel/nltk_data...\n",
      "[nltk_data]   Package stopwords is already up-to-date!\n",
      "[nltk_data] Downloading package punkt to /Users/asel/nltk_data...\n",
      "[nltk_data]   Package punkt is already up-to-date!\n"
     ]
    },
    {
     "data": {
      "text/plain": [
       "True"
      ]
     },
     "execution_count": 1,
     "metadata": {},
     "output_type": "execute_result"
    }
   ],
   "source": [
    "#@unpublished{SARC,\n",
    "#  authors={Mikhail Khodak and Nikunj Saunshi and Kiran Vodrahalli},\n",
    "#  title={A Large Self-Annotated Corpus for Sarcasm},\n",
    "#  url={https://arxiv.org/abs/1704.05579},\n",
    "#  year=2017\n",
    "#}\n",
    "#https://www.kaggle.com/danofer/sarcasm#train-balanced-sarcasm.csv\n",
    "import os\n",
    "import string\n",
    "import numpy as np\n",
    "import pandas as pd\n",
    "import nltk\n",
    "from nltk.corpus import stopwords\n",
    "nltk.download('stopwords')\n",
    "nltk.download('punkt')"
   ]
  },
  {
   "cell_type": "code",
   "execution_count": 2,
   "metadata": {},
   "outputs": [
    {
     "name": "stdout",
     "output_type": "stream",
     "text": [
      "Type:\n",
      "Labels array  <class 'pandas.core.series.Series'>\n",
      "Comments array  <class 'pandas.core.series.Series'>\n",
      "one comment line  <class 'str'>\n",
      "Shape:\n",
      "Labels array  (1010773,)\n",
      "Comments array  (1010773,)\n",
      "Two first entries:\n",
      "0 NC and NH.\n",
      "0 You do know west teams play against west teams more than east teams right?\n"
     ]
    }
   ],
   "source": [
    "# df - data frame\n",
    "df = pd.read_csv('../train-balanced-sarcasm.csv')\n",
    "# dropping empty comment entries\n",
    "df.dropna(subset=['comment'], inplace=True)\n",
    "\n",
    "print('Type:')\n",
    "print('Labels array ',type(df.label))\n",
    "print('Comments array ',type(df.comment))\n",
    "print('one comment line ', type(df.comment[0]))\n",
    "print('Shape:')\n",
    "print('Labels array ',df.label.shape)\n",
    "print('Comments array ',df.comment.shape)\n",
    "print('Two first entries:')\n",
    "print (df.label[0], df.comment[0])\n",
    "print (df.label[1], df.comment[1])"
   ]
  },
  {
   "cell_type": "code",
   "execution_count": 3,
   "metadata": {},
   "outputs": [
    {
     "name": "stdout",
     "output_type": "stream",
     "text": [
      "167435\n"
     ]
    }
   ],
   "source": [
    "from sklearn.feature_extraction.text import TfidfVectorizer\n",
    "# create the transform\n",
    "tf_idf_vectorizer = TfidfVectorizer()\n",
    "# tokenize and build vocab\n",
    "T = tf_idf_vectorizer.fit(df.comment)\n",
    "print(len(T.vocabulary_))"
   ]
  },
  {
   "cell_type": "code",
   "execution_count": 4,
   "metadata": {},
   "outputs": [],
   "source": [
    "# preprocess with nltk\n",
    "def my_tokenizer(corpus):\n",
    "    corpus_tokenized = []\n",
    "    tokenizer = nltk.tokenize.RegexpTokenizer(r'\\w+')\n",
    "    sbs = nltk.stem.SnowballStemmer('english', ignore_stopwords=False)\n",
    "    for comment in corpus:\n",
    "        words = tokenizer.tokenize(comment)\n",
    "        # Remove stop words\n",
    "        stop_words = set(stopwords.words('english'))\n",
    "        words = [word for word in words if not word in stop_words]\n",
    "        \n",
    "        cmnt_t = []\n",
    "        for token in words:\n",
    "            cmnt_t.append(sbs.stem(token))\n",
    "            # make a string to be compatible with TfidfVectorizer\n",
    "            c = ' '.join(cmnt_t)\n",
    "        # Lemmitize\n",
    "        #words = [lemmatizer.lemmatize(word) for word in words]\n",
    "        \n",
    "        corpus_tokenized.append(c)\n",
    "    return corpus_tokenized"
   ]
  },
  {
   "cell_type": "code",
   "execution_count": 5,
   "metadata": {},
   "outputs": [],
   "source": [
    "df2 = my_tokenizer(df.comment)"
   ]
  },
  {
   "cell_type": "code",
   "execution_count": 6,
   "metadata": {},
   "outputs": [
    {
     "name": "stdout",
     "output_type": "stream",
     "text": [
      "NC and NH.\n",
      "nc nh \n",
      "\n",
      "You do know west teams play against west teams more than east teams right?\n",
      "you know west team play west team east team right \n",
      "\n",
      "They were underdogs earlier today, but since Gronk's announcement this afternoon, the Vegas line has moved to patriots -1\n",
      "they underdog earlier today sinc gronk announc afternoon vega line move patriot 1 \n",
      "\n",
      "This meme isn't funny none of the \"new york nigga\" ones are.\n",
      "this meme funni none new york nigga one \n",
      "\n",
      "I could use one of those tools.\n",
      "i could use one tool \n",
      "\n",
      "I don't pay attention to her, but as long as she's legal I wouldn't kick her out of bed (before she took a load)\n",
      "i pay attent long legal i kick bed took load \n",
      "\n",
      "Trick or treating in general is just weird...\n",
      "trick treat general weird \n",
      "\n",
      "Blade Mastery+Masamune or GTFO!\n",
      "blade masteri masamun gtfo \n",
      "\n",
      "You don't have to, you have a good build, buy games or save it\n",
      "you good build buy game save \n",
      "\n",
      "I would love to see him at lolla.\n",
      "i would love see lolla \n",
      "\n"
     ]
    }
   ],
   "source": [
    "for i in range(10):\n",
    "    print(df.comment[i])\n",
    "    print(df2[i], '\\n')"
   ]
  },
  {
   "cell_type": "code",
   "execution_count": 7,
   "metadata": {},
   "outputs": [
    {
     "name": "stdout",
     "output_type": "stream",
     "text": [
      "['nc nh', 'you know west team play west team east team right', 'they underdog earlier today sinc gronk announc afternoon vega line move patriot 1', 'this meme funni none new york nigga one', 'i could use one tool'] \n",
      "\n",
      "<class 'pandas.core.series.Series'> \n",
      "\n",
      "<class 'str'>\n",
      "0                                                nc nh\n",
      "1    you know west team play west team east team right\n",
      "2    they underdog earlier today sinc gronk announc...\n",
      "3              this meme funni none new york nigga one\n",
      "4                                 i could use one tool\n",
      "dtype: object\n"
     ]
    }
   ],
   "source": [
    "print(df2[0:5], '\\n')\n",
    "# convert to pandas Series type type to be compatible with TfidfVectorizer\n",
    "df3 = pd.Series((v for v in df2))\n",
    "print(type(df3), '\\n')\n",
    "print(type(df3[0]))\n",
    "print(df3[0:5])"
   ]
  },
  {
   "cell_type": "code",
   "execution_count": 8,
   "metadata": {},
   "outputs": [
    {
     "name": "stdout",
     "output_type": "stream",
     "text": [
      "131021\n"
     ]
    }
   ],
   "source": [
    "tf_idf_vectorizer2 = TfidfVectorizer()\n",
    "T2 = tf_idf_vectorizer2.fit(df3)\n",
    "print(len(T2.vocabulary_))"
   ]
  },
  {
   "cell_type": "markdown",
   "metadata": {},
   "source": [
    "167435 features from before now reduced to 131022 features, that is about 22%"
   ]
  },
  {
   "cell_type": "code",
   "execution_count": 18,
   "metadata": {},
   "outputs": [
    {
     "name": "stderr",
     "output_type": "stream",
     "text": [
      "/anaconda3/lib/python3.7/site-packages/sklearn/model_selection/_split.py:2179: FutureWarning: From version 0.21, test_size will always complement train_size unless both are specified.\n",
      "  FutureWarning)\n"
     ]
    }
   ],
   "source": [
    "from sklearn.model_selection import train_test_split\n",
    "# divide into train and test sets\n",
    "X_train, X_test, y_train, y_test = train_test_split(df.comment, df.label, train_size=0.33)"
   ]
  },
  {
   "cell_type": "code",
   "execution_count": 19,
   "metadata": {},
   "outputs": [
    {
     "name": "stdout",
     "output_type": "stream",
     "text": [
      "(333555, 131021)\n",
      "  (0, 114778)\t0.2334939475344019\n",
      "  (0, 102935)\t0.5677332522023989\n",
      "  (0, 84472)\t0.22282278344663098\n",
      "  (0, 83478)\t0.27529710484178005\n",
      "  (0, 60384)\t0.30468182380446995\n",
      "  (0, 30995)\t0.5934644037853228\n",
      "  (0, 21924)\t0.22954308905787657\n",
      "  (1, 115136)\t0.2284741761173503\n",
      "  (1, 114778)\t0.19298844528743025\n",
      "  (1, 95230)\t0.33542329444018865\n",
      "  (1, 61783)\t0.3039260641598386\n",
      "  (1, 56525)\t0.24137101127713298\n",
      "  (1, 44898)\t0.289972082570119\n",
      "  (1, 42787)\t0.24238170379244572\n",
      "  (1, 32650)\t0.4204493472434724\n",
      "  (1, 25744)\t0.3534429208489977\n",
      "  (1, 12075)\t0.278175774258411\n",
      "  (1, 7590)\t0.3542614776346883\n",
      "  (2, 101473)\t0.7029704241989476\n",
      "  (2, 75344)\t0.6817627300723437\n",
      "  (2, 68870)\t0.20256397158886882\n"
     ]
    }
   ],
   "source": [
    "# Vetorize the training data set\n",
    "X_train = tf_idf_vectorizer2.transform(X_train)\n",
    "print(X_train.shape)\n",
    "print(X_train[0:3])"
   ]
  },
  {
   "cell_type": "code",
   "execution_count": 20,
   "metadata": {},
   "outputs": [
    {
     "name": "stdout",
     "output_type": "stream",
     "text": [
      "(677218, 131021)\n",
      "  (0, 129066)\t0.22166608712200553\n",
      "  (0, 123953)\t0.3295551274578615\n",
      "  (0, 82633)\t0.3632277947927076\n",
      "  (0, 72174)\t0.2764799124558602\n",
      "  (0, 70172)\t0.37626630689607005\n",
      "  (0, 60384)\t0.31897725569178426\n",
      "  (0, 49674)\t0.24421637791368989\n",
      "  (0, 44898)\t0.3672938685479092\n",
      "  (0, 17256)\t0.27717811021565053\n",
      "  (0, 9708)\t0.34523186068774\n",
      "  (1, 129631)\t0.37260552473816205\n",
      "  (1, 95634)\t0.741786536583155\n",
      "  (1, 82407)\t0.2496975558846948\n",
      "  (1, 81766)\t0.21767408314268974\n",
      "  (1, 75520)\t0.4485387176061454\n",
      "  (2, 127590)\t0.5287348428366397\n",
      "  (2, 100229)\t0.4211753755497816\n",
      "  (2, 84817)\t0.4372026276829753\n",
      "  (2, 82407)\t0.42255716974413754\n",
      "  (2, 17160)\t0.4163532990693601\n"
     ]
    }
   ],
   "source": [
    "# Vetorize the test data set\n",
    "X_test = tf_idf_vectorizer2.transform(X_test)\n",
    "print(X_test.shape)\n",
    "print(X_test[0:3])"
   ]
  },
  {
   "cell_type": "code",
   "execution_count": 22,
   "metadata": {},
   "outputs": [
    {
     "name": "stdout",
     "output_type": "stream",
     "text": [
      "oob_score is  0.6562306066465801\n"
     ]
    }
   ],
   "source": [
    "from sklearn.linear_model import LogisticRegression\n",
    "from sklearn.ensemble import BaggingClassifier\n",
    "\n",
    "# bagging with Logistic Regressoin\n",
    "# oob Out-Of-Bag\n",
    "bag_log_reg = BaggingClassifier(\n",
    "      LogisticRegression(), n_estimators=50,\n",
    "    max_samples=50000, bootstrap=True, n_jobs=-1, oob_score=True)\n",
    "\n",
    "bag_log_reg.fit(X_train,y_train)\n",
    "print('oob_score is ', bag_log_reg.oob_score_)"
   ]
  },
  {
   "cell_type": "code",
   "execution_count": 23,
   "metadata": {},
   "outputs": [
    {
     "name": "stdout",
     "output_type": "stream",
     "text": [
      "oob_score is  0.6509691055448127\n"
     ]
    }
   ],
   "source": [
    "from sklearn.ensemble import RandomForestClassifier\n",
    "\n",
    "rnd_frst = RandomForestClassifier(n_estimators=200, min_samples_leaf=50, random_state=31, n_jobs = -1, oob_score=True)\n",
    "rnd_frst.fit(X_train, y_train)\n",
    "print('oob_score is ', rnd_frst.oob_score_)"
   ]
  },
  {
   "cell_type": "code",
   "execution_count": 24,
   "metadata": {},
   "outputs": [
    {
     "data": {
      "text/plain": [
       "0.6575209164552626"
      ]
     },
     "execution_count": 24,
     "metadata": {},
     "output_type": "execute_result"
    }
   ],
   "source": [
    "from sklearn.metrics import accuracy_score\n",
    "\n",
    "accuracy_score(y_test, bag_log_reg.predict(X_test))"
   ]
  },
  {
   "cell_type": "code",
   "execution_count": 25,
   "metadata": {},
   "outputs": [
    {
     "data": {
      "text/plain": [
       "0.6526775720668972"
      ]
     },
     "execution_count": 25,
     "metadata": {},
     "output_type": "execute_result"
    }
   ],
   "source": [
    "accuracy_score(y_test, rnd_frst.predict(X_test))"
   ]
  },
  {
   "cell_type": "code",
   "execution_count": 28,
   "metadata": {},
   "outputs": [
    {
     "name": "stdout",
     "output_type": "stream",
     "text": [
      "[0]\tvalidation_0-error:0.413851\tvalidation_0-logloss:0.68777\tvalidation_1-error:0.416305\tvalidation_1-logloss:0.69115\n",
      "[1]\tvalidation_0-error:0.405477\tvalidation_0-logloss:0.683568\tvalidation_1-error:0.408481\tvalidation_1-logloss:0.687557\n",
      "[2]\tvalidation_0-error:0.39422\tvalidation_0-logloss:0.681793\tvalidation_1-error:0.397187\tvalidation_1-logloss:0.679756\n",
      "[3]\tvalidation_0-error:0.392319\tvalidation_0-logloss:0.67551\tvalidation_1-error:0.395148\tvalidation_1-logloss:0.674936\n",
      "[4]\tvalidation_0-error:0.390014\tvalidation_0-logloss:0.674582\tvalidation_1-error:0.3929\tvalidation_1-logloss:0.673854\n",
      "[5]\tvalidation_0-error:0.391249\tvalidation_0-logloss:0.67102\tvalidation_1-error:0.3947\tvalidation_1-logloss:0.674602\n",
      "[6]\tvalidation_0-error:0.38987\tvalidation_0-logloss:0.66867\tvalidation_1-error:0.393392\tvalidation_1-logloss:0.672301\n",
      "[7]\tvalidation_0-error:0.384221\tvalidation_0-logloss:0.666242\tvalidation_1-error:0.388182\tvalidation_1-logloss:0.665669\n",
      "[8]\tvalidation_0-error:0.384203\tvalidation_0-logloss:0.663867\tvalidation_1-error:0.387549\tvalidation_1-logloss:0.663233\n",
      "[9]\tvalidation_0-error:0.380873\tvalidation_0-logloss:0.661461\tvalidation_1-error:0.384318\tvalidation_1-logloss:0.66203\n",
      "[10]\tvalidation_0-error:0.381406\tvalidation_0-logloss:0.660077\tvalidation_1-error:0.384709\tvalidation_1-logloss:0.662994\n",
      "[11]\tvalidation_0-error:0.38161\tvalidation_0-logloss:0.659218\tvalidation_1-error:0.385233\tvalidation_1-logloss:0.662275\n",
      "[12]\tvalidation_0-error:0.380906\tvalidation_0-logloss:0.656739\tvalidation_1-error:0.384535\tvalidation_1-logloss:0.659705\n",
      "[13]\tvalidation_0-error:0.380147\tvalidation_0-logloss:0.654999\tvalidation_1-error:0.383963\tvalidation_1-logloss:0.658759\n",
      "[14]\tvalidation_0-error:0.377833\tvalidation_0-logloss:0.655068\tvalidation_1-error:0.381979\tvalidation_1-logloss:0.655579\n",
      "[15]\tvalidation_0-error:0.376553\tvalidation_0-logloss:0.653287\tvalidation_1-error:0.380581\tvalidation_1-logloss:0.654302\n",
      "[16]\tvalidation_0-error:0.375599\tvalidation_0-logloss:0.65223\tvalidation_1-error:0.379774\tvalidation_1-logloss:0.653269\n",
      "[17]\tvalidation_0-error:0.372814\tvalidation_0-logloss:0.650077\tvalidation_1-error:0.377124\tvalidation_1-logloss:0.651094\n",
      "[18]\tvalidation_0-error:0.371483\tvalidation_0-logloss:0.648859\tvalidation_1-error:0.376096\tvalidation_1-logloss:0.652204\n",
      "[19]\tvalidation_0-error:0.370661\tvalidation_0-logloss:0.647677\tvalidation_1-error:0.375181\tvalidation_1-logloss:0.651352\n",
      "[20]\tvalidation_0-error:0.369576\tvalidation_0-logloss:0.647082\tvalidation_1-error:0.374357\tvalidation_1-logloss:0.65055\n",
      "[21]\tvalidation_0-error:0.368407\tvalidation_0-logloss:0.646109\tvalidation_1-error:0.373295\tvalidation_1-logloss:0.649815\n",
      "[22]\tvalidation_0-error:0.367247\tvalidation_0-logloss:0.646035\tvalidation_1-error:0.37243\tvalidation_1-logloss:0.649756\n",
      "[23]\tvalidation_0-error:0.36677\tvalidation_0-logloss:0.644836\tvalidation_1-error:0.372075\tvalidation_1-logloss:0.648954\n",
      "[24]\tvalidation_0-error:0.366048\tvalidation_0-logloss:0.644071\tvalidation_1-error:0.371386\tvalidation_1-logloss:0.648244\n",
      "[25]\tvalidation_0-error:0.365949\tvalidation_0-logloss:0.641951\tvalidation_1-error:0.371114\tvalidation_1-logloss:0.646589\n",
      "[26]\tvalidation_0-error:0.364875\tvalidation_0-logloss:0.64125\tvalidation_1-error:0.370116\tvalidation_1-logloss:0.645965\n",
      "[27]\tvalidation_0-error:0.365094\tvalidation_0-logloss:0.640883\tvalidation_1-error:0.370331\tvalidation_1-logloss:0.645429\n",
      "[28]\tvalidation_0-error:0.364648\tvalidation_0-logloss:0.639827\tvalidation_1-error:0.369832\tvalidation_1-logloss:0.644642\n",
      "[29]\tvalidation_0-error:0.363595\tvalidation_0-logloss:0.639144\tvalidation_1-error:0.369289\tvalidation_1-logloss:0.643898\n",
      "[30]\tvalidation_0-error:0.363122\tvalidation_0-logloss:0.639344\tvalidation_1-error:0.368927\tvalidation_1-logloss:0.644205\n",
      "[31]\tvalidation_0-error:0.362876\tvalidation_0-logloss:0.638681\tvalidation_1-error:0.368748\tvalidation_1-logloss:0.641314\n",
      "[32]\tvalidation_0-error:0.361329\tvalidation_0-logloss:0.638143\tvalidation_1-error:0.367377\tvalidation_1-logloss:0.641019\n",
      "[33]\tvalidation_0-error:0.361545\tvalidation_0-logloss:0.637707\tvalidation_1-error:0.367846\tvalidation_1-logloss:0.640621\n",
      "[34]\tvalidation_0-error:0.360744\tvalidation_0-logloss:0.637055\tvalidation_1-error:0.367162\tvalidation_1-logloss:0.640055\n",
      "[35]\tvalidation_0-error:0.359701\tvalidation_0-logloss:0.636009\tvalidation_1-error:0.366242\tvalidation_1-logloss:0.640883\n",
      "[36]\tvalidation_0-error:0.358903\tvalidation_0-logloss:0.63564\tvalidation_1-error:0.365916\tvalidation_1-logloss:0.640464\n",
      "[37]\tvalidation_0-error:0.358586\tvalidation_0-logloss:0.634959\tvalidation_1-error:0.365574\tvalidation_1-logloss:0.63981\n",
      "[38]\tvalidation_0-error:0.358511\tvalidation_0-logloss:0.634735\tvalidation_1-error:0.365396\tvalidation_1-logloss:0.639557\n",
      "[39]\tvalidation_0-error:0.358319\tvalidation_0-logloss:0.63339\tvalidation_1-error:0.365074\tvalidation_1-logloss:0.638488\n",
      "[40]\tvalidation_0-error:0.357776\tvalidation_0-logloss:0.632868\tvalidation_1-error:0.364493\tvalidation_1-logloss:0.638071\n",
      "[41]\tvalidation_0-error:0.357413\tvalidation_0-logloss:0.632983\tvalidation_1-error:0.364171\tvalidation_1-logloss:0.638137\n",
      "[42]\tvalidation_0-error:0.35658\tvalidation_0-logloss:0.632335\tvalidation_1-error:0.36352\tvalidation_1-logloss:0.637534\n",
      "[43]\tvalidation_0-error:0.355648\tvalidation_0-logloss:0.631929\tvalidation_1-error:0.363133\tvalidation_1-logloss:0.637161\n",
      "[44]\tvalidation_0-error:0.355309\tvalidation_0-logloss:0.631256\tvalidation_1-error:0.36278\tvalidation_1-logloss:0.636629\n",
      "[45]\tvalidation_0-error:0.354667\tvalidation_0-logloss:0.630781\tvalidation_1-error:0.362356\tvalidation_1-logloss:0.636271\n",
      "[46]\tvalidation_0-error:0.354478\tvalidation_0-logloss:0.630308\tvalidation_1-error:0.36223\tvalidation_1-logloss:0.636095\n",
      "[47]\tvalidation_0-error:0.354071\tvalidation_0-logloss:0.629765\tvalidation_1-error:0.361631\tvalidation_1-logloss:0.635686\n",
      "[48]\tvalidation_0-error:0.353894\tvalidation_0-logloss:0.629339\tvalidation_1-error:0.361488\tvalidation_1-logloss:0.635351\n",
      "[49]\tvalidation_0-error:0.353312\tvalidation_0-logloss:0.628864\tvalidation_1-error:0.361144\tvalidation_1-logloss:0.635037\n",
      "[50]\tvalidation_0-error:0.352952\tvalidation_0-logloss:0.628482\tvalidation_1-error:0.361008\tvalidation_1-logloss:0.634583\n",
      "[51]\tvalidation_0-error:0.352679\tvalidation_0-logloss:0.628082\tvalidation_1-error:0.360965\tvalidation_1-logloss:0.634244\n",
      "[52]\tvalidation_0-error:0.352134\tvalidation_0-logloss:0.627552\tvalidation_1-error:0.36068\tvalidation_1-logloss:0.633864\n",
      "[53]\tvalidation_0-error:0.351402\tvalidation_0-logloss:0.627399\tvalidation_1-error:0.360265\tvalidation_1-logloss:0.633676\n",
      "[54]\tvalidation_0-error:0.350422\tvalidation_0-logloss:0.62671\tvalidation_1-error:0.359353\tvalidation_1-logloss:0.633329\n",
      "[55]\tvalidation_0-error:0.349361\tvalidation_0-logloss:0.626047\tvalidation_1-error:0.358353\tvalidation_1-logloss:0.632814\n",
      "[56]\tvalidation_0-error:0.349139\tvalidation_0-logloss:0.625607\tvalidation_1-error:0.358179\tvalidation_1-logloss:0.632489\n",
      "[57]\tvalidation_0-error:0.348857\tvalidation_0-logloss:0.625806\tvalidation_1-error:0.357978\tvalidation_1-logloss:0.63269\n",
      "[58]\tvalidation_0-error:0.348446\tvalidation_0-logloss:0.624902\tvalidation_1-error:0.357582\tvalidation_1-logloss:0.631904\n",
      "[59]\tvalidation_0-error:0.347916\tvalidation_0-logloss:0.625062\tvalidation_1-error:0.357065\tvalidation_1-logloss:0.632105\n",
      "[60]\tvalidation_0-error:0.34752\tvalidation_0-logloss:0.624723\tvalidation_1-error:0.35678\tvalidation_1-logloss:0.631834\n",
      "[61]\tvalidation_0-error:0.346764\tvalidation_0-logloss:0.624418\tvalidation_1-error:0.356418\tvalidation_1-logloss:0.631575\n",
      "[62]\tvalidation_0-error:0.346668\tvalidation_0-logloss:0.624086\tvalidation_1-error:0.356318\tvalidation_1-logloss:0.631281\n",
      "[63]\tvalidation_0-error:0.346072\tvalidation_0-logloss:0.62383\tvalidation_1-error:0.356002\tvalidation_1-logloss:0.631045\n",
      "[64]\tvalidation_0-error:0.345583\tvalidation_0-logloss:0.62348\tvalidation_1-error:0.35572\tvalidation_1-logloss:0.630753\n",
      "[65]\tvalidation_0-error:0.345196\tvalidation_0-logloss:0.622285\tvalidation_1-error:0.355351\tvalidation_1-logloss:0.629746\n",
      "[66]\tvalidation_0-error:0.344999\tvalidation_0-logloss:0.622018\tvalidation_1-error:0.355185\tvalidation_1-logloss:0.629575\n",
      "[67]\tvalidation_0-error:0.344708\tvalidation_0-logloss:0.621728\tvalidation_1-error:0.354865\tvalidation_1-logloss:0.629238\n",
      "[68]\tvalidation_0-error:0.344126\tvalidation_0-logloss:0.621614\tvalidation_1-error:0.354617\tvalidation_1-logloss:0.629126\n"
     ]
    },
    {
     "name": "stdout",
     "output_type": "stream",
     "text": [
      "[69]\tvalidation_0-error:0.343799\tvalidation_0-logloss:0.621251\tvalidation_1-error:0.354344\tvalidation_1-logloss:0.62888\n",
      "[70]\tvalidation_0-error:0.34356\tvalidation_0-logloss:0.621064\tvalidation_1-error:0.35409\tvalidation_1-logloss:0.628605\n",
      "[71]\tvalidation_0-error:0.343374\tvalidation_0-logloss:0.620349\tvalidation_1-error:0.353975\tvalidation_1-logloss:0.628176\n",
      "[72]\tvalidation_0-error:0.343197\tvalidation_0-logloss:0.620032\tvalidation_1-error:0.353786\tvalidation_1-logloss:0.62902\n",
      "[73]\tvalidation_0-error:0.343068\tvalidation_0-logloss:0.619661\tvalidation_1-error:0.353583\tvalidation_1-logloss:0.628831\n",
      "[74]\tvalidation_0-error:0.342894\tvalidation_0-logloss:0.619553\tvalidation_1-error:0.353502\tvalidation_1-logloss:0.628628\n",
      "[75]\tvalidation_0-error:0.342504\tvalidation_0-logloss:0.619305\tvalidation_1-error:0.353164\tvalidation_1-logloss:0.6267\n",
      "[76]\tvalidation_0-error:0.341848\tvalidation_0-logloss:0.619039\tvalidation_1-error:0.352801\tvalidation_1-logloss:0.62651\n",
      "[77]\tvalidation_0-error:0.341221\tvalidation_0-logloss:0.618754\tvalidation_1-error:0.352439\tvalidation_1-logloss:0.626297\n",
      "[78]\tvalidation_0-error:0.340969\tvalidation_0-logloss:0.618445\tvalidation_1-error:0.352322\tvalidation_1-logloss:0.6261\n",
      "[79]\tvalidation_0-error:0.3409\tvalidation_0-logloss:0.618629\tvalidation_1-error:0.352328\tvalidation_1-logloss:0.626305\n",
      "[80]\tvalidation_0-error:0.340517\tvalidation_0-logloss:0.618328\tvalidation_1-error:0.352071\tvalidation_1-logloss:0.626097\n",
      "[81]\tvalidation_0-error:0.34025\tvalidation_0-logloss:0.618072\tvalidation_1-error:0.351879\tvalidation_1-logloss:0.625929\n",
      "[82]\tvalidation_0-error:0.34022\tvalidation_0-logloss:0.617842\tvalidation_1-error:0.35172\tvalidation_1-logloss:0.625765\n",
      "[83]\tvalidation_0-error:0.339938\tvalidation_0-logloss:0.61758\tvalidation_1-error:0.35147\tvalidation_1-logloss:0.625571\n",
      "[84]\tvalidation_0-error:0.339662\tvalidation_0-logloss:0.617398\tvalidation_1-error:0.351275\tvalidation_1-logloss:0.625456\n",
      "[85]\tvalidation_0-error:0.339473\tvalidation_0-logloss:0.61717\tvalidation_1-error:0.351088\tvalidation_1-logloss:0.625266\n",
      "[86]\tvalidation_0-error:0.339254\tvalidation_0-logloss:0.616817\tvalidation_1-error:0.350959\tvalidation_1-logloss:0.625068\n",
      "[87]\tvalidation_0-error:0.339164\tvalidation_0-logloss:0.616605\tvalidation_1-error:0.350686\tvalidation_1-logloss:0.624921\n",
      "[88]\tvalidation_0-error:0.338784\tvalidation_0-logloss:0.61602\tvalidation_1-error:0.350357\tvalidation_1-logloss:0.624531\n",
      "[89]\tvalidation_0-error:0.338574\tvalidation_0-logloss:0.615799\tvalidation_1-error:0.350273\tvalidation_1-logloss:0.624341\n",
      "[90]\tvalidation_0-error:0.338304\tvalidation_0-logloss:0.615545\tvalidation_1-error:0.350122\tvalidation_1-logloss:0.624193\n",
      "[91]\tvalidation_0-error:0.338289\tvalidation_0-logloss:0.61531\tvalidation_1-error:0.350002\tvalidation_1-logloss:0.623967\n",
      "[92]\tvalidation_0-error:0.33789\tvalidation_0-logloss:0.615244\tvalidation_1-error:0.349633\tvalidation_1-logloss:0.62392\n",
      "[93]\tvalidation_0-error:0.337641\tvalidation_0-logloss:0.615018\tvalidation_1-error:0.349493\tvalidation_1-logloss:0.623774\n",
      "[94]\tvalidation_0-error:0.337513\tvalidation_0-logloss:0.614737\tvalidation_1-error:0.349449\tvalidation_1-logloss:0.623601\n",
      "[95]\tvalidation_0-error:0.337219\tvalidation_0-logloss:0.614521\tvalidation_1-error:0.349226\tvalidation_1-logloss:0.623432\n",
      "[96]\tvalidation_0-error:0.33694\tvalidation_0-logloss:0.61426\tvalidation_1-error:0.348978\tvalidation_1-logloss:0.623273\n",
      "[97]\tvalidation_0-error:0.33673\tvalidation_0-logloss:0.614029\tvalidation_1-error:0.348839\tvalidation_1-logloss:0.623129\n",
      "[98]\tvalidation_0-error:0.336538\tvalidation_0-logloss:0.613791\tvalidation_1-error:0.348768\tvalidation_1-logloss:0.62295\n",
      "[99]\tvalidation_0-error:0.33605\tvalidation_0-logloss:0.613595\tvalidation_1-error:0.348558\tvalidation_1-logloss:0.622833\n"
     ]
    },
    {
     "data": {
      "text/plain": [
       "XGBClassifier(base_score=0.5, booster='gbtree', colsample_bylevel=1,\n",
       "       colsample_bytree=0.7025961627866093, eta=0.17370050434368975,\n",
       "       gamma=0, learning_rate=0.1, max_delta_step=0, max_depth=9,\n",
       "       min_child_weight=6, missing=None, n_estimators=100, n_jobs=1,\n",
       "       nthread=None, objective='binary:logistic', random_state=0,\n",
       "       reg_alpha=0, reg_lambda=1, scale_pos_weight=1, seed=None,\n",
       "       silent=True, subsample=0.5947331682504324)"
      ]
     },
     "execution_count": 28,
     "metadata": {},
     "output_type": "execute_result"
    }
   ],
   "source": [
    "from xgboost import XGBClassifier\n",
    "\n",
    "eval_set = [(X_train, y_train), (X_test, y_test)]\n",
    "params = {\n",
    "    'booster': 'gbtree',\n",
    "    'eta': np.random.uniform(.05,.2),\n",
    "    'min_child_weight': np.random.randint(3,7),\n",
    "    'max_depth': np.random.randint(3,10),\n",
    "    'subsample': np.random.uniform(.5,1),\n",
    "    'colsample_bytree': np.random.uniform(.5,1)\n",
    "}\n",
    "\n",
    "xgb = XGBClassifier(**params)\n",
    "xgb.fit(X_train, y_train, eval_metric=[\"error\", \"logloss\"], eval_set=eval_set)"
   ]
  },
  {
   "cell_type": "code",
   "execution_count": 29,
   "metadata": {},
   "outputs": [
    {
     "data": {
      "text/plain": [
       "0.6514416332702321"
      ]
     },
     "execution_count": 29,
     "metadata": {},
     "output_type": "execute_result"
    }
   ],
   "source": [
    "accuracy_score(y_test, xgb.predict(X_test))"
   ]
  },
  {
   "cell_type": "code",
   "execution_count": 30,
   "metadata": {},
   "outputs": [
    {
     "name": "stdout",
     "output_type": "stream",
     "text": [
      "[0]\tvalidation_0-error:0.498506\tvalidation_0-logloss:0.691342\tvalidation_1-error:0.500763\tvalidation_1-logloss:0.689393\n",
      "[1]\tvalidation_0-error:0.498506\tvalidation_0-logloss:0.691335\tvalidation_1-error:0.500763\tvalidation_1-logloss:0.68939\n",
      "[2]\tvalidation_0-error:0.498506\tvalidation_0-logloss:0.691293\tvalidation_1-error:0.500763\tvalidation_1-logloss:0.689369\n",
      "[3]\tvalidation_0-error:0.498506\tvalidation_0-logloss:0.691256\tvalidation_1-error:0.500763\tvalidation_1-logloss:0.68935\n",
      "[4]\tvalidation_0-error:0.498506\tvalidation_0-logloss:0.691264\tvalidation_1-error:0.500763\tvalidation_1-logloss:0.689355\n",
      "[5]\tvalidation_0-error:0.498506\tvalidation_0-logloss:0.69124\tvalidation_1-error:0.500763\tvalidation_1-logloss:0.689349\n",
      "[6]\tvalidation_0-error:0.498506\tvalidation_0-logloss:0.691063\tvalidation_1-error:0.500763\tvalidation_1-logloss:0.689267\n",
      "[7]\tvalidation_0-error:0.498506\tvalidation_0-logloss:0.690808\tvalidation_1-error:0.500763\tvalidation_1-logloss:0.68915\n",
      "[8]\tvalidation_0-error:0.498506\tvalidation_0-logloss:0.690634\tvalidation_1-error:0.500763\tvalidation_1-logloss:0.689083\n",
      "[9]\tvalidation_0-error:0.498506\tvalidation_0-logloss:0.690797\tvalidation_1-error:0.500763\tvalidation_1-logloss:0.689205\n",
      "[10]\tvalidation_0-error:0.498506\tvalidation_0-logloss:0.691144\tvalidation_1-error:0.500763\tvalidation_1-logloss:0.689438\n",
      "[11]\tvalidation_0-error:0.498506\tvalidation_0-logloss:0.69157\tvalidation_1-error:0.500763\tvalidation_1-logloss:0.689716\n",
      "[12]\tvalidation_0-error:0.498506\tvalidation_0-logloss:0.692047\tvalidation_1-error:0.500763\tvalidation_1-logloss:0.690027\n",
      "[13]\tvalidation_0-error:0.498506\tvalidation_0-logloss:0.692784\tvalidation_1-error:0.500763\tvalidation_1-logloss:0.690497\n",
      "[14]\tvalidation_0-error:0.498506\tvalidation_0-logloss:0.693084\tvalidation_1-error:0.500763\tvalidation_1-logloss:0.690694\n",
      "[15]\tvalidation_0-error:0.498506\tvalidation_0-logloss:0.693245\tvalidation_1-error:0.500763\tvalidation_1-logloss:0.690799\n",
      "[16]\tvalidation_0-error:0.498506\tvalidation_0-logloss:0.693342\tvalidation_1-error:0.500763\tvalidation_1-logloss:0.690864\n",
      "[17]\tvalidation_0-error:0.498506\tvalidation_0-logloss:0.693401\tvalidation_1-error:0.500763\tvalidation_1-logloss:0.690905\n",
      "[18]\tvalidation_0-error:0.498506\tvalidation_0-logloss:0.693443\tvalidation_1-error:0.500763\tvalidation_1-logloss:0.690933\n",
      "[19]\tvalidation_0-error:0.498506\tvalidation_0-logloss:0.693473\tvalidation_1-error:0.500763\tvalidation_1-logloss:0.690952\n",
      "[20]\tvalidation_0-error:0.498506\tvalidation_0-logloss:0.693493\tvalidation_1-error:0.500763\tvalidation_1-logloss:0.690964\n",
      "[21]\tvalidation_0-error:0.498506\tvalidation_0-logloss:0.693505\tvalidation_1-error:0.500763\tvalidation_1-logloss:0.690973\n",
      "[22]\tvalidation_0-error:0.498506\tvalidation_0-logloss:0.693513\tvalidation_1-error:0.500763\tvalidation_1-logloss:0.690978\n",
      "[23]\tvalidation_0-error:0.498506\tvalidation_0-logloss:0.693519\tvalidation_1-error:0.500763\tvalidation_1-logloss:0.690982\n",
      "[24]\tvalidation_0-error:0.498506\tvalidation_0-logloss:0.693523\tvalidation_1-error:0.500763\tvalidation_1-logloss:0.690985\n",
      "[25]\tvalidation_0-error:0.498506\tvalidation_0-logloss:0.693526\tvalidation_1-error:0.500763\tvalidation_1-logloss:0.690987\n",
      "[26]\tvalidation_0-error:0.498506\tvalidation_0-logloss:0.693527\tvalidation_1-error:0.500763\tvalidation_1-logloss:0.690988\n",
      "[27]\tvalidation_0-error:0.498506\tvalidation_0-logloss:0.693528\tvalidation_1-error:0.500763\tvalidation_1-logloss:0.690989\n",
      "[28]\tvalidation_0-error:0.498506\tvalidation_0-logloss:0.693531\tvalidation_1-error:0.500763\tvalidation_1-logloss:0.690991\n",
      "[29]\tvalidation_0-error:0.498506\tvalidation_0-logloss:0.693533\tvalidation_1-error:0.500763\tvalidation_1-logloss:0.690992\n",
      "[30]\tvalidation_0-error:0.498506\tvalidation_0-logloss:0.693533\tvalidation_1-error:0.500763\tvalidation_1-logloss:0.690992\n",
      "[31]\tvalidation_0-error:0.498506\tvalidation_0-logloss:0.693533\tvalidation_1-error:0.500763\tvalidation_1-logloss:0.690993\n",
      "[32]\tvalidation_0-error:0.498506\tvalidation_0-logloss:0.693533\tvalidation_1-error:0.500763\tvalidation_1-logloss:0.690993\n",
      "[33]\tvalidation_0-error:0.498506\tvalidation_0-logloss:0.693535\tvalidation_1-error:0.500763\tvalidation_1-logloss:0.690994\n",
      "[34]\tvalidation_0-error:0.498506\tvalidation_0-logloss:0.693536\tvalidation_1-error:0.500763\tvalidation_1-logloss:0.690994\n",
      "[35]\tvalidation_0-error:0.498506\tvalidation_0-logloss:0.693536\tvalidation_1-error:0.500763\tvalidation_1-logloss:0.690994\n",
      "[36]\tvalidation_0-error:0.498506\tvalidation_0-logloss:0.693536\tvalidation_1-error:0.500763\tvalidation_1-logloss:0.690994\n",
      "[37]\tvalidation_0-error:0.498506\tvalidation_0-logloss:0.693536\tvalidation_1-error:0.500763\tvalidation_1-logloss:0.690994\n",
      "[38]\tvalidation_0-error:0.498506\tvalidation_0-logloss:0.693536\tvalidation_1-error:0.500763\tvalidation_1-logloss:0.690994\n",
      "[39]\tvalidation_0-error:0.498506\tvalidation_0-logloss:0.693536\tvalidation_1-error:0.500763\tvalidation_1-logloss:0.690995\n",
      "[40]\tvalidation_0-error:0.498506\tvalidation_0-logloss:0.693536\tvalidation_1-error:0.500763\tvalidation_1-logloss:0.690995\n",
      "[41]\tvalidation_0-error:0.498506\tvalidation_0-logloss:0.693536\tvalidation_1-error:0.500763\tvalidation_1-logloss:0.690995\n",
      "[42]\tvalidation_0-error:0.498506\tvalidation_0-logloss:0.693536\tvalidation_1-error:0.500763\tvalidation_1-logloss:0.690995\n",
      "[43]\tvalidation_0-error:0.498506\tvalidation_0-logloss:0.693536\tvalidation_1-error:0.500763\tvalidation_1-logloss:0.690995\n",
      "[44]\tvalidation_0-error:0.498506\tvalidation_0-logloss:0.693535\tvalidation_1-error:0.500763\tvalidation_1-logloss:0.690995\n",
      "[45]\tvalidation_0-error:0.498506\tvalidation_0-logloss:0.693535\tvalidation_1-error:0.500763\tvalidation_1-logloss:0.690994\n",
      "[46]\tvalidation_0-error:0.498506\tvalidation_0-logloss:0.693535\tvalidation_1-error:0.500763\tvalidation_1-logloss:0.690995\n",
      "[47]\tvalidation_0-error:0.498506\tvalidation_0-logloss:0.693535\tvalidation_1-error:0.500763\tvalidation_1-logloss:0.690995\n",
      "[48]\tvalidation_0-error:0.498506\tvalidation_0-logloss:0.693535\tvalidation_1-error:0.500763\tvalidation_1-logloss:0.690995\n",
      "[49]\tvalidation_0-error:0.498506\tvalidation_0-logloss:0.693535\tvalidation_1-error:0.500763\tvalidation_1-logloss:0.690995\n",
      "[50]\tvalidation_0-error:0.498506\tvalidation_0-logloss:0.693535\tvalidation_1-error:0.500763\tvalidation_1-logloss:0.690995\n",
      "[51]\tvalidation_0-error:0.498506\tvalidation_0-logloss:0.693535\tvalidation_1-error:0.500763\tvalidation_1-logloss:0.690995\n",
      "[52]\tvalidation_0-error:0.498506\tvalidation_0-logloss:0.693535\tvalidation_1-error:0.500763\tvalidation_1-logloss:0.690995\n",
      "[53]\tvalidation_0-error:0.498506\tvalidation_0-logloss:0.693535\tvalidation_1-error:0.500763\tvalidation_1-logloss:0.690995\n",
      "[54]\tvalidation_0-error:0.498506\tvalidation_0-logloss:0.693535\tvalidation_1-error:0.500763\tvalidation_1-logloss:0.690995\n",
      "[55]\tvalidation_0-error:0.498506\tvalidation_0-logloss:0.693535\tvalidation_1-error:0.500763\tvalidation_1-logloss:0.690995\n",
      "[56]\tvalidation_0-error:0.498506\tvalidation_0-logloss:0.693535\tvalidation_1-error:0.500763\tvalidation_1-logloss:0.690995\n",
      "[57]\tvalidation_0-error:0.498506\tvalidation_0-logloss:0.693535\tvalidation_1-error:0.500763\tvalidation_1-logloss:0.690995\n",
      "[58]\tvalidation_0-error:0.498506\tvalidation_0-logloss:0.693535\tvalidation_1-error:0.500763\tvalidation_1-logloss:0.690995\n",
      "[59]\tvalidation_0-error:0.498506\tvalidation_0-logloss:0.693535\tvalidation_1-error:0.500763\tvalidation_1-logloss:0.690995\n",
      "[60]\tvalidation_0-error:0.498506\tvalidation_0-logloss:0.693535\tvalidation_1-error:0.500763\tvalidation_1-logloss:0.690995\n",
      "[61]\tvalidation_0-error:0.498506\tvalidation_0-logloss:0.693535\tvalidation_1-error:0.500763\tvalidation_1-logloss:0.690995\n",
      "[62]\tvalidation_0-error:0.498506\tvalidation_0-logloss:0.693535\tvalidation_1-error:0.500763\tvalidation_1-logloss:0.690995\n",
      "[63]\tvalidation_0-error:0.498506\tvalidation_0-logloss:0.693535\tvalidation_1-error:0.500763\tvalidation_1-logloss:0.690995\n",
      "[64]\tvalidation_0-error:0.498506\tvalidation_0-logloss:0.693535\tvalidation_1-error:0.500763\tvalidation_1-logloss:0.690995\n",
      "[65]\tvalidation_0-error:0.498506\tvalidation_0-logloss:0.693535\tvalidation_1-error:0.500763\tvalidation_1-logloss:0.690995\n",
      "[66]\tvalidation_0-error:0.498506\tvalidation_0-logloss:0.693535\tvalidation_1-error:0.500763\tvalidation_1-logloss:0.690995\n",
      "[67]\tvalidation_0-error:0.498506\tvalidation_0-logloss:0.693535\tvalidation_1-error:0.500763\tvalidation_1-logloss:0.690995\n"
     ]
    },
    {
     "name": "stdout",
     "output_type": "stream",
     "text": [
      "[68]\tvalidation_0-error:0.498506\tvalidation_0-logloss:0.693535\tvalidation_1-error:0.500763\tvalidation_1-logloss:0.690995\n",
      "[69]\tvalidation_0-error:0.498506\tvalidation_0-logloss:0.693535\tvalidation_1-error:0.500763\tvalidation_1-logloss:0.690995\n",
      "[70]\tvalidation_0-error:0.498506\tvalidation_0-logloss:0.693535\tvalidation_1-error:0.500763\tvalidation_1-logloss:0.690995\n",
      "[71]\tvalidation_0-error:0.498506\tvalidation_0-logloss:0.693535\tvalidation_1-error:0.500763\tvalidation_1-logloss:0.690995\n",
      "[72]\tvalidation_0-error:0.498506\tvalidation_0-logloss:0.693535\tvalidation_1-error:0.500763\tvalidation_1-logloss:0.690995\n",
      "[73]\tvalidation_0-error:0.498506\tvalidation_0-logloss:0.693535\tvalidation_1-error:0.500763\tvalidation_1-logloss:0.690995\n",
      "[74]\tvalidation_0-error:0.498506\tvalidation_0-logloss:0.693535\tvalidation_1-error:0.500763\tvalidation_1-logloss:0.690995\n",
      "[75]\tvalidation_0-error:0.498506\tvalidation_0-logloss:0.693535\tvalidation_1-error:0.500763\tvalidation_1-logloss:0.690995\n",
      "[76]\tvalidation_0-error:0.498506\tvalidation_0-logloss:0.693535\tvalidation_1-error:0.500763\tvalidation_1-logloss:0.690995\n",
      "[77]\tvalidation_0-error:0.498506\tvalidation_0-logloss:0.693535\tvalidation_1-error:0.500763\tvalidation_1-logloss:0.690995\n",
      "[78]\tvalidation_0-error:0.498506\tvalidation_0-logloss:0.693535\tvalidation_1-error:0.500763\tvalidation_1-logloss:0.690995\n",
      "[79]\tvalidation_0-error:0.498506\tvalidation_0-logloss:0.693535\tvalidation_1-error:0.500763\tvalidation_1-logloss:0.690995\n",
      "[80]\tvalidation_0-error:0.498506\tvalidation_0-logloss:0.693535\tvalidation_1-error:0.500763\tvalidation_1-logloss:0.690995\n",
      "[81]\tvalidation_0-error:0.498506\tvalidation_0-logloss:0.693535\tvalidation_1-error:0.500763\tvalidation_1-logloss:0.690995\n",
      "[82]\tvalidation_0-error:0.498506\tvalidation_0-logloss:0.693535\tvalidation_1-error:0.500763\tvalidation_1-logloss:0.690995\n",
      "[83]\tvalidation_0-error:0.498506\tvalidation_0-logloss:0.693535\tvalidation_1-error:0.500763\tvalidation_1-logloss:0.690995\n",
      "[84]\tvalidation_0-error:0.498506\tvalidation_0-logloss:0.693535\tvalidation_1-error:0.500763\tvalidation_1-logloss:0.690995\n",
      "[85]\tvalidation_0-error:0.498506\tvalidation_0-logloss:0.693535\tvalidation_1-error:0.500763\tvalidation_1-logloss:0.690995\n",
      "[86]\tvalidation_0-error:0.498506\tvalidation_0-logloss:0.693535\tvalidation_1-error:0.500763\tvalidation_1-logloss:0.690995\n",
      "[87]\tvalidation_0-error:0.498506\tvalidation_0-logloss:0.693535\tvalidation_1-error:0.500763\tvalidation_1-logloss:0.690995\n",
      "[88]\tvalidation_0-error:0.498506\tvalidation_0-logloss:0.693535\tvalidation_1-error:0.500763\tvalidation_1-logloss:0.690995\n",
      "[89]\tvalidation_0-error:0.498506\tvalidation_0-logloss:0.693535\tvalidation_1-error:0.500763\tvalidation_1-logloss:0.690995\n",
      "[90]\tvalidation_0-error:0.498506\tvalidation_0-logloss:0.693535\tvalidation_1-error:0.500763\tvalidation_1-logloss:0.690995\n",
      "[91]\tvalidation_0-error:0.498506\tvalidation_0-logloss:0.693535\tvalidation_1-error:0.500763\tvalidation_1-logloss:0.690995\n",
      "[92]\tvalidation_0-error:0.498506\tvalidation_0-logloss:0.693535\tvalidation_1-error:0.500763\tvalidation_1-logloss:0.690995\n",
      "[93]\tvalidation_0-error:0.498506\tvalidation_0-logloss:0.693535\tvalidation_1-error:0.500763\tvalidation_1-logloss:0.690995\n",
      "[94]\tvalidation_0-error:0.498506\tvalidation_0-logloss:0.693535\tvalidation_1-error:0.500763\tvalidation_1-logloss:0.690995\n",
      "[95]\tvalidation_0-error:0.498506\tvalidation_0-logloss:0.693535\tvalidation_1-error:0.500763\tvalidation_1-logloss:0.690995\n",
      "[96]\tvalidation_0-error:0.498506\tvalidation_0-logloss:0.693535\tvalidation_1-error:0.500763\tvalidation_1-logloss:0.690995\n",
      "[97]\tvalidation_0-error:0.498506\tvalidation_0-logloss:0.693535\tvalidation_1-error:0.500763\tvalidation_1-logloss:0.690995\n",
      "[98]\tvalidation_0-error:0.498506\tvalidation_0-logloss:0.693535\tvalidation_1-error:0.500763\tvalidation_1-logloss:0.690995\n",
      "[99]\tvalidation_0-error:0.498506\tvalidation_0-logloss:0.693535\tvalidation_1-error:0.500763\tvalidation_1-logloss:0.690995\n"
     ]
    },
    {
     "data": {
      "text/plain": [
       "XGBClassifier(base_score=0.5, booster='gblinear', colsample_bylevel=1,\n",
       "       colsample_bytree=1, gamma=0, lambda=0.2, learning_rate=0.1,\n",
       "       max_delta_step=0, max_depth=3, min_child_weight=1, missing=None,\n",
       "       n_estimators=100, n_jobs=1, nthread=None,\n",
       "       objective='binary:logistic', random_state=0, reg_alpha=0,\n",
       "       reg_lambda=1, scale_pos_weight=1, seed=None, silent=True,\n",
       "       subsample=1)"
      ]
     },
     "execution_count": 30,
     "metadata": {},
     "output_type": "execute_result"
    }
   ],
   "source": [
    "eval_set = [(X_train, y_train), (X_test, y_test)]\n",
    "params = {\n",
    "    'booster': 'gblinear',\n",
    "    'lambda': 0.2,\n",
    "}\n",
    "\n",
    "xgb_lin = XGBClassifier(**params)\n",
    "xgb_lin.fit(X_train, y_train, eval_metric=[\"error\", \"logloss\"], eval_set=eval_set)"
   ]
  },
  {
   "cell_type": "code",
   "execution_count": null,
   "metadata": {},
   "outputs": [],
   "source": [
    "accuracy_score(y_test, xgb.predict(X_test))"
   ]
  },
  {
   "cell_type": "code",
   "execution_count": null,
   "metadata": {},
   "outputs": [],
   "source": []
  }
 ],
 "metadata": {
  "kernelspec": {
   "display_name": "Python 3",
   "language": "python",
   "name": "python3"
  },
  "language_info": {
   "codemirror_mode": {
    "name": "ipython",
    "version": 3
   },
   "file_extension": ".py",
   "mimetype": "text/x-python",
   "name": "python",
   "nbconvert_exporter": "python",
   "pygments_lexer": "ipython3",
   "version": "3.7.1"
  }
 },
 "nbformat": 4,
 "nbformat_minor": 2
}
