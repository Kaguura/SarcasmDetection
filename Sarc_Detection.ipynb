{
 "cells": [
  {
   "cell_type": "code",
   "execution_count": 1,
   "metadata": {},
   "outputs": [
    {
     "name": "stderr",
     "output_type": "stream",
     "text": [
      "[nltk_data] Downloading package stopwords to /Users/asel/nltk_data...\n",
      "[nltk_data]   Package stopwords is already up-to-date!\n",
      "[nltk_data] Downloading package punkt to /Users/asel/nltk_data...\n",
      "[nltk_data]   Package punkt is already up-to-date!\n"
     ]
    },
    {
     "data": {
      "text/plain": [
       "True"
      ]
     },
     "execution_count": 1,
     "metadata": {},
     "output_type": "execute_result"
    }
   ],
   "source": [
    "#@unpublished{SARC,\n",
    "#  authors={Mikhail Khodak and Nikunj Saunshi and Kiran Vodrahalli},\n",
    "#  title={A Large Self-Annotated Corpus for Sarcasm},\n",
    "#  url={https://arxiv.org/abs/1704.05579},\n",
    "#  year=2017\n",
    "#}\n",
    "#https://www.kaggle.com/danofer/sarcasm#train-balanced-sarcasm.csv\n",
    "import os\n",
    "import string\n",
    "import numpy as np\n",
    "import pandas as pd\n",
    "import nltk\n",
    "from nltk.corpus import stopwords\n",
    "nltk.download('stopwords')\n",
    "nltk.download('punkt')"
   ]
  },
  {
   "cell_type": "code",
   "execution_count": 2,
   "metadata": {},
   "outputs": [
    {
     "name": "stdout",
     "output_type": "stream",
     "text": [
      "Type:\n",
      "Labels array  <class 'pandas.core.series.Series'>\n",
      "Comments array  <class 'pandas.core.series.Series'>\n",
      "one comment line  <class 'str'>\n",
      "Shape:\n",
      "Labels array  (1010773,)\n",
      "Comments array  (1010773,)\n",
      "Two first entries:\n",
      "0 NC and NH.\n",
      "0 You do know west teams play against west teams more than east teams right?\n"
     ]
    }
   ],
   "source": [
    "# df - data frame\n",
    "df = pd.read_csv('../train-balanced-sarcasm.csv')\n",
    "# dropping empty comment entries\n",
    "df.dropna(subset=['comment'], inplace=True)\n",
    "\n",
    "print('Type:')\n",
    "print('Labels array ',type(df.label))\n",
    "print('Comments array ',type(df.comment))\n",
    "print('one comment line ', type(df.comment[0]))\n",
    "print('Shape:')\n",
    "print('Labels array ',df.label.shape)\n",
    "print('Comments array ',df.comment.shape)\n",
    "print('Two first entries:')\n",
    "print (df.label[0], df.comment[0])\n",
    "print (df.label[1], df.comment[1])"
   ]
  },
  {
   "cell_type": "code",
   "execution_count": 3,
   "metadata": {},
   "outputs": [
    {
     "name": "stdout",
     "output_type": "stream",
     "text": [
      "167435\n"
     ]
    }
   ],
   "source": [
    "from sklearn.feature_extraction.text import TfidfVectorizer\n",
    "# create the transform\n",
    "tf_idf_vectorizer = TfidfVectorizer()\n",
    "# tokenize and build vocab\n",
    "T = tf_idf_vectorizer.fit(df.comment)\n",
    "print(len(T.vocabulary_))"
   ]
  },
  {
   "cell_type": "code",
   "execution_count": 4,
   "metadata": {},
   "outputs": [],
   "source": [
    "# preprocess with nltk\n",
    "def my_tokenizer(corpus):\n",
    "    corpus_tokenized = []\n",
    "    tokenizer = nltk.tokenize.RegexpTokenizer(r'\\w+')\n",
    "    sbs = nltk.stem.SnowballStemmer('english', ignore_stopwords=False)\n",
    "    for comment in corpus:\n",
    "        words = tokenizer.tokenize(comment)\n",
    "        # Remove stop words\n",
    "        stop_words = set(stopwords.words('english'))\n",
    "        words = [word for word in words if not word in stop_words]\n",
    "        \n",
    "        cmnt_t = []\n",
    "        for token in words:\n",
    "            cmnt_t.append(sbs.stem(token))\n",
    "            # make a string to be compatible with TfidfVectorizer\n",
    "            c = ' '.join(cmnt_t)\n",
    "        # Lemmitize\n",
    "        #words = [lemmatizer.lemmatize(word) for word in words]\n",
    "        \n",
    "        corpus_tokenized.append(c)\n",
    "    return corpus_tokenized"
   ]
  },
  {
   "cell_type": "code",
   "execution_count": 5,
   "metadata": {},
   "outputs": [],
   "source": [
    "df2 = pd.Series(my_tokenizer(df.comment))"
   ]
  },
  {
   "cell_type": "code",
   "execution_count": 6,
   "metadata": {},
   "outputs": [
    {
     "name": "stdout",
     "output_type": "stream",
     "text": [
      "NC and NH.\n",
      "nc nh \n",
      "\n",
      "You do know west teams play against west teams more than east teams right?\n",
      "you know west team play west team east team right \n",
      "\n",
      "They were underdogs earlier today, but since Gronk's announcement this afternoon, the Vegas line has moved to patriots -1\n",
      "they underdog earlier today sinc gronk announc afternoon vega line move patriot 1 \n",
      "\n",
      "This meme isn't funny none of the \"new york nigga\" ones are.\n",
      "this meme funni none new york nigga one \n",
      "\n",
      "I could use one of those tools.\n",
      "i could use one tool \n",
      "\n",
      "I don't pay attention to her, but as long as she's legal I wouldn't kick her out of bed (before she took a load)\n",
      "i pay attent long legal i kick bed took load \n",
      "\n",
      "Trick or treating in general is just weird...\n",
      "trick treat general weird \n",
      "\n",
      "Blade Mastery+Masamune or GTFO!\n",
      "blade masteri masamun gtfo \n",
      "\n",
      "You don't have to, you have a good build, buy games or save it\n",
      "you good build buy game save \n",
      "\n",
      "I would love to see him at lolla.\n",
      "i would love see lolla \n",
      "\n"
     ]
    }
   ],
   "source": [
    "for i in range(10):\n",
    "    print(df.comment[i])\n",
    "    print(df2[i], '\\n')"
   ]
  },
  {
   "cell_type": "code",
   "execution_count": 7,
   "metadata": {},
   "outputs": [
    {
     "name": "stdout",
     "output_type": "stream",
     "text": [
      "131021\n"
     ]
    }
   ],
   "source": [
    "T = tf_idf_vectorizer.fit(df2)\n",
    "print(len(T.vocabulary_))"
   ]
  },
  {
   "cell_type": "code",
   "execution_count": 8,
   "metadata": {},
   "outputs": [
    {
     "data": {
      "text/plain": [
       "6268559"
      ]
     },
     "execution_count": 8,
     "metadata": {},
     "output_type": "execute_result"
    }
   ],
   "source": [
    "tf_idf_vectorizer = TfidfVectorizer(ngram_range=(1,3))\n",
    "T = tf_idf_vectorizer.fit(df2)\n",
    "len(T.vocabulary_)"
   ]
  },
  {
   "cell_type": "markdown",
   "metadata": {},
   "source": [
    "167435 features from before now reduced to 131022 features, that is about 22%"
   ]
  },
  {
   "cell_type": "code",
   "execution_count": 9,
   "metadata": {},
   "outputs": [
    {
     "name": "stderr",
     "output_type": "stream",
     "text": [
      "/anaconda3/lib/python3.7/site-packages/sklearn/model_selection/_split.py:2179: FutureWarning: From version 0.21, test_size will always complement train_size unless both are specified.\n",
      "  FutureWarning)\n"
     ]
    }
   ],
   "source": [
    "from sklearn.model_selection import train_test_split\n",
    "# divide into train and test sets\n",
    "X_train, X_test, y_train, y_test = train_test_split(df2, df.label, train_size=0.33)"
   ]
  },
  {
   "cell_type": "code",
   "execution_count": 10,
   "metadata": {},
   "outputs": [
    {
     "name": "stdout",
     "output_type": "stream",
     "text": [
      "(333555, 2342042)\n",
      "  (0, 2295377)\t0.08403192040579566\n",
      "  (0, 884033)\t0.13565504784920923\n",
      "  (0, 642503)\t0.18483129966185147\n",
      "  (0, 990024)\t0.1619485054723261\n",
      "  (0, 930743)\t0.26084501135689486\n",
      "  (0, 618452)\t0.11365271992434346\n",
      "  (0, 475620)\t0.11315049929769513\n",
      "  (0, 1669374)\t0.09442393824396139\n",
      "  (0, 2300958)\t0.21473026021717992\n",
      "  (0, 884434)\t0.26084501135689486\n",
      "  (0, 642546)\t0.26084501135689486\n",
      "  (0, 990162)\t0.26084501135689486\n",
      "  (0, 930744)\t0.26084501135689486\n",
      "  (0, 619072)\t0.17140456369170137\n",
      "  (0, 477615)\t0.23575544888861052\n",
      "  (0, 2300963)\t0.26084501135689486\n",
      "  (0, 884435)\t0.26084501135689486\n",
      "  (0, 642547)\t0.26084501135689486\n",
      "  (0, 990163)\t0.26084501135689486\n",
      "  (0, 930745)\t0.26084501135689486\n",
      "  (0, 619127)\t0.26084501135689486\n",
      "  (1, 2295377)\t0.264014369817753\n",
      "  (1, 1282354)\t0.5085902430761836\n",
      "  (1, 2303673)\t0.8195318036400072\n",
      "  (2, 2097702)\t0.1690946995003176\n",
      "  (2, 1899166)\t0.18333120537780853\n",
      "  (2, 1057303)\t0.12420892486074264\n",
      "  (2, 1852652)\t0.2111247700340524\n",
      "  (2, 1377326)\t0.1888517085430904\n",
      "  (2, 2099642)\t0.3576114729142696\n",
      "  (2, 1899735)\t0.32321435969219003\n",
      "  (2, 1065820)\t0.31342113564368973\n",
      "  (2, 1852995)\t0.3576114729142696\n",
      "  (2, 2099643)\t0.3576114729142696\n",
      "  (2, 1899737)\t0.3576114729142696\n",
      "  (2, 1065826)\t0.3576114729142696\n"
     ]
    }
   ],
   "source": [
    "# Vetorize the training data set\n",
    "X_train = tf_idf_vectorizer.fit_transform(X_train)\n",
    "print(X_train.shape)\n",
    "print(X_train[0:3])"
   ]
  },
  {
   "cell_type": "code",
   "execution_count": 11,
   "metadata": {},
   "outputs": [
    {
     "name": "stdout",
     "output_type": "stream",
     "text": [
      "(677218, 2342042)\n",
      "  (0, 2296310)\t0.35205279172210907\n",
      "  (0, 2296286)\t0.27627736876649334\n",
      "  (0, 2295377)\t0.1134147516133758\n",
      "  (0, 1802726)\t0.19725488802358238\n",
      "  (0, 1670773)\t0.341092984246088\n",
      "  (0, 1669374)\t0.12744047084228027\n",
      "  (0, 1349511)\t0.33331687709081304\n",
      "  (0, 1347657)\t0.15993758060105553\n",
      "  (0, 744329)\t0.13095213862473232\n",
      "  (0, 593937)\t0.35205279172210907\n",
      "  (0, 593687)\t0.27976998914823636\n",
      "  (0, 593384)\t0.3845654210324432\n",
      "  (0, 180036)\t0.2975895376802706\n",
      "  (0, 177647)\t0.1512633771756192\n",
      "  (1, 2233143)\t0.34124038347017366\n",
      "  (1, 2232047)\t0.1857660176093302\n",
      "  (1, 1780567)\t0.16766011995092808\n",
      "  (1, 1742468)\t0.20480676039123955\n",
      "  (1, 1741580)\t0.16935454128026448\n",
      "  (1, 1708331)\t0.32467493712598416\n",
      "  (1, 1545915)\t0.29074366906421906\n",
      "  (1, 1115659)\t0.10893978479476327\n",
      "  (1, 1009166)\t0.289819561589443\n",
      "  (1, 1009143)\t0.2585562202170115\n",
      "  (1, 1000062)\t0.12475286576368891\n",
      "  (1, 307216)\t0.34124038347017366\n",
      "  (1, 304023)\t0.1598881028246156\n",
      "  (1, 222808)\t0.34752918304163555\n",
      "  (1, 222798)\t0.3122228738383578\n",
      "  (1, 222216)\t0.14770542862896835\n",
      "  (2, 1751128)\t0.4876363039761829\n",
      "  (2, 1684339)\t0.6055233197730527\n",
      "  (2, 1669050)\t0.4668281841986518\n",
      "  (2, 1323945)\t0.23533279489731257\n",
      "  (2, 316188)\t0.34963161518815516\n"
     ]
    }
   ],
   "source": [
    "# Vetorize the test data set\n",
    "X_test = tf_idf_vectorizer.transform(X_test)\n",
    "print(X_test.shape)\n",
    "print(X_test[0:3])"
   ]
  },
  {
   "cell_type": "code",
   "execution_count": 22,
   "metadata": {},
   "outputs": [
    {
     "name": "stdout",
     "output_type": "stream",
     "text": [
      "oob_score is  0.6784278454827539\n"
     ]
    }
   ],
   "source": [
    "from sklearn.linear_model import LogisticRegression\n",
    "from sklearn.ensemble import BaggingClassifier\n",
    "from sklearn.pipeline import make_pipeline\n",
    "from sklearn.model_selection import cross_val_score\n",
    "\n",
    "# bagging with Logistic Regressoin\n",
    "# oob Out-Of-Bag\n",
    "bag_log_reg = BaggingClassifier(\n",
    "      LogisticRegression(), n_estimators=200,\n",
    "    max_samples=50000, bootstrap=True, n_jobs=-1, oob_score=True)\n",
    "\n",
    "\n",
    "#clf = make_pipeline(TfidfVectorizer(ngram_range=(1,3)), bag_log_reg)\n",
    "bag_log_reg.fit(X_train,y_train)\n",
    "print('oob_score is ', bag_log_reg.oob_score_)    \n",
    "\n",
    "#cross_val_score(clf, X_train, y_train, cv=10)"
   ]
  },
  {
   "cell_type": "code",
   "execution_count": 23,
   "metadata": {},
   "outputs": [
    {
     "data": {
      "text/plain": [
       "BaggingClassifier(base_estimator=LogisticRegression(C=1.0, class_weight=None, dual=False, fit_intercept=True,\n",
       "          intercept_scaling=1, max_iter=100, multi_class='warn',\n",
       "          n_jobs=None, penalty='l2', random_state=None, solver='warn',\n",
       "          tol=0.0001, verbose=0, warm_start=False),\n",
       "         bootstrap=True, bootstrap_features=False, max_features=1.0,\n",
       "         max_samples=50000, n_estimators=200, n_jobs=-1, oob_score=True,\n",
       "         random_state=None, verbose=0, warm_start=False)"
      ]
     },
     "execution_count": 23,
     "metadata": {},
     "output_type": "execute_result"
    }
   ],
   "source": [
    "bag_log_reg"
   ]
  },
  {
   "cell_type": "code",
   "execution_count": 24,
   "metadata": {},
   "outputs": [
    {
     "data": {
      "text/plain": [
       "0.6786824921960137"
      ]
     },
     "execution_count": 24,
     "metadata": {},
     "output_type": "execute_result"
    }
   ],
   "source": [
    "from sklearn.metrics import accuracy_score\n",
    "\n",
    "bag_log_reg_pred = bag_log_reg.predict(X_test)\n",
    "accuracy_score(y_test, bag_log_reg_pred)"
   ]
  },
  {
   "cell_type": "code",
   "execution_count": 25,
   "metadata": {},
   "outputs": [
    {
     "data": {
      "image/png": "[encoded data removed]",
      "text/plain": [
       "<Figure size 432x288 with 1 Axes>"
      ]
     },
     "metadata": {
      "needs_background": "light"
     },
     "output_type": "display_data"
    }
   ],
   "source": [
    "# calculate roc curve\n",
    "fpr, tpr, thresholds = roc_curve(y_test, bag_log_reg_pred)\n",
    "# plot no skill\n",
    "plt.plot([0, 1], [0, 1], linestyle='--')\n",
    "# plot the roc curve for the model\n",
    "plt.plot(fpr, tpr, marker='.')\n",
    "# show the plot\n",
    "plt.show()"
   ]
  },
  {
   "cell_type": "code",
   "execution_count": 28,
   "metadata": {},
   "outputs": [
    {
     "data": {
      "image/png": "[encoded data removed]",
      "text/plain": [
       "<Figure size 432x288 with 1 Axes>"
      ]
     },
     "metadata": {
      "needs_background": "light"
     },
     "output_type": "display_data"
    }
   ],
   "source": [
    "from sklearn.metrics import precision_recall_curve\n",
    "\n",
    "precision, recall, thresholds = precision_recall_curve(y_test, bag_log_reg_pred)\n",
    "# plot no skill\n",
    "plt.plot([0, 1], [0.5, 0.5], linestyle='--')\n",
    "# plot the precision-recall curve for the model\n",
    "plt.plot(recall, precision, marker='.')\n",
    "# show the plot\n",
    "plt.show()"
   ]
  },
  {
   "cell_type": "code",
   "execution_count": 52,
   "metadata": {},
   "outputs": [
    {
     "data": {
      "image/png": "[encoded data removed]",
      "text/plain": [
       "<Figure size 432x288 with 2 Axes>"
      ]
     },
     "metadata": {
      "needs_background": "light"
     },
     "output_type": "display_data"
    }
   ],
   "source": [
    "from sklearn.metrics import confusion_matrix\n",
    "import matplotlib.pyplot as plt\n",
    "\n",
    "\n",
    "cm = confusion_matrix(y_test, bag_log_reg.predict(X_test))\n",
    "fig = plt.figure()\n",
    "ax = fig.add_subplot(111)\n",
    "cax = ax.matshow(cm)\n",
    "fig.colorbar(cax)\n",
    "plt.xlabel('Predicted')\n",
    "plt.ylabel('True')\n",
    "plt.show()"
   ]
  },
  {
   "cell_type": "code",
   "execution_count": 40,
   "metadata": {},
   "outputs": [
    {
     "data": {
      "text/plain": [
       "Text(0.5, 1.0, '2-class Precision-Recall curve: AP=0.62')"
      ]
     },
     "execution_count": 40,
     "metadata": {},
     "output_type": "execute_result"
    },
    {
     "data": {
      "image/png": "[encoded data removed]",
      "text/plain": [
       "<Figure size 432x288 with 1 Axes>"
      ]
     },
     "metadata": {
      "needs_background": "light"
     },
     "output_type": "display_data"
    }
   ],
   "source": [
    "precision, recall, thresholds = precision_recall_curve(y_test, bag_log_reg_pred)\n",
    "step_kwargs = ({'step': 'post'})\n",
    "plt.step(recall, precision, color='b', alpha=0.2,\n",
    "         where='post')\n",
    "plt.fill_between(recall, precision, alpha=0.2, color='b', **step_kwargs)\n",
    "\n",
    "from sklearn.metrics import average_precision_score\n",
    "average_precision = average_precision_score(y_test, bag_log_reg_pred)\n",
    "\n",
    "plt.xlabel('Recall')\n",
    "plt.ylabel('Precision')\n",
    "plt.ylim([0.0, 1.05])\n",
    "plt.xlim([0.0, 1.0])\n",
    "plt.title('2-class Precision-Recall curve: AP={0:0.2f}'.format(average_precision))"
   ]
  },
  {
   "cell_type": "code",
   "execution_count": 45,
   "metadata": {},
   "outputs": [
    {
     "name": "stdout",
     "output_type": "stream",
     "text": [
      "Precision bagging logistic:  0.6949910381555363\n",
      "Recall bagging logistic:  0.6367521619961249\n",
      "F1 score bagging logistic:  0.6645981688708036\n"
     ]
    }
   ],
   "source": [
    "from sklearn.metrics import precision_score\n",
    "from sklearn.metrics import recall_score\n",
    "from sklearn.metrics import f1_score\n",
    "\n",
    "print('Precision bagging logistic: ', precision_score(y_test, bag_log_reg_pred))\n",
    "print('Recall bagging logistic: ', recall_score(y_test, bag_log_reg_pred))\n",
    "print('F1 score bagging logistic: ', f1_score(y_test, bag_log_reg_pred))"
   ]
  },
  {
   "cell_type": "code",
   "execution_count": 50,
   "metadata": {},
   "outputs": [
    {
     "name": "stdout",
     "output_type": "stream",
     "text": [
      "oob_score is  0.674191662544408\n"
     ]
    }
   ],
   "source": [
    "from sklearn.ensemble import RandomForestClassifier\n",
    "\n",
    "rnd_frst = RandomForestClassifier(n_estimators=200, min_samples_leaf=20, random_state=31, n_jobs = -1, oob_score=True)\n",
    "rnd_frst.fit(X_train, y_train)\n",
    "print('oob_score is ', rnd_frst.oob_score_)"
   ]
  },
  {
   "cell_type": "code",
   "execution_count": 53,
   "metadata": {},
   "outputs": [
    {
     "data": {
      "text/plain": [
       "RandomForestClassifier(bootstrap=True, class_weight=None, criterion='gini',\n",
       "            max_depth=None, max_features='auto', max_leaf_nodes=None,\n",
       "            min_impurity_decrease=0.0, min_impurity_split=None,\n",
       "            min_samples_leaf=20, min_samples_split=2,\n",
       "            min_weight_fraction_leaf=0.0, n_estimators=200, n_jobs=-1,\n",
       "            oob_score=True, random_state=31, verbose=0, warm_start=False)"
      ]
     },
     "execution_count": 53,
     "metadata": {},
     "output_type": "execute_result"
    }
   ],
   "source": [
    "rnd_frst"
   ]
  },
  {
   "cell_type": "code",
   "execution_count": 54,
   "metadata": {},
   "outputs": [
    {
     "data": {
      "text/plain": [
       "0.6751740207732222"
      ]
     },
     "execution_count": 54,
     "metadata": {},
     "output_type": "execute_result"
    }
   ],
   "source": [
    "frst_pred = rnd_frst.predict(X_test)\n",
    "\n",
    "accuracy_score(y_test, frst_pred)"
   ]
  },
  {
   "cell_type": "code",
   "execution_count": 21,
   "metadata": {},
   "outputs": [
    {
     "data": {
      "image/png": "[encoded data removed]",
      "text/plain": [
       "<Figure size 432x288 with 1 Axes>"
      ]
     },
     "metadata": {
      "needs_background": "light"
     },
     "output_type": "display_data"
    }
   ],
   "source": [
    "import matplotlib.pyplot as plt\n",
    "from sklearn.metrics import roc_curve\n",
    "\n",
    "# calculate roc curve\n",
    "fpr, tpr, thresholds = roc_curve(y_test, frst_pred)\n",
    "# plot no skill\n",
    "plt.plot([0, 1], [0, 1], linestyle='--')\n",
    "# plot the roc curve for the model\n",
    "plt.plot(fpr, tpr, marker='.')\n",
    "# show the plot\n",
    "plt.show()"
   ]
  },
  {
   "cell_type": "code",
   "execution_count": 27,
   "metadata": {},
   "outputs": [
    {
     "data": {
      "image/png": "[encoded data removed]",
      "text/plain": [
       "<Figure size 432x288 with 1 Axes>"
      ]
     },
     "metadata": {
      "needs_background": "light"
     },
     "output_type": "display_data"
    }
   ],
   "source": [
    "from sklearn.metrics import precision_recall_curve\n",
    "\n",
    "precision, recall, thresholds = precision_recall_curve(y_test, frst_pred)\n",
    "# plot no skill\n",
    "plt.plot([0, 1], [0.5, 0.5], linestyle='--')\n",
    "# plot the precision-recall curve for the model\n",
    "plt.plot(recall, precision, marker='.')\n",
    "# show the plot\n",
    "plt.show()"
   ]
  },
  {
   "cell_type": "code",
   "execution_count": 41,
   "metadata": {},
   "outputs": [
    {
     "data": {
      "text/plain": [
       "Text(0.5, 1.0, '2-class Precision-Recall curve: AP=0.59')"
      ]
     },
     "execution_count": 41,
     "metadata": {},
     "output_type": "execute_result"
    },
    {
     "data": {
      "image/png": "[encoded data removed]",
      "text/plain": [
       "<Figure size 432x288 with 1 Axes>"
      ]
     },
     "metadata": {
      "needs_background": "light"
     },
     "output_type": "display_data"
    }
   ],
   "source": [
    "precision, recall, thresholds = precision_recall_curve(y_test, frst_pred)\n",
    "step_kwargs = ({'step': 'post'})\n",
    "plt.step(recall, precision, color='b', alpha=0.2,\n",
    "         where='post')\n",
    "plt.fill_between(recall, precision, alpha=0.2, color='b', **step_kwargs)\n",
    "\n",
    "from sklearn.metrics import average_precision_score\n",
    "average_precision = average_precision_score(y_test, frst_pred)\n",
    "\n",
    "plt.xlabel('Recall')\n",
    "plt.ylabel('Precision')\n",
    "plt.ylim([0.0, 1.05])\n",
    "plt.xlim([0.0, 1.0])\n",
    "plt.title('2-class Precision-Recall curve: AP={0:0.2f}'.format(average_precision))"
   ]
  },
  {
   "cell_type": "code",
   "execution_count": 21,
   "metadata": {},
   "outputs": [
    {
     "data": {
      "image/png": "[encoded data removed]",
      "text/plain": [
       "<Figure size 432x288 with 2 Axes>"
      ]
     },
     "metadata": {
      "needs_background": "light"
     },
     "output_type": "display_data"
    }
   ],
   "source": [
    "cm = confusion_matrix(y_test, rnd_frst.predict(X_test))\n",
    "fig = plt.figure()\n",
    "ax = fig.add_subplot(111)\n",
    "cax = ax.matshow(cm)\n",
    "fig.colorbar(cax)\n",
    "plt.xlabel('Predicted')\n",
    "plt.ylabel('True')\n",
    "plt.show()"
   ]
  },
  {
   "cell_type": "code",
   "execution_count": 55,
   "metadata": {},
   "outputs": [
    {
     "name": "stdout",
     "output_type": "stream",
     "text": [
      "Precision random forest:  0.7080958731049972\n",
      "Recall random forest:  0.5959636831907755\n",
      "F1 score random forest:  0.647208821944523\n"
     ]
    }
   ],
   "source": [
    "print('Precision random forest: ', precision_score(y_test, frst_pred))\n",
    "print('Recall random forest: ', recall_score(y_test, frst_pred))\n",
    "print('F1 score random forest: ', f1_score(y_test, frst_pred))"
   ]
  },
  {
   "cell_type": "code",
   "execution_count": 56,
   "metadata": {},
   "outputs": [
    {
     "name": "stdout",
     "output_type": "stream",
     "text": [
      "[0]\tvalidation_0-error:0.441334\tvalidation_0-logloss:0.690516\tvalidation_1-error:0.443683\tvalidation_1-logloss:0.688035\n",
      "[1]\tvalidation_0-error:0.403217\tvalidation_0-logloss:0.682476\tvalidation_1-error:0.407721\tvalidation_1-logloss:0.686971\n",
      "[2]\tvalidation_0-error:0.396783\tvalidation_0-logloss:0.680276\tvalidation_1-error:0.400518\tvalidation_1-logloss:0.678433\n",
      "[3]\tvalidation_0-error:0.393629\tvalidation_0-logloss:0.677416\tvalidation_1-error:0.397562\tvalidation_1-logloss:0.675579\n",
      "[4]\tvalidation_0-error:0.39651\tvalidation_0-logloss:0.672791\tvalidation_1-error:0.398851\tvalidation_1-logloss:0.672321\n",
      "[5]\tvalidation_0-error:0.392067\tvalidation_0-logloss:0.669742\tvalidation_1-error:0.394994\tvalidation_1-logloss:0.674406\n",
      "[6]\tvalidation_0-error:0.387064\tvalidation_0-logloss:0.666391\tvalidation_1-error:0.391425\tvalidation_1-logloss:0.671445\n",
      "[7]\tvalidation_0-error:0.384323\tvalidation_0-logloss:0.66534\tvalidation_1-error:0.388949\tvalidation_1-logloss:0.670383\n",
      "[8]\tvalidation_0-error:0.383256\tvalidation_0-logloss:0.664286\tvalidation_1-error:0.388771\tvalidation_1-logloss:0.663249\n",
      "[9]\tvalidation_0-error:0.384314\tvalidation_0-logloss:0.662491\tvalidation_1-error:0.388813\tvalidation_1-logloss:0.661604\n",
      "[10]\tvalidation_0-error:0.380789\tvalidation_0-logloss:0.660137\tvalidation_1-error:0.385803\tvalidation_1-logloss:0.659535\n",
      "[11]\tvalidation_0-error:0.379263\tvalidation_0-logloss:0.658409\tvalidation_1-error:0.384435\tvalidation_1-logloss:0.658349\n",
      "[12]\tvalidation_0-error:0.379389\tvalidation_0-logloss:0.657038\tvalidation_1-error:0.384863\tvalidation_1-logloss:0.661324\n",
      "[13]\tvalidation_0-error:0.378924\tvalidation_0-logloss:0.655578\tvalidation_1-error:0.384718\tvalidation_1-logloss:0.660234\n",
      "[14]\tvalidation_0-error:0.376247\tvalidation_0-logloss:0.653769\tvalidation_1-error:0.382276\tvalidation_1-logloss:0.658739\n",
      "[15]\tvalidation_0-error:0.3761\tvalidation_0-logloss:0.653313\tvalidation_1-error:0.382756\tvalidation_1-logloss:0.658135\n",
      "[16]\tvalidation_0-error:0.377695\tvalidation_0-logloss:0.651564\tvalidation_1-error:0.382917\tvalidation_1-logloss:0.657009\n",
      "[17]\tvalidation_0-error:0.377647\tvalidation_0-logloss:0.650606\tvalidation_1-error:0.38284\tvalidation_1-logloss:0.655939\n",
      "[18]\tvalidation_0-error:0.375162\tvalidation_0-logloss:0.650534\tvalidation_1-error:0.381258\tvalidation_1-logloss:0.650618\n",
      "[19]\tvalidation_0-error:0.374991\tvalidation_0-logloss:0.64966\tvalidation_1-error:0.3811\tvalidation_1-logloss:0.650059\n",
      "[20]\tvalidation_0-error:0.371894\tvalidation_0-logloss:0.6488\tvalidation_1-error:0.378388\tvalidation_1-logloss:0.649476\n",
      "[21]\tvalidation_0-error:0.371258\tvalidation_0-logloss:0.648802\tvalidation_1-error:0.378109\tvalidation_1-logloss:0.649794\n",
      "[22]\tvalidation_0-error:0.371162\tvalidation_0-logloss:0.648663\tvalidation_1-error:0.377903\tvalidation_1-logloss:0.649428\n",
      "[23]\tvalidation_0-error:0.370919\tvalidation_0-logloss:0.645575\tvalidation_1-error:0.377757\tvalidation_1-logloss:0.647113\n",
      "[24]\tvalidation_0-error:0.370784\tvalidation_0-logloss:0.645037\tvalidation_1-error:0.377646\tvalidation_1-logloss:0.646775\n",
      "[25]\tvalidation_0-error:0.370688\tvalidation_0-logloss:0.644159\tvalidation_1-error:0.377611\tvalidation_1-logloss:0.649393\n",
      "[26]\tvalidation_0-error:0.368521\tvalidation_0-logloss:0.642603\tvalidation_1-error:0.375968\tvalidation_1-logloss:0.648554\n",
      "[27]\tvalidation_0-error:0.368659\tvalidation_0-logloss:0.642467\tvalidation_1-error:0.376356\tvalidation_1-logloss:0.648254\n",
      "[28]\tvalidation_0-error:0.368512\tvalidation_0-logloss:0.642075\tvalidation_1-error:0.376388\tvalidation_1-logloss:0.64786\n",
      "[29]\tvalidation_0-error:0.367223\tvalidation_0-logloss:0.642994\tvalidation_1-error:0.374999\tvalidation_1-logloss:0.648574\n",
      "[30]\tvalidation_0-error:0.366911\tvalidation_0-logloss:0.642469\tvalidation_1-error:0.37456\tvalidation_1-logloss:0.648081\n",
      "[31]\tvalidation_0-error:0.366152\tvalidation_0-logloss:0.641826\tvalidation_1-error:0.373838\tvalidation_1-logloss:0.647497\n",
      "[32]\tvalidation_0-error:0.36561\tvalidation_0-logloss:0.641178\tvalidation_1-error:0.373494\tvalidation_1-logloss:0.647037\n",
      "[33]\tvalidation_0-error:0.365472\tvalidation_0-logloss:0.640769\tvalidation_1-error:0.373538\tvalidation_1-logloss:0.646713\n",
      "[34]\tvalidation_0-error:0.364896\tvalidation_0-logloss:0.640004\tvalidation_1-error:0.3731\tvalidation_1-logloss:0.646343\n",
      "[35]\tvalidation_0-error:0.364519\tvalidation_0-logloss:0.639433\tvalidation_1-error:0.372416\tvalidation_1-logloss:0.64588\n",
      "[36]\tvalidation_0-error:0.363808\tvalidation_0-logloss:0.638885\tvalidation_1-error:0.371988\tvalidation_1-logloss:0.645435\n",
      "[37]\tvalidation_0-error:0.36406\tvalidation_0-logloss:0.638407\tvalidation_1-error:0.371936\tvalidation_1-logloss:0.645125\n",
      "[38]\tvalidation_0-error:0.363892\tvalidation_0-logloss:0.636177\tvalidation_1-error:0.371764\tvalidation_1-logloss:0.643278\n",
      "[39]\tvalidation_0-error:0.363361\tvalidation_0-logloss:0.635528\tvalidation_1-error:0.371262\tvalidation_1-logloss:0.642748\n",
      "[40]\tvalidation_0-error:0.362936\tvalidation_0-logloss:0.635583\tvalidation_1-error:0.371127\tvalidation_1-logloss:0.642555\n",
      "[41]\tvalidation_0-error:0.362687\tvalidation_0-logloss:0.635136\tvalidation_1-error:0.370985\tvalidation_1-logloss:0.642238\n",
      "[42]\tvalidation_0-error:0.362462\tvalidation_0-logloss:0.634707\tvalidation_1-error:0.370926\tvalidation_1-logloss:0.641913\n",
      "[43]\tvalidation_0-error:0.361386\tvalidation_0-logloss:0.634262\tvalidation_1-error:0.37025\tvalidation_1-logloss:0.641579\n",
      "[44]\tvalidation_0-error:0.36102\tvalidation_0-logloss:0.633868\tvalidation_1-error:0.370014\tvalidation_1-logloss:0.641198\n",
      "[45]\tvalidation_0-error:0.360858\tvalidation_0-logloss:0.632868\tvalidation_1-error:0.369937\tvalidation_1-logloss:0.640615\n",
      "[46]\tvalidation_0-error:0.360243\tvalidation_0-logloss:0.633552\tvalidation_1-error:0.369469\tvalidation_1-logloss:0.641198\n",
      "[47]\tvalidation_0-error:0.359518\tvalidation_0-logloss:0.633162\tvalidation_1-error:0.368995\tvalidation_1-logloss:0.640887\n",
      "[48]\tvalidation_0-error:0.358577\tvalidation_0-logloss:0.632727\tvalidation_1-error:0.367976\tvalidation_1-logloss:0.640549\n",
      "[49]\tvalidation_0-error:0.35846\tvalidation_0-logloss:0.632428\tvalidation_1-error:0.367794\tvalidation_1-logloss:0.640256\n",
      "[50]\tvalidation_0-error:0.358235\tvalidation_0-logloss:0.632013\tvalidation_1-error:0.36757\tvalidation_1-logloss:0.639966\n",
      "[51]\tvalidation_0-error:0.35798\tvalidation_0-logloss:0.631612\tvalidation_1-error:0.367343\tvalidation_1-logloss:0.639639\n",
      "[52]\tvalidation_0-error:0.357147\tvalidation_0-logloss:0.631279\tvalidation_1-error:0.366603\tvalidation_1-logloss:0.639363\n",
      "[53]\tvalidation_0-error:0.356679\tvalidation_0-logloss:0.630845\tvalidation_1-error:0.366268\tvalidation_1-logloss:0.6356\n",
      "[54]\tvalidation_0-error:0.356538\tvalidation_0-logloss:0.630857\tvalidation_1-error:0.366275\tvalidation_1-logloss:0.635642\n",
      "[55]\tvalidation_0-error:0.356298\tvalidation_0-logloss:0.630625\tvalidation_1-error:0.366068\tvalidation_1-logloss:0.635412\n",
      "[56]\tvalidation_0-error:0.356064\tvalidation_0-logloss:0.63025\tvalidation_1-error:0.365754\tvalidation_1-logloss:0.635218\n",
      "[57]\tvalidation_0-error:0.355725\tvalidation_0-logloss:0.629931\tvalidation_1-error:0.365541\tvalidation_1-logloss:0.634894\n",
      "[58]\tvalidation_0-error:0.355003\tvalidation_0-logloss:0.629578\tvalidation_1-error:0.364693\tvalidation_1-logloss:0.63463\n",
      "[59]\tvalidation_0-error:0.35446\tvalidation_0-logloss:0.628623\tvalidation_1-error:0.364352\tvalidation_1-logloss:0.636384\n",
      "[60]\tvalidation_0-error:0.354238\tvalidation_0-logloss:0.628245\tvalidation_1-error:0.364098\tvalidation_1-logloss:0.636124\n",
      "[61]\tvalidation_0-error:0.353726\tvalidation_0-logloss:0.627987\tvalidation_1-error:0.36367\tvalidation_1-logloss:0.635891\n",
      "[62]\tvalidation_0-error:0.353357\tvalidation_0-logloss:0.627601\tvalidation_1-error:0.363722\tvalidation_1-logloss:0.635655\n",
      "[63]\tvalidation_0-error:0.353105\tvalidation_0-logloss:0.627315\tvalidation_1-error:0.36348\tvalidation_1-logloss:0.635366\n",
      "[64]\tvalidation_0-error:0.35253\tvalidation_0-logloss:0.627454\tvalidation_1-error:0.362972\tvalidation_1-logloss:0.635446\n",
      "[65]\tvalidation_0-error:0.351819\tvalidation_0-logloss:0.625639\tvalidation_1-error:0.362585\tvalidation_1-logloss:0.633918\n",
      "[66]\tvalidation_0-error:0.351792\tvalidation_0-logloss:0.625377\tvalidation_1-error:0.362554\tvalidation_1-logloss:0.633776\n",
      "[67]\tvalidation_0-error:0.351531\tvalidation_0-logloss:0.625106\tvalidation_1-error:0.362238\tvalidation_1-logloss:0.633584\n",
      "[68]\tvalidation_0-error:0.351034\tvalidation_0-logloss:0.624763\tvalidation_1-error:0.362\tvalidation_1-logloss:0.633335\n"
     ]
    },
    {
     "name": "stdout",
     "output_type": "stream",
     "text": [
      "[69]\tvalidation_0-error:0.350779\tvalidation_0-logloss:0.62455\tvalidation_1-error:0.361852\tvalidation_1-logloss:0.633251\n",
      "[70]\tvalidation_0-error:0.350512\tvalidation_0-logloss:0.624296\tvalidation_1-error:0.361634\tvalidation_1-logloss:0.633111\n",
      "[71]\tvalidation_0-error:0.350047\tvalidation_0-logloss:0.624034\tvalidation_1-error:0.361178\tvalidation_1-logloss:0.63288\n",
      "[72]\tvalidation_0-error:0.349639\tvalidation_0-logloss:0.623757\tvalidation_1-error:0.360897\tvalidation_1-logloss:0.632624\n",
      "[73]\tvalidation_0-error:0.349409\tvalidation_0-logloss:0.624276\tvalidation_1-error:0.360822\tvalidation_1-logloss:0.633185\n",
      "[74]\tvalidation_0-error:0.349019\tvalidation_0-logloss:0.623981\tvalidation_1-error:0.360557\tvalidation_1-logloss:0.632952\n",
      "[75]\tvalidation_0-error:0.347988\tvalidation_0-logloss:0.623797\tvalidation_1-error:0.359942\tvalidation_1-logloss:0.632797\n",
      "[76]\tvalidation_0-error:0.347634\tvalidation_0-logloss:0.62342\tvalidation_1-error:0.359471\tvalidation_1-logloss:0.632525\n",
      "[77]\tvalidation_0-error:0.347364\tvalidation_0-logloss:0.623187\tvalidation_1-error:0.359322\tvalidation_1-logloss:0.632311\n",
      "[78]\tvalidation_0-error:0.346851\tvalidation_0-logloss:0.622907\tvalidation_1-error:0.358912\tvalidation_1-logloss:0.631997\n",
      "[79]\tvalidation_0-error:0.34636\tvalidation_0-logloss:0.621983\tvalidation_1-error:0.358506\tvalidation_1-logloss:0.631423\n",
      "[80]\tvalidation_0-error:0.346144\tvalidation_0-logloss:0.621766\tvalidation_1-error:0.35835\tvalidation_1-logloss:0.631307\n",
      "[81]\tvalidation_0-error:0.345667\tvalidation_0-logloss:0.62147\tvalidation_1-error:0.357894\tvalidation_1-logloss:0.63105\n",
      "[82]\tvalidation_0-error:0.345622\tvalidation_0-logloss:0.621242\tvalidation_1-error:0.357839\tvalidation_1-logloss:0.630919\n",
      "[83]\tvalidation_0-error:0.34519\tvalidation_0-logloss:0.620961\tvalidation_1-error:0.357499\tvalidation_1-logloss:0.63072\n",
      "[84]\tvalidation_0-error:0.344954\tvalidation_0-logloss:0.620704\tvalidation_1-error:0.35733\tvalidation_1-logloss:0.630621\n",
      "[85]\tvalidation_0-error:0.344927\tvalidation_0-logloss:0.620753\tvalidation_1-error:0.357179\tvalidation_1-logloss:0.630584\n",
      "[86]\tvalidation_0-error:0.344717\tvalidation_0-logloss:0.620524\tvalidation_1-error:0.357061\tvalidation_1-logloss:0.630454\n",
      "[87]\tvalidation_0-error:0.344564\tvalidation_0-logloss:0.620277\tvalidation_1-error:0.356934\tvalidation_1-logloss:0.630296\n",
      "[88]\tvalidation_0-error:0.344015\tvalidation_0-logloss:0.620095\tvalidation_1-error:0.356274\tvalidation_1-logloss:0.630227\n",
      "[89]\tvalidation_0-error:0.344315\tvalidation_0-logloss:0.619877\tvalidation_1-error:0.356328\tvalidation_1-logloss:0.629948\n",
      "[90]\tvalidation_0-error:0.344258\tvalidation_0-logloss:0.619606\tvalidation_1-error:0.356356\tvalidation_1-logloss:0.629827\n",
      "[91]\tvalidation_0-error:0.344033\tvalidation_0-logloss:0.61938\tvalidation_1-error:0.356249\tvalidation_1-logloss:0.629638\n",
      "[92]\tvalidation_0-error:0.343832\tvalidation_0-logloss:0.619152\tvalidation_1-error:0.356102\tvalidation_1-logloss:0.629449\n",
      "[93]\tvalidation_0-error:0.343479\tvalidation_0-logloss:0.618937\tvalidation_1-error:0.355881\tvalidation_1-logloss:0.629269\n",
      "[94]\tvalidation_0-error:0.342984\tvalidation_0-logloss:0.618743\tvalidation_1-error:0.355336\tvalidation_1-logloss:0.629131\n",
      "[95]\tvalidation_0-error:0.342507\tvalidation_0-logloss:0.618532\tvalidation_1-error:0.354905\tvalidation_1-logloss:0.628946\n",
      "[96]\tvalidation_0-error:0.341773\tvalidation_0-logloss:0.618336\tvalidation_1-error:0.354416\tvalidation_1-logloss:0.628774\n",
      "[97]\tvalidation_0-error:0.341635\tvalidation_0-logloss:0.618071\tvalidation_1-error:0.354209\tvalidation_1-logloss:0.628605\n",
      "[98]\tvalidation_0-error:0.341422\tvalidation_0-logloss:0.617798\tvalidation_1-error:0.353998\tvalidation_1-logloss:0.628438\n",
      "[99]\tvalidation_0-error:0.340933\tvalidation_0-logloss:0.617554\tvalidation_1-error:0.353669\tvalidation_1-logloss:0.628274\n",
      "[100]\tvalidation_0-error:0.34078\tvalidation_0-logloss:0.617372\tvalidation_1-error:0.353541\tvalidation_1-logloss:0.6281\n",
      "[101]\tvalidation_0-error:0.340645\tvalidation_0-logloss:0.617146\tvalidation_1-error:0.353397\tvalidation_1-logloss:0.627977\n",
      "[102]\tvalidation_0-error:0.340391\tvalidation_0-logloss:0.61729\tvalidation_1-error:0.353245\tvalidation_1-logloss:0.628036\n",
      "[103]\tvalidation_0-error:0.340259\tvalidation_0-logloss:0.617071\tvalidation_1-error:0.3533\tvalidation_1-logloss:0.627837\n",
      "[104]\tvalidation_0-error:0.34019\tvalidation_0-logloss:0.616354\tvalidation_1-error:0.353146\tvalidation_1-logloss:0.627424\n",
      "[105]\tvalidation_0-error:0.339995\tvalidation_0-logloss:0.616277\tvalidation_1-error:0.353\tvalidation_1-logloss:0.627377\n",
      "[106]\tvalidation_0-error:0.339767\tvalidation_0-logloss:0.616088\tvalidation_1-error:0.352879\tvalidation_1-logloss:0.627273\n",
      "[107]\tvalidation_0-error:0.339476\tvalidation_0-logloss:0.615879\tvalidation_1-error:0.352761\tvalidation_1-logloss:0.627111\n",
      "[108]\tvalidation_0-error:0.339185\tvalidation_0-logloss:0.61565\tvalidation_1-error:0.352631\tvalidation_1-logloss:0.627018\n",
      "[109]\tvalidation_0-error:0.339155\tvalidation_0-logloss:0.615505\tvalidation_1-error:0.352598\tvalidation_1-logloss:0.626886\n",
      "[110]\tvalidation_0-error:0.338811\tvalidation_0-logloss:0.615185\tvalidation_1-error:0.35224\tvalidation_1-logloss:0.626674\n",
      "[111]\tvalidation_0-error:0.338502\tvalidation_0-logloss:0.615727\tvalidation_1-error:0.351962\tvalidation_1-logloss:0.627193\n",
      "[112]\tvalidation_0-error:0.338232\tvalidation_0-logloss:0.615539\tvalidation_1-error:0.351647\tvalidation_1-logloss:0.627016\n",
      "[113]\tvalidation_0-error:0.338058\tvalidation_0-logloss:0.615345\tvalidation_1-error:0.351487\tvalidation_1-logloss:0.626851\n",
      "[114]\tvalidation_0-error:0.337929\tvalidation_0-logloss:0.615151\tvalidation_1-error:0.35141\tvalidation_1-logloss:0.626681\n",
      "[115]\tvalidation_0-error:0.337576\tvalidation_0-logloss:0.614961\tvalidation_1-error:0.351303\tvalidation_1-logloss:0.626583\n",
      "[116]\tvalidation_0-error:0.336958\tvalidation_0-logloss:0.614742\tvalidation_1-error:0.350949\tvalidation_1-logloss:0.626443\n",
      "[117]\tvalidation_0-error:0.336607\tvalidation_0-logloss:0.614581\tvalidation_1-error:0.350633\tvalidation_1-logloss:0.626325\n",
      "[118]\tvalidation_0-error:0.336658\tvalidation_0-logloss:0.614386\tvalidation_1-error:0.350791\tvalidation_1-logloss:0.626212\n",
      "[119]\tvalidation_0-error:0.336313\tvalidation_0-logloss:0.614175\tvalidation_1-error:0.350549\tvalidation_1-logloss:0.626098\n",
      "[120]\tvalidation_0-error:0.336262\tvalidation_0-logloss:0.612978\tvalidation_1-error:0.350285\tvalidation_1-logloss:0.624997\n",
      "[121]\tvalidation_0-error:0.33596\tvalidation_0-logloss:0.612823\tvalidation_1-error:0.349977\tvalidation_1-logloss:0.624883\n",
      "[122]\tvalidation_0-error:0.336268\tvalidation_0-logloss:0.612899\tvalidation_1-error:0.350146\tvalidation_1-logloss:0.624949\n",
      "[123]\tvalidation_0-error:0.336373\tvalidation_0-logloss:0.61272\tvalidation_1-error:0.350193\tvalidation_1-logloss:0.624812\n",
      "[124]\tvalidation_0-error:0.335978\tvalidation_0-logloss:0.612406\tvalidation_1-error:0.350053\tvalidation_1-logloss:0.624754\n",
      "[125]\tvalidation_0-error:0.33542\tvalidation_0-logloss:0.6123\tvalidation_1-error:0.349622\tvalidation_1-logloss:0.624644\n",
      "[126]\tvalidation_0-error:0.335498\tvalidation_0-logloss:0.612096\tvalidation_1-error:0.349641\tvalidation_1-logloss:0.624485\n",
      "[127]\tvalidation_0-error:0.335297\tvalidation_0-logloss:0.611884\tvalidation_1-error:0.349483\tvalidation_1-logloss:0.624342\n",
      "[128]\tvalidation_0-error:0.33512\tvalidation_0-logloss:0.611707\tvalidation_1-error:0.349365\tvalidation_1-logloss:0.624237\n",
      "[129]\tvalidation_0-error:0.334973\tvalidation_0-logloss:0.611566\tvalidation_1-error:0.349304\tvalidation_1-logloss:0.624137\n",
      "[130]\tvalidation_0-error:0.334619\tvalidation_0-logloss:0.610926\tvalidation_1-error:0.348992\tvalidation_1-logloss:0.623772\n",
      "[131]\tvalidation_0-error:0.334485\tvalidation_0-logloss:0.610725\tvalidation_1-error:0.348919\tvalidation_1-logloss:0.625133\n",
      "[132]\tvalidation_0-error:0.334041\tvalidation_0-logloss:0.61053\tvalidation_1-error:0.348493\tvalidation_1-logloss:0.625069\n",
      "[133]\tvalidation_0-error:0.333522\tvalidation_0-logloss:0.610399\tvalidation_1-error:0.348219\tvalidation_1-logloss:0.624982\n",
      "[134]\tvalidation_0-error:0.333363\tvalidation_0-logloss:0.610197\tvalidation_1-error:0.348138\tvalidation_1-logloss:0.624795\n",
      "[135]\tvalidation_0-error:0.3333\tvalidation_0-logloss:0.609989\tvalidation_1-error:0.348068\tvalidation_1-logloss:0.624676\n",
      "[136]\tvalidation_0-error:0.332914\tvalidation_0-logloss:0.609832\tvalidation_1-error:0.347749\tvalidation_1-logloss:0.624592\n"
     ]
    },
    {
     "name": "stdout",
     "output_type": "stream",
     "text": [
      "[137]\tvalidation_0-error:0.33253\tvalidation_0-logloss:0.609652\tvalidation_1-error:0.347585\tvalidation_1-logloss:0.624526\n",
      "[138]\tvalidation_0-error:0.332518\tvalidation_0-logloss:0.609762\tvalidation_1-error:0.34768\tvalidation_1-logloss:0.624563\n",
      "[139]\tvalidation_0-error:0.332245\tvalidation_0-logloss:0.609567\tvalidation_1-error:0.347576\tvalidation_1-logloss:0.624507\n",
      "[140]\tvalidation_0-error:0.332098\tvalidation_0-logloss:0.60939\tvalidation_1-error:0.347504\tvalidation_1-logloss:0.624328\n",
      "[141]\tvalidation_0-error:0.331984\tvalidation_0-logloss:0.609249\tvalidation_1-error:0.347467\tvalidation_1-logloss:0.624222\n",
      "[142]\tvalidation_0-error:0.331894\tvalidation_0-logloss:0.609105\tvalidation_1-error:0.347449\tvalidation_1-logloss:0.624083\n",
      "[143]\tvalidation_0-error:0.331681\tvalidation_0-logloss:0.608898\tvalidation_1-error:0.347198\tvalidation_1-logloss:0.623903\n",
      "[144]\tvalidation_0-error:0.331591\tvalidation_0-logloss:0.608696\tvalidation_1-error:0.346983\tvalidation_1-logloss:0.623712\n",
      "[145]\tvalidation_0-error:0.331448\tvalidation_0-logloss:0.608554\tvalidation_1-error:0.346918\tvalidation_1-logloss:0.623613\n",
      "[146]\tvalidation_0-error:0.331133\tvalidation_0-logloss:0.60839\tvalidation_1-error:0.346918\tvalidation_1-logloss:0.62351\n",
      "[147]\tvalidation_0-error:0.33089\tvalidation_0-logloss:0.608213\tvalidation_1-error:0.346713\tvalidation_1-logloss:0.623388\n",
      "[148]\tvalidation_0-error:0.330797\tvalidation_0-logloss:0.608077\tvalidation_1-error:0.346783\tvalidation_1-logloss:0.62335\n",
      "[149]\tvalidation_0-error:0.330539\tvalidation_0-logloss:0.607927\tvalidation_1-error:0.346627\tvalidation_1-logloss:0.623218\n",
      "[150]\tvalidation_0-error:0.330431\tvalidation_0-logloss:0.607773\tvalidation_1-error:0.346617\tvalidation_1-logloss:0.623141\n",
      "[151]\tvalidation_0-error:0.330305\tvalidation_0-logloss:0.607637\tvalidation_1-error:0.346518\tvalidation_1-logloss:0.623045\n",
      "[152]\tvalidation_0-error:0.330098\tvalidation_0-logloss:0.607493\tvalidation_1-error:0.346315\tvalidation_1-logloss:0.622936\n",
      "[153]\tvalidation_0-error:0.329997\tvalidation_0-logloss:0.607343\tvalidation_1-error:0.346273\tvalidation_1-logloss:0.620608\n",
      "[154]\tvalidation_0-error:0.329796\tvalidation_0-logloss:0.607174\tvalidation_1-error:0.345992\tvalidation_1-logloss:0.622712\n",
      "[155]\tvalidation_0-error:0.329736\tvalidation_0-logloss:0.607011\tvalidation_1-error:0.345931\tvalidation_1-logloss:0.622587\n",
      "[156]\tvalidation_0-error:0.32961\tvalidation_0-logloss:0.606874\tvalidation_1-error:0.345819\tvalidation_1-logloss:0.620262\n",
      "[157]\tvalidation_0-error:0.329556\tvalidation_0-logloss:0.606731\tvalidation_1-error:0.34575\tvalidation_1-logloss:0.620107\n",
      "[158]\tvalidation_0-error:0.329457\tvalidation_0-logloss:0.606587\tvalidation_1-error:0.345742\tvalidation_1-logloss:0.620008\n",
      "[159]\tvalidation_0-error:0.329067\tvalidation_0-logloss:0.60642\tvalidation_1-error:0.34561\tvalidation_1-logloss:0.61986\n",
      "[160]\tvalidation_0-error:0.328839\tvalidation_0-logloss:0.606315\tvalidation_1-error:0.34541\tvalidation_1-logloss:0.61981\n",
      "[161]\tvalidation_0-error:0.328764\tvalidation_0-logloss:0.60617\tvalidation_1-error:0.345171\tvalidation_1-logloss:0.619714\n",
      "[162]\tvalidation_0-error:0.328429\tvalidation_0-logloss:0.606031\tvalidation_1-error:0.345156\tvalidation_1-logloss:0.61968\n",
      "[163]\tvalidation_0-error:0.328288\tvalidation_0-logloss:0.605866\tvalidation_1-error:0.345014\tvalidation_1-logloss:0.619575\n",
      "[164]\tvalidation_0-error:0.328135\tvalidation_0-logloss:0.605722\tvalidation_1-error:0.344899\tvalidation_1-logloss:0.619467\n",
      "[165]\tvalidation_0-error:0.327886\tvalidation_0-logloss:0.60556\tvalidation_1-error:0.344858\tvalidation_1-logloss:0.619391\n",
      "[166]\tvalidation_0-error:0.327793\tvalidation_0-logloss:0.605407\tvalidation_1-error:0.344681\tvalidation_1-logloss:0.6193\n",
      "[167]\tvalidation_0-error:0.327772\tvalidation_0-logloss:0.605717\tvalidation_1-error:0.344694\tvalidation_1-logloss:0.619661\n",
      "[168]\tvalidation_0-error:0.327574\tvalidation_0-logloss:0.605567\tvalidation_1-error:0.344605\tvalidation_1-logloss:0.619646\n",
      "[169]\tvalidation_0-error:0.327484\tvalidation_0-logloss:0.605468\tvalidation_1-error:0.34457\tvalidation_1-logloss:0.619599\n",
      "[170]\tvalidation_0-error:0.327334\tvalidation_0-logloss:0.605299\tvalidation_1-error:0.344512\tvalidation_1-logloss:0.61952\n",
      "[171]\tvalidation_0-error:0.327226\tvalidation_0-logloss:0.605145\tvalidation_1-error:0.344446\tvalidation_1-logloss:0.619454\n",
      "[172]\tvalidation_0-error:0.327097\tvalidation_0-logloss:0.605017\tvalidation_1-error:0.344375\tvalidation_1-logloss:0.619363\n",
      "[173]\tvalidation_0-error:0.326951\tvalidation_0-logloss:0.604882\tvalidation_1-error:0.344312\tvalidation_1-logloss:0.619251\n",
      "[174]\tvalidation_0-error:0.326873\tvalidation_0-logloss:0.604748\tvalidation_1-error:0.344326\tvalidation_1-logloss:0.619198\n",
      "[175]\tvalidation_0-error:0.326576\tvalidation_0-logloss:0.604205\tvalidation_1-error:0.344109\tvalidation_1-logloss:0.618935\n",
      "[176]\tvalidation_0-error:0.326312\tvalidation_0-logloss:0.604076\tvalidation_1-error:0.344032\tvalidation_1-logloss:0.61886\n",
      "[177]\tvalidation_0-error:0.326231\tvalidation_0-logloss:0.604196\tvalidation_1-error:0.343982\tvalidation_1-logloss:0.61893\n",
      "[178]\tvalidation_0-error:0.326138\tvalidation_0-logloss:0.60407\tvalidation_1-error:0.343863\tvalidation_1-logloss:0.61885\n",
      "[179]\tvalidation_0-error:0.326123\tvalidation_0-logloss:0.603925\tvalidation_1-error:0.343842\tvalidation_1-logloss:0.618762\n",
      "[180]\tvalidation_0-error:0.325859\tvalidation_0-logloss:0.603819\tvalidation_1-error:0.34386\tvalidation_1-logloss:0.618732\n",
      "[181]\tvalidation_0-error:0.325742\tvalidation_0-logloss:0.603626\tvalidation_1-error:0.343818\tvalidation_1-logloss:0.618596\n",
      "[182]\tvalidation_0-error:0.325766\tvalidation_0-logloss:0.60351\tvalidation_1-error:0.343898\tvalidation_1-logloss:0.61853\n",
      "[183]\tvalidation_0-error:0.32561\tvalidation_0-logloss:0.603369\tvalidation_1-error:0.343787\tvalidation_1-logloss:0.618459\n",
      "[184]\tvalidation_0-error:0.325416\tvalidation_0-logloss:0.603242\tvalidation_1-error:0.343711\tvalidation_1-logloss:0.618375\n",
      "[185]\tvalidation_0-error:0.325359\tvalidation_0-logloss:0.603129\tvalidation_1-error:0.343736\tvalidation_1-logloss:0.618318\n",
      "[186]\tvalidation_0-error:0.325437\tvalidation_0-logloss:0.603024\tvalidation_1-error:0.343737\tvalidation_1-logloss:0.61824\n",
      "[187]\tvalidation_0-error:0.325242\tvalidation_0-logloss:0.602835\tvalidation_1-error:0.343564\tvalidation_1-logloss:0.618135\n",
      "[188]\tvalidation_0-error:0.325086\tvalidation_0-logloss:0.602753\tvalidation_1-error:0.343535\tvalidation_1-logloss:0.618119\n",
      "[189]\tvalidation_0-error:0.32484\tvalidation_0-logloss:0.602603\tvalidation_1-error:0.34334\tvalidation_1-logloss:0.617993\n",
      "[190]\tvalidation_0-error:0.32478\tvalidation_0-logloss:0.602478\tvalidation_1-error:0.343299\tvalidation_1-logloss:0.617896\n",
      "[191]\tvalidation_0-error:0.32472\tvalidation_0-logloss:0.602334\tvalidation_1-error:0.343226\tvalidation_1-logloss:0.617777\n",
      "[192]\tvalidation_0-error:0.324426\tvalidation_0-logloss:0.602213\tvalidation_1-error:0.343135\tvalidation_1-logloss:0.617741\n",
      "[193]\tvalidation_0-error:0.324261\tvalidation_0-logloss:0.601194\tvalidation_1-error:0.343085\tvalidation_1-logloss:0.616871\n",
      "[194]\tvalidation_0-error:0.324132\tvalidation_0-logloss:0.601063\tvalidation_1-error:0.343015\tvalidation_1-logloss:0.616765\n",
      "[195]\tvalidation_0-error:0.32389\tvalidation_0-logloss:0.600925\tvalidation_1-error:0.342921\tvalidation_1-logloss:0.616719\n",
      "[196]\tvalidation_0-error:0.32368\tvalidation_0-logloss:0.600825\tvalidation_1-error:0.342758\tvalidation_1-logloss:0.616644\n",
      "[197]\tvalidation_0-error:0.32356\tvalidation_0-logloss:0.600675\tvalidation_1-error:0.342711\tvalidation_1-logloss:0.61655\n",
      "[198]\tvalidation_0-error:0.32341\tvalidation_0-logloss:0.600593\tvalidation_1-error:0.342642\tvalidation_1-logloss:0.616492\n",
      "[199]\tvalidation_0-error:0.323212\tvalidation_0-logloss:0.600433\tvalidation_1-error:0.34259\tvalidation_1-logloss:0.616363\n",
      "[200]\tvalidation_0-error:0.323089\tvalidation_0-logloss:0.600208\tvalidation_1-error:0.342546\tvalidation_1-logloss:0.61624\n",
      "[201]\tvalidation_0-error:0.3229\tvalidation_0-logloss:0.6001\tvalidation_1-error:0.342429\tvalidation_1-logloss:0.616178\n",
      "[202]\tvalidation_0-error:0.322822\tvalidation_0-logloss:0.599952\tvalidation_1-error:0.342334\tvalidation_1-logloss:0.616108\n",
      "[203]\tvalidation_0-error:0.322741\tvalidation_0-logloss:0.599833\tvalidation_1-error:0.342253\tvalidation_1-logloss:0.616001\n",
      "[204]\tvalidation_0-error:0.322511\tvalidation_0-logloss:0.599964\tvalidation_1-error:0.342185\tvalidation_1-logloss:0.616049\n"
     ]
    },
    {
     "name": "stdout",
     "output_type": "stream",
     "text": [
      "[205]\tvalidation_0-error:0.322337\tvalidation_0-logloss:0.599834\tvalidation_1-error:0.342134\tvalidation_1-logloss:0.615991\n",
      "[206]\tvalidation_0-error:0.322301\tvalidation_0-logloss:0.599741\tvalidation_1-error:0.342066\tvalidation_1-logloss:0.615954\n",
      "[207]\tvalidation_0-error:0.322103\tvalidation_0-logloss:0.599594\tvalidation_1-error:0.34197\tvalidation_1-logloss:0.615871\n",
      "[208]\tvalidation_0-error:0.321878\tvalidation_0-logloss:0.599471\tvalidation_1-error:0.341856\tvalidation_1-logloss:0.615771\n",
      "[209]\tvalidation_0-error:0.32183\tvalidation_0-logloss:0.599054\tvalidation_1-error:0.341854\tvalidation_1-logloss:0.615595\n",
      "[210]\tvalidation_0-error:0.321713\tvalidation_0-logloss:0.598929\tvalidation_1-error:0.341792\tvalidation_1-logloss:0.615537\n",
      "[211]\tvalidation_0-error:0.32159\tvalidation_0-logloss:0.598807\tvalidation_1-error:0.341639\tvalidation_1-logloss:0.615445\n",
      "[212]\tvalidation_0-error:0.321407\tvalidation_0-logloss:0.598685\tvalidation_1-error:0.341482\tvalidation_1-logloss:0.615322\n",
      "[213]\tvalidation_0-error:0.321335\tvalidation_0-logloss:0.598578\tvalidation_1-error:0.341456\tvalidation_1-logloss:0.615226\n",
      "[214]\tvalidation_0-error:0.321179\tvalidation_0-logloss:0.598454\tvalidation_1-error:0.341345\tvalidation_1-logloss:0.615148\n",
      "[215]\tvalidation_0-error:0.321158\tvalidation_0-logloss:0.598359\tvalidation_1-error:0.341313\tvalidation_1-logloss:0.615088\n",
      "[216]\tvalidation_0-error:0.320985\tvalidation_0-logloss:0.598215\tvalidation_1-error:0.341146\tvalidation_1-logloss:0.615011\n",
      "[217]\tvalidation_0-error:0.320988\tvalidation_0-logloss:0.598118\tvalidation_1-error:0.341191\tvalidation_1-logloss:0.614966\n",
      "[218]\tvalidation_0-error:0.320841\tvalidation_0-logloss:0.598003\tvalidation_1-error:0.341157\tvalidation_1-logloss:0.614923\n",
      "[219]\tvalidation_0-error:0.320895\tvalidation_0-logloss:0.597885\tvalidation_1-error:0.34094\tvalidation_1-logloss:0.614871\n",
      "[220]\tvalidation_0-error:0.32076\tvalidation_0-logloss:0.597784\tvalidation_1-error:0.340906\tvalidation_1-logloss:0.614837\n",
      "[221]\tvalidation_0-error:0.320625\tvalidation_0-logloss:0.597659\tvalidation_1-error:0.340743\tvalidation_1-logloss:0.614753\n",
      "[222]\tvalidation_0-error:0.320421\tvalidation_0-logloss:0.598004\tvalidation_1-error:0.340577\tvalidation_1-logloss:0.615215\n",
      "[223]\tvalidation_0-error:0.32031\tvalidation_0-logloss:0.597883\tvalidation_1-error:0.34057\tvalidation_1-logloss:0.61517\n",
      "[224]\tvalidation_0-error:0.320292\tvalidation_0-logloss:0.597652\tvalidation_1-error:0.340599\tvalidation_1-logloss:0.615001\n",
      "[225]\tvalidation_0-error:0.320091\tvalidation_0-logloss:0.597555\tvalidation_1-error:0.340542\tvalidation_1-logloss:0.61493\n",
      "[226]\tvalidation_0-error:0.31998\tvalidation_0-logloss:0.597446\tvalidation_1-error:0.340466\tvalidation_1-logloss:0.614867\n",
      "[227]\tvalidation_0-error:0.31983\tvalidation_0-logloss:0.597311\tvalidation_1-error:0.340357\tvalidation_1-logloss:0.614751\n",
      "[228]\tvalidation_0-error:0.319821\tvalidation_0-logloss:0.597269\tvalidation_1-error:0.340274\tvalidation_1-logloss:0.614727\n",
      "[229]\tvalidation_0-error:0.319749\tvalidation_0-logloss:0.597116\tvalidation_1-error:0.340242\tvalidation_1-logloss:0.614629\n",
      "[230]\tvalidation_0-error:0.31971\tvalidation_0-logloss:0.596982\tvalidation_1-error:0.340196\tvalidation_1-logloss:0.614517\n",
      "[231]\tvalidation_0-error:0.319698\tvalidation_0-logloss:0.59694\tvalidation_1-error:0.340227\tvalidation_1-logloss:0.614499\n",
      "[232]\tvalidation_0-error:0.319557\tvalidation_0-logloss:0.596813\tvalidation_1-error:0.340167\tvalidation_1-logloss:0.614446\n",
      "[233]\tvalidation_0-error:0.319465\tvalidation_0-logloss:0.596679\tvalidation_1-error:0.340032\tvalidation_1-logloss:0.614359\n",
      "[234]\tvalidation_0-error:0.319405\tvalidation_0-logloss:0.596595\tvalidation_1-error:0.33995\tvalidation_1-logloss:0.614265\n",
      "[235]\tvalidation_0-error:0.319393\tvalidation_0-logloss:0.596528\tvalidation_1-error:0.339911\tvalidation_1-logloss:0.614249\n",
      "[236]\tvalidation_0-error:0.319345\tvalidation_0-logloss:0.596416\tvalidation_1-error:0.339871\tvalidation_1-logloss:0.614181\n",
      "[237]\tvalidation_0-error:0.319252\tvalidation_0-logloss:0.596314\tvalidation_1-error:0.339795\tvalidation_1-logloss:0.614109\n",
      "[238]\tvalidation_0-error:0.319204\tvalidation_0-logloss:0.596181\tvalidation_1-error:0.339665\tvalidation_1-logloss:0.614036\n",
      "[239]\tvalidation_0-error:0.31906\tvalidation_0-logloss:0.596304\tvalidation_1-error:0.339583\tvalidation_1-logloss:0.614128\n",
      "[240]\tvalidation_0-error:0.318967\tvalidation_0-logloss:0.596169\tvalidation_1-error:0.339527\tvalidation_1-logloss:0.614067\n",
      "[241]\tvalidation_0-error:0.318916\tvalidation_0-logloss:0.596078\tvalidation_1-error:0.339468\tvalidation_1-logloss:0.614031\n",
      "[242]\tvalidation_0-error:0.318781\tvalidation_0-logloss:0.595979\tvalidation_1-error:0.339386\tvalidation_1-logloss:0.614\n",
      "[243]\tvalidation_0-error:0.318709\tvalidation_0-logloss:0.595848\tvalidation_1-error:0.339341\tvalidation_1-logloss:0.613927\n",
      "[244]\tvalidation_0-error:0.318427\tvalidation_0-logloss:0.595737\tvalidation_1-error:0.339161\tvalidation_1-logloss:0.613865\n",
      "[245]\tvalidation_0-error:0.31837\tvalidation_0-logloss:0.595659\tvalidation_1-error:0.339112\tvalidation_1-logloss:0.6138\n",
      "[246]\tvalidation_0-error:0.318205\tvalidation_0-logloss:0.595533\tvalidation_1-error:0.339012\tvalidation_1-logloss:0.613745\n",
      "[247]\tvalidation_0-error:0.318091\tvalidation_0-logloss:0.595357\tvalidation_1-error:0.338962\tvalidation_1-logloss:0.613642\n",
      "[248]\tvalidation_0-error:0.317939\tvalidation_0-logloss:0.595294\tvalidation_1-error:0.338903\tvalidation_1-logloss:0.613614\n",
      "[249]\tvalidation_0-error:0.317831\tvalidation_0-logloss:0.595181\tvalidation_1-error:0.33882\tvalidation_1-logloss:0.613531\n",
      "[250]\tvalidation_0-error:0.317777\tvalidation_0-logloss:0.595005\tvalidation_1-error:0.338835\tvalidation_1-logloss:0.614336\n",
      "[251]\tvalidation_0-error:0.317675\tvalidation_0-logloss:0.594911\tvalidation_1-error:0.338757\tvalidation_1-logloss:0.614266\n",
      "[252]\tvalidation_0-error:0.317591\tvalidation_0-logloss:0.594824\tvalidation_1-error:0.338723\tvalidation_1-logloss:0.614221\n",
      "[253]\tvalidation_0-error:0.317567\tvalidation_0-logloss:0.594726\tvalidation_1-error:0.338728\tvalidation_1-logloss:0.614187\n",
      "[254]\tvalidation_0-error:0.317489\tvalidation_0-logloss:0.594648\tvalidation_1-error:0.338723\tvalidation_1-logloss:0.614193\n",
      "[255]\tvalidation_0-error:0.317324\tvalidation_0-logloss:0.594541\tvalidation_1-error:0.338622\tvalidation_1-logloss:0.614106\n",
      "[256]\tvalidation_0-error:0.317252\tvalidation_0-logloss:0.594463\tvalidation_1-error:0.338584\tvalidation_1-logloss:0.614062\n",
      "[257]\tvalidation_0-error:0.317138\tvalidation_0-logloss:0.594328\tvalidation_1-error:0.338612\tvalidation_1-logloss:0.613998\n",
      "[258]\tvalidation_0-error:0.317087\tvalidation_0-logloss:0.594235\tvalidation_1-error:0.338573\tvalidation_1-logloss:0.613957\n",
      "[259]\tvalidation_0-error:0.316931\tvalidation_0-logloss:0.594157\tvalidation_1-error:0.338368\tvalidation_1-logloss:0.613919\n",
      "[260]\tvalidation_0-error:0.316913\tvalidation_0-logloss:0.594093\tvalidation_1-error:0.338343\tvalidation_1-logloss:0.613901\n",
      "[261]\tvalidation_0-error:0.316793\tvalidation_0-logloss:0.593977\tvalidation_1-error:0.338336\tvalidation_1-logloss:0.613837\n",
      "[262]\tvalidation_0-error:0.316658\tvalidation_0-logloss:0.593572\tvalidation_1-error:0.338293\tvalidation_1-logloss:0.613629\n",
      "[263]\tvalidation_0-error:0.316541\tvalidation_0-logloss:0.593807\tvalidation_1-error:0.338181\tvalidation_1-logloss:0.613755\n",
      "[264]\tvalidation_0-error:0.31629\tvalidation_0-logloss:0.593395\tvalidation_1-error:0.338002\tvalidation_1-logloss:0.613528\n",
      "[265]\tvalidation_0-error:0.316113\tvalidation_0-logloss:0.593295\tvalidation_1-error:0.337913\tvalidation_1-logloss:0.613448\n",
      "[266]\tvalidation_0-error:0.315954\tvalidation_0-logloss:0.593209\tvalidation_1-error:0.337878\tvalidation_1-logloss:0.6134\n",
      "[267]\tvalidation_0-error:0.315948\tvalidation_0-logloss:0.593164\tvalidation_1-error:0.337875\tvalidation_1-logloss:0.613393\n",
      "[268]\tvalidation_0-error:0.315867\tvalidation_0-logloss:0.593056\tvalidation_1-error:0.337946\tvalidation_1-logloss:0.613351\n",
      "[269]\tvalidation_0-error:0.315795\tvalidation_0-logloss:0.592941\tvalidation_1-error:0.337856\tvalidation_1-logloss:0.61329\n",
      "[270]\tvalidation_0-error:0.315603\tvalidation_0-logloss:0.592823\tvalidation_1-error:0.337664\tvalidation_1-logloss:0.613241\n",
      "[271]\tvalidation_0-error:0.315471\tvalidation_0-logloss:0.592738\tvalidation_1-error:0.33755\tvalidation_1-logloss:0.613207\n",
      "[272]\tvalidation_0-error:0.315348\tvalidation_0-logloss:0.592631\tvalidation_1-error:0.337608\tvalidation_1-logloss:0.613148\n"
     ]
    },
    {
     "name": "stdout",
     "output_type": "stream",
     "text": [
      "[273]\tvalidation_0-error:0.315327\tvalidation_0-logloss:0.592551\tvalidation_1-error:0.337492\tvalidation_1-logloss:0.613072\n",
      "[274]\tvalidation_0-error:0.315195\tvalidation_0-logloss:0.592453\tvalidation_1-error:0.337472\tvalidation_1-logloss:0.613035\n",
      "[275]\tvalidation_0-error:0.31486\tvalidation_0-logloss:0.592333\tvalidation_1-error:0.33733\tvalidation_1-logloss:0.613018\n",
      "[276]\tvalidation_0-error:0.314806\tvalidation_0-logloss:0.592246\tvalidation_1-error:0.337343\tvalidation_1-logloss:0.613009\n",
      "[277]\tvalidation_0-error:0.314569\tvalidation_0-logloss:0.592154\tvalidation_1-error:0.337216\tvalidation_1-logloss:0.612981\n",
      "[278]\tvalidation_0-error:0.314467\tvalidation_0-logloss:0.59204\tvalidation_1-error:0.337234\tvalidation_1-logloss:0.612873\n",
      "[279]\tvalidation_0-error:0.31447\tvalidation_0-logloss:0.592117\tvalidation_1-error:0.337221\tvalidation_1-logloss:0.612881\n",
      "[280]\tvalidation_0-error:0.31441\tvalidation_0-logloss:0.591958\tvalidation_1-error:0.337153\tvalidation_1-logloss:0.612768\n",
      "[281]\tvalidation_0-error:0.314344\tvalidation_0-logloss:0.591868\tvalidation_1-error:0.33712\tvalidation_1-logloss:0.612722\n",
      "[282]\tvalidation_0-error:0.314281\tvalidation_0-logloss:0.591769\tvalidation_1-error:0.33711\tvalidation_1-logloss:0.612655\n",
      "[283]\tvalidation_0-error:0.314188\tvalidation_0-logloss:0.591682\tvalidation_1-error:0.337008\tvalidation_1-logloss:0.612584\n",
      "[284]\tvalidation_0-error:0.31402\tvalidation_0-logloss:0.591581\tvalidation_1-error:0.336976\tvalidation_1-logloss:0.612515\n",
      "[285]\tvalidation_0-error:0.313903\tvalidation_0-logloss:0.591511\tvalidation_1-error:0.33694\tvalidation_1-logloss:0.612441\n",
      "[286]\tvalidation_0-error:0.313909\tvalidation_0-logloss:0.591446\tvalidation_1-error:0.337021\tvalidation_1-logloss:0.612398\n",
      "[287]\tvalidation_0-error:0.313846\tvalidation_0-logloss:0.591357\tvalidation_1-error:0.336987\tvalidation_1-logloss:0.612365\n",
      "[288]\tvalidation_0-error:0.313786\tvalidation_0-logloss:0.591268\tvalidation_1-error:0.336949\tvalidation_1-logloss:0.612361\n",
      "[289]\tvalidation_0-error:0.313732\tvalidation_0-logloss:0.591139\tvalidation_1-error:0.336838\tvalidation_1-logloss:0.612286\n",
      "[290]\tvalidation_0-error:0.313603\tvalidation_0-logloss:0.591044\tvalidation_1-error:0.336748\tvalidation_1-logloss:0.612235\n",
      "[291]\tvalidation_0-error:0.313505\tvalidation_0-logloss:0.590985\tvalidation_1-error:0.336627\tvalidation_1-logloss:0.612174\n",
      "[292]\tvalidation_0-error:0.313457\tvalidation_0-logloss:0.590266\tvalidation_1-error:0.336642\tvalidation_1-logloss:0.611494\n",
      "[293]\tvalidation_0-error:0.313322\tvalidation_0-logloss:0.590808\tvalidation_1-error:0.336503\tvalidation_1-logloss:0.612067\n",
      "[294]\tvalidation_0-error:0.313265\tvalidation_0-logloss:0.590104\tvalidation_1-error:0.336496\tvalidation_1-logloss:0.611411\n",
      "[295]\tvalidation_0-error:0.313139\tvalidation_0-logloss:0.590011\tvalidation_1-error:0.336419\tvalidation_1-logloss:0.611348\n",
      "[296]\tvalidation_0-error:0.313058\tvalidation_0-logloss:0.59057\tvalidation_1-error:0.336369\tvalidation_1-logloss:0.611906\n",
      "[297]\tvalidation_0-error:0.313109\tvalidation_0-logloss:0.589867\tvalidation_1-error:0.336378\tvalidation_1-logloss:0.611249\n",
      "[298]\tvalidation_0-error:0.313082\tvalidation_0-logloss:0.589763\tvalidation_1-error:0.336373\tvalidation_1-logloss:0.61119\n",
      "[299]\tvalidation_0-error:0.312863\tvalidation_0-logloss:0.589678\tvalidation_1-error:0.336267\tvalidation_1-logloss:0.611142\n",
      "[300]\tvalidation_0-error:0.312746\tvalidation_0-logloss:0.589926\tvalidation_1-error:0.336234\tvalidation_1-logloss:0.611428\n",
      "[301]\tvalidation_0-error:0.312698\tvalidation_0-logloss:0.589832\tvalidation_1-error:0.336183\tvalidation_1-logloss:0.611374\n",
      "[302]\tvalidation_0-error:0.312587\tvalidation_0-logloss:0.589729\tvalidation_1-error:0.336141\tvalidation_1-logloss:0.611312\n",
      "[303]\tvalidation_0-error:0.312485\tvalidation_0-logloss:0.58964\tvalidation_1-error:0.336068\tvalidation_1-logloss:0.611253\n",
      "[304]\tvalidation_0-error:0.312392\tvalidation_0-logloss:0.589544\tvalidation_1-error:0.336023\tvalidation_1-logloss:0.611198\n",
      "[305]\tvalidation_0-error:0.312377\tvalidation_0-logloss:0.589436\tvalidation_1-error:0.336019\tvalidation_1-logloss:0.611149\n",
      "[306]\tvalidation_0-error:0.312236\tvalidation_0-logloss:0.589331\tvalidation_1-error:0.335899\tvalidation_1-logloss:0.611113\n",
      "[307]\tvalidation_0-error:0.31214\tvalidation_0-logloss:0.589243\tvalidation_1-error:0.335893\tvalidation_1-logloss:0.61105\n",
      "[308]\tvalidation_0-error:0.312167\tvalidation_0-logloss:0.589149\tvalidation_1-error:0.335846\tvalidation_1-logloss:0.611004\n",
      "[309]\tvalidation_0-error:0.312137\tvalidation_0-logloss:0.589039\tvalidation_1-error:0.335772\tvalidation_1-logloss:0.61094\n",
      "[310]\tvalidation_0-error:0.312074\tvalidation_0-logloss:0.588991\tvalidation_1-error:0.335765\tvalidation_1-logloss:0.610917\n",
      "[311]\tvalidation_0-error:0.312\tvalidation_0-logloss:0.588875\tvalidation_1-error:0.335712\tvalidation_1-logloss:0.610888\n",
      "[312]\tvalidation_0-error:0.311922\tvalidation_0-logloss:0.588794\tvalidation_1-error:0.335704\tvalidation_1-logloss:0.610851\n",
      "[313]\tvalidation_0-error:0.311712\tvalidation_0-logloss:0.588684\tvalidation_1-error:0.335563\tvalidation_1-logloss:0.610808\n",
      "[314]\tvalidation_0-error:0.311658\tvalidation_0-logloss:0.588609\tvalidation_1-error:0.335546\tvalidation_1-logloss:0.610765\n",
      "[315]\tvalidation_0-error:0.311526\tvalidation_0-logloss:0.58853\tvalidation_1-error:0.335403\tvalidation_1-logloss:0.610696\n",
      "[316]\tvalidation_0-error:0.3114\tvalidation_0-logloss:0.588435\tvalidation_1-error:0.335335\tvalidation_1-logloss:0.610668\n",
      "[317]\tvalidation_0-error:0.311196\tvalidation_0-logloss:0.588329\tvalidation_1-error:0.335156\tvalidation_1-logloss:0.610623\n",
      "[318]\tvalidation_0-error:0.311202\tvalidation_0-logloss:0.588241\tvalidation_1-error:0.335149\tvalidation_1-logloss:0.610572\n",
      "[319]\tvalidation_0-error:0.311073\tvalidation_0-logloss:0.588149\tvalidation_1-error:0.334993\tvalidation_1-logloss:0.610505\n",
      "[320]\tvalidation_0-error:0.310998\tvalidation_0-logloss:0.588064\tvalidation_1-error:0.334976\tvalidation_1-logloss:0.610471\n",
      "[321]\tvalidation_0-error:0.310941\tvalidation_0-logloss:0.587991\tvalidation_1-error:0.334922\tvalidation_1-logloss:0.610431\n",
      "[322]\tvalidation_0-error:0.310881\tvalidation_0-logloss:0.587913\tvalidation_1-error:0.334888\tvalidation_1-logloss:0.610387\n",
      "[323]\tvalidation_0-error:0.310845\tvalidation_0-logloss:0.587812\tvalidation_1-error:0.334917\tvalidation_1-logloss:0.610346\n",
      "[324]\tvalidation_0-error:0.3108\tvalidation_0-logloss:0.587745\tvalidation_1-error:0.334879\tvalidation_1-logloss:0.610288\n",
      "[325]\tvalidation_0-error:0.310743\tvalidation_0-logloss:0.587849\tvalidation_1-error:0.334832\tvalidation_1-logloss:0.61036\n",
      "[326]\tvalidation_0-error:0.310641\tvalidation_0-logloss:0.587764\tvalidation_1-error:0.334809\tvalidation_1-logloss:0.610321\n",
      "[327]\tvalidation_0-error:0.310522\tvalidation_0-logloss:0.587668\tvalidation_1-error:0.334799\tvalidation_1-logloss:0.610287\n",
      "[328]\tvalidation_0-error:0.310444\tvalidation_0-logloss:0.587601\tvalidation_1-error:0.334745\tvalidation_1-logloss:0.610251\n",
      "[329]\tvalidation_0-error:0.310342\tvalidation_0-logloss:0.587533\tvalidation_1-error:0.334665\tvalidation_1-logloss:0.610208\n",
      "[330]\tvalidation_0-error:0.310183\tvalidation_0-logloss:0.587445\tvalidation_1-error:0.334595\tvalidation_1-logloss:0.610148\n",
      "[331]\tvalidation_0-error:0.310147\tvalidation_0-logloss:0.587372\tvalidation_1-error:0.334585\tvalidation_1-logloss:0.610113\n",
      "[332]\tvalidation_0-error:0.310093\tvalidation_0-logloss:0.587302\tvalidation_1-error:0.334541\tvalidation_1-logloss:0.610061\n",
      "[333]\tvalidation_0-error:0.310045\tvalidation_0-logloss:0.587195\tvalidation_1-error:0.334501\tvalidation_1-logloss:0.610033\n",
      "[334]\tvalidation_0-error:0.309988\tvalidation_0-logloss:0.586827\tvalidation_1-error:0.33439\tvalidation_1-logloss:0.609866\n",
      "[335]\tvalidation_0-error:0.309916\tvalidation_0-logloss:0.586748\tvalidation_1-error:0.334356\tvalidation_1-logloss:0.609829\n",
      "[336]\tvalidation_0-error:0.309763\tvalidation_0-logloss:0.586675\tvalidation_1-error:0.334276\tvalidation_1-logloss:0.609785\n",
      "[337]\tvalidation_0-error:0.3097\tvalidation_0-logloss:0.586608\tvalidation_1-error:0.334242\tvalidation_1-logloss:0.609743\n",
      "[338]\tvalidation_0-error:0.309595\tvalidation_0-logloss:0.586535\tvalidation_1-error:0.334214\tvalidation_1-logloss:0.609737\n",
      "[339]\tvalidation_0-error:0.309475\tvalidation_0-logloss:0.58646\tvalidation_1-error:0.334145\tvalidation_1-logloss:0.609719\n",
      "[340]\tvalidation_0-error:0.309376\tvalidation_0-logloss:0.586429\tvalidation_1-error:0.33418\tvalidation_1-logloss:0.609701\n"
     ]
    },
    {
     "name": "stdout",
     "output_type": "stream",
     "text": [
      "[341]\tvalidation_0-error:0.309322\tvalidation_0-logloss:0.586358\tvalidation_1-error:0.334183\tvalidation_1-logloss:0.609654\n",
      "[342]\tvalidation_0-error:0.309298\tvalidation_0-logloss:0.586262\tvalidation_1-error:0.334098\tvalidation_1-logloss:0.609593\n",
      "[343]\tvalidation_0-error:0.309271\tvalidation_0-logloss:0.586167\tvalidation_1-error:0.334084\tvalidation_1-logloss:0.609544\n",
      "[344]\tvalidation_0-error:0.309223\tvalidation_0-logloss:0.586083\tvalidation_1-error:0.33411\tvalidation_1-logloss:0.609529\n",
      "[345]\tvalidation_0-error:0.30916\tvalidation_0-logloss:0.585909\tvalidation_1-error:0.33403\tvalidation_1-logloss:0.609425\n",
      "[346]\tvalidation_0-error:0.309103\tvalidation_0-logloss:0.585838\tvalidation_1-error:0.334058\tvalidation_1-logloss:0.609408\n",
      "[347]\tvalidation_0-error:0.30907\tvalidation_0-logloss:0.585755\tvalidation_1-error:0.333994\tvalidation_1-logloss:0.609387\n",
      "[348]\tvalidation_0-error:0.308981\tvalidation_0-logloss:0.58568\tvalidation_1-error:0.333975\tvalidation_1-logloss:0.609323\n",
      "[349]\tvalidation_0-error:0.30896\tvalidation_0-logloss:0.585609\tvalidation_1-error:0.333897\tvalidation_1-logloss:0.609285\n",
      "[350]\tvalidation_0-error:0.308936\tvalidation_0-logloss:0.585549\tvalidation_1-error:0.333894\tvalidation_1-logloss:0.609256\n",
      "[351]\tvalidation_0-error:0.308876\tvalidation_0-logloss:0.585449\tvalidation_1-error:0.333903\tvalidation_1-logloss:0.609199\n",
      "[352]\tvalidation_0-error:0.308789\tvalidation_0-logloss:0.585362\tvalidation_1-error:0.33389\tvalidation_1-logloss:0.609189\n",
      "[353]\tvalidation_0-error:0.308753\tvalidation_0-logloss:0.585283\tvalidation_1-error:0.333829\tvalidation_1-logloss:0.609141\n",
      "[354]\tvalidation_0-error:0.308669\tvalidation_0-logloss:0.585221\tvalidation_1-error:0.333825\tvalidation_1-logloss:0.609109\n",
      "[355]\tvalidation_0-error:0.308549\tvalidation_0-logloss:0.585151\tvalidation_1-error:0.333795\tvalidation_1-logloss:0.609098\n",
      "[356]\tvalidation_0-error:0.308414\tvalidation_0-logloss:0.585113\tvalidation_1-error:0.333771\tvalidation_1-logloss:0.609074\n",
      "[357]\tvalidation_0-error:0.30836\tvalidation_0-logloss:0.585022\tvalidation_1-error:0.333732\tvalidation_1-logloss:0.609052\n",
      "[358]\tvalidation_0-error:0.308264\tvalidation_0-logloss:0.584956\tvalidation_1-error:0.333727\tvalidation_1-logloss:0.609047\n",
      "[359]\tvalidation_0-error:0.308243\tvalidation_0-logloss:0.58489\tvalidation_1-error:0.33372\tvalidation_1-logloss:0.609022\n",
      "[360]\tvalidation_0-error:0.308132\tvalidation_0-logloss:0.584819\tvalidation_1-error:0.333698\tvalidation_1-logloss:0.609011\n",
      "[361]\tvalidation_0-error:0.308111\tvalidation_0-logloss:0.584748\tvalidation_1-error:0.333671\tvalidation_1-logloss:0.608957\n",
      "[362]\tvalidation_0-error:0.308114\tvalidation_0-logloss:0.584676\tvalidation_1-error:0.333622\tvalidation_1-logloss:0.60893\n",
      "[363]\tvalidation_0-error:0.308057\tvalidation_0-logloss:0.584589\tvalidation_1-error:0.333675\tvalidation_1-logloss:0.607678\n",
      "[364]\tvalidation_0-error:0.308021\tvalidation_0-logloss:0.58453\tvalidation_1-error:0.33365\tvalidation_1-logloss:0.607658\n",
      "[365]\tvalidation_0-error:0.307961\tvalidation_0-logloss:0.584439\tvalidation_1-error:0.333603\tvalidation_1-logloss:0.607641\n",
      "[366]\tvalidation_0-error:0.307901\tvalidation_0-logloss:0.584348\tvalidation_1-error:0.333529\tvalidation_1-logloss:0.607599\n",
      "[367]\tvalidation_0-error:0.307874\tvalidation_0-logloss:0.584275\tvalidation_1-error:0.333572\tvalidation_1-logloss:0.607575\n",
      "[368]\tvalidation_0-error:0.307778\tvalidation_0-logloss:0.584192\tvalidation_1-error:0.333517\tvalidation_1-logloss:0.607541\n",
      "[369]\tvalidation_0-error:0.307661\tvalidation_0-logloss:0.584126\tvalidation_1-error:0.333447\tvalidation_1-logloss:0.607505\n",
      "[370]\tvalidation_0-error:0.30764\tvalidation_0-logloss:0.584037\tvalidation_1-error:0.33339\tvalidation_1-logloss:0.607467\n",
      "[371]\tvalidation_0-error:0.307544\tvalidation_0-logloss:0.583967\tvalidation_1-error:0.333356\tvalidation_1-logloss:0.607445\n",
      "[372]\tvalidation_0-error:0.307494\tvalidation_0-logloss:0.584019\tvalidation_1-error:0.333309\tvalidation_1-logloss:0.607492\n",
      "[373]\tvalidation_0-error:0.307449\tvalidation_0-logloss:0.583905\tvalidation_1-error:0.333258\tvalidation_1-logloss:0.607442\n",
      "[374]\tvalidation_0-error:0.307407\tvalidation_0-logloss:0.583853\tvalidation_1-error:0.333216\tvalidation_1-logloss:0.607404\n",
      "[375]\tvalidation_0-error:0.30738\tvalidation_0-logloss:0.583789\tvalidation_1-error:0.333215\tvalidation_1-logloss:0.607391\n",
      "[376]\tvalidation_0-error:0.307377\tvalidation_0-logloss:0.5837\tvalidation_1-error:0.333203\tvalidation_1-logloss:0.607324\n",
      "[377]\tvalidation_0-error:0.307338\tvalidation_0-logloss:0.583634\tvalidation_1-error:0.333198\tvalidation_1-logloss:0.607314\n",
      "[378]\tvalidation_0-error:0.307299\tvalidation_0-logloss:0.583571\tvalidation_1-error:0.333144\tvalidation_1-logloss:0.607287\n",
      "[379]\tvalidation_0-error:0.307116\tvalidation_0-logloss:0.583509\tvalidation_1-error:0.333002\tvalidation_1-logloss:0.607254\n",
      "[380]\tvalidation_0-error:0.307083\tvalidation_0-logloss:0.583448\tvalidation_1-error:0.332973\tvalidation_1-logloss:0.607207\n",
      "[381]\tvalidation_0-error:0.307035\tvalidation_0-logloss:0.583372\tvalidation_1-error:0.332971\tvalidation_1-logloss:0.60718\n",
      "[382]\tvalidation_0-error:0.306975\tvalidation_0-logloss:0.583295\tvalidation_1-error:0.33299\tvalidation_1-logloss:0.607165\n",
      "[383]\tvalidation_0-error:0.306855\tvalidation_0-logloss:0.583208\tvalidation_1-error:0.332947\tvalidation_1-logloss:0.607115\n",
      "[384]\tvalidation_0-error:0.306828\tvalidation_0-logloss:0.583149\tvalidation_1-error:0.332942\tvalidation_1-logloss:0.607069\n",
      "[385]\tvalidation_0-error:0.306762\tvalidation_0-logloss:0.583075\tvalidation_1-error:0.332881\tvalidation_1-logloss:0.607036\n",
      "[386]\tvalidation_0-error:0.306573\tvalidation_0-logloss:0.582997\tvalidation_1-error:0.3328\tvalidation_1-logloss:0.607004\n",
      "[387]\tvalidation_0-error:0.306468\tvalidation_0-logloss:0.58289\tvalidation_1-error:0.332733\tvalidation_1-logloss:0.606971\n",
      "[388]\tvalidation_0-error:0.306321\tvalidation_0-logloss:0.582835\tvalidation_1-error:0.332609\tvalidation_1-logloss:0.606938\n",
      "[389]\tvalidation_0-error:0.306207\tvalidation_0-logloss:0.582746\tvalidation_1-error:0.332612\tvalidation_1-logloss:0.606906\n",
      "[390]\tvalidation_0-error:0.306153\tvalidation_0-logloss:0.582681\tvalidation_1-error:0.332611\tvalidation_1-logloss:0.606893\n",
      "[391]\tvalidation_0-error:0.306129\tvalidation_0-logloss:0.582618\tvalidation_1-error:0.332572\tvalidation_1-logloss:0.606854\n",
      "[392]\tvalidation_0-error:0.306015\tvalidation_0-logloss:0.582551\tvalidation_1-error:0.332521\tvalidation_1-logloss:0.606811\n",
      "[393]\tvalidation_0-error:0.30592\tvalidation_0-logloss:0.5825\tvalidation_1-error:0.332513\tvalidation_1-logloss:0.606786\n",
      "[394]\tvalidation_0-error:0.30583\tvalidation_0-logloss:0.582406\tvalidation_1-error:0.332468\tvalidation_1-logloss:0.606764\n",
      "[395]\tvalidation_0-error:0.305698\tvalidation_0-logloss:0.582324\tvalidation_1-error:0.332445\tvalidation_1-logloss:0.606746\n",
      "[396]\tvalidation_0-error:0.305686\tvalidation_0-logloss:0.58226\tvalidation_1-error:0.332478\tvalidation_1-logloss:0.606744\n",
      "[397]\tvalidation_0-error:0.305536\tvalidation_0-logloss:0.582448\tvalidation_1-error:0.3324\tvalidation_1-logloss:0.606957\n",
      "[398]\tvalidation_0-error:0.305449\tvalidation_0-logloss:0.582386\tvalidation_1-error:0.332346\tvalidation_1-logloss:0.606935\n",
      "[399]\tvalidation_0-error:0.305383\tvalidation_0-logloss:0.58231\tvalidation_1-error:0.332301\tvalidation_1-logloss:0.606928\n",
      "[400]\tvalidation_0-error:0.305293\tvalidation_0-logloss:0.582251\tvalidation_1-error:0.332276\tvalidation_1-logloss:0.60689\n",
      "[401]\tvalidation_0-error:0.305245\tvalidation_0-logloss:0.582185\tvalidation_1-error:0.332249\tvalidation_1-logloss:0.606858\n",
      "[402]\tvalidation_0-error:0.305167\tvalidation_0-logloss:0.581874\tvalidation_1-error:0.332183\tvalidation_1-logloss:0.606713\n",
      "[403]\tvalidation_0-error:0.305086\tvalidation_0-logloss:0.582061\tvalidation_1-error:0.332143\tvalidation_1-logloss:0.606795\n",
      "[404]\tvalidation_0-error:0.305047\tvalidation_0-logloss:0.581739\tvalidation_1-error:0.332094\tvalidation_1-logloss:0.606626\n",
      "[405]\tvalidation_0-error:0.304975\tvalidation_0-logloss:0.581676\tvalidation_1-error:0.332118\tvalidation_1-logloss:0.606622\n",
      "[406]\tvalidation_0-error:0.304888\tvalidation_0-logloss:0.58162\tvalidation_1-error:0.332091\tvalidation_1-logloss:0.606597\n",
      "[407]\tvalidation_0-error:0.304804\tvalidation_0-logloss:0.581558\tvalidation_1-error:0.332032\tvalidation_1-logloss:0.606554\n",
      "[408]\tvalidation_0-error:0.30463\tvalidation_0-logloss:0.581489\tvalidation_1-error:0.331899\tvalidation_1-logloss:0.606511\n"
     ]
    },
    {
     "name": "stdout",
     "output_type": "stream",
     "text": [
      "[409]\tvalidation_0-error:0.304522\tvalidation_0-logloss:0.581392\tvalidation_1-error:0.331855\tvalidation_1-logloss:0.606475\n",
      "[410]\tvalidation_0-error:0.304507\tvalidation_0-logloss:0.581362\tvalidation_1-error:0.331778\tvalidation_1-logloss:0.606425\n",
      "[411]\tvalidation_0-error:0.304445\tvalidation_0-logloss:0.5813\tvalidation_1-error:0.33174\tvalidation_1-logloss:0.606389\n",
      "[412]\tvalidation_0-error:0.304397\tvalidation_0-logloss:0.581244\tvalidation_1-error:0.331806\tvalidation_1-logloss:0.606405\n",
      "[413]\tvalidation_0-error:0.304343\tvalidation_0-logloss:0.581167\tvalidation_1-error:0.3318\tvalidation_1-logloss:0.606372\n",
      "[414]\tvalidation_0-error:0.304262\tvalidation_0-logloss:0.581104\tvalidation_1-error:0.331735\tvalidation_1-logloss:0.606326\n",
      "[415]\tvalidation_0-error:0.304217\tvalidation_0-logloss:0.581022\tvalidation_1-error:0.331772\tvalidation_1-logloss:0.60632\n",
      "[416]\tvalidation_0-error:0.30416\tvalidation_0-logloss:0.580949\tvalidation_1-error:0.331704\tvalidation_1-logloss:0.606288\n",
      "[417]\tvalidation_0-error:0.304136\tvalidation_0-logloss:0.580896\tvalidation_1-error:0.331651\tvalidation_1-logloss:0.60624\n",
      "[418]\tvalidation_0-error:0.304115\tvalidation_0-logloss:0.580828\tvalidation_1-error:0.331676\tvalidation_1-logloss:0.606213\n",
      "[419]\tvalidation_0-error:0.304061\tvalidation_0-logloss:0.580786\tvalidation_1-error:0.331666\tvalidation_1-logloss:0.606202\n",
      "[420]\tvalidation_0-error:0.304034\tvalidation_0-logloss:0.580692\tvalidation_1-error:0.331672\tvalidation_1-logloss:0.606191\n",
      "[421]\tvalidation_0-error:0.303959\tvalidation_0-logloss:0.580608\tvalidation_1-error:0.331645\tvalidation_1-logloss:0.606178\n",
      "[422]\tvalidation_0-error:0.303923\tvalidation_0-logloss:0.580559\tvalidation_1-error:0.33162\tvalidation_1-logloss:0.606151\n",
      "[423]\tvalidation_0-error:0.303908\tvalidation_0-logloss:0.580483\tvalidation_1-error:0.331613\tvalidation_1-logloss:0.606137\n",
      "[424]\tvalidation_0-error:0.303809\tvalidation_0-logloss:0.580406\tvalidation_1-error:0.331576\tvalidation_1-logloss:0.606092\n",
      "[425]\tvalidation_0-error:0.30374\tvalidation_0-logloss:0.580349\tvalidation_1-error:0.331567\tvalidation_1-logloss:0.606054\n",
      "[426]\tvalidation_0-error:0.30368\tvalidation_0-logloss:0.580286\tvalidation_1-error:0.331574\tvalidation_1-logloss:0.606029\n",
      "[427]\tvalidation_0-error:0.303605\tvalidation_0-logloss:0.580251\tvalidation_1-error:0.331545\tvalidation_1-logloss:0.606027\n",
      "[428]\tvalidation_0-error:0.30359\tvalidation_0-logloss:0.580195\tvalidation_1-error:0.331511\tvalidation_1-logloss:0.605993\n",
      "[429]\tvalidation_0-error:0.30356\tvalidation_0-logloss:0.580131\tvalidation_1-error:0.33153\tvalidation_1-logloss:0.605938\n",
      "[430]\tvalidation_0-error:0.303461\tvalidation_0-logloss:0.580054\tvalidation_1-error:0.331444\tvalidation_1-logloss:0.605895\n",
      "[431]\tvalidation_0-error:0.30332\tvalidation_0-logloss:0.579989\tvalidation_1-error:0.331425\tvalidation_1-logloss:0.605919\n",
      "[432]\tvalidation_0-error:0.303194\tvalidation_0-logloss:0.57993\tvalidation_1-error:0.33137\tvalidation_1-logloss:0.605836\n",
      "[433]\tvalidation_0-error:0.303152\tvalidation_0-logloss:0.579879\tvalidation_1-error:0.331362\tvalidation_1-logloss:0.605798\n",
      "[434]\tvalidation_0-error:0.30308\tvalidation_0-logloss:0.579883\tvalidation_1-error:0.331333\tvalidation_1-logloss:0.605819\n",
      "[435]\tvalidation_0-error:0.303026\tvalidation_0-logloss:0.57981\tvalidation_1-error:0.331363\tvalidation_1-logloss:0.605819\n",
      "[436]\tvalidation_0-error:0.302952\tvalidation_0-logloss:0.579737\tvalidation_1-error:0.331311\tvalidation_1-logloss:0.605747\n",
      "[437]\tvalidation_0-error:0.30285\tvalidation_0-logloss:0.579667\tvalidation_1-error:0.331261\tvalidation_1-logloss:0.605732\n",
      "[438]\tvalidation_0-error:0.302775\tvalidation_0-logloss:0.579597\tvalidation_1-error:0.331264\tvalidation_1-logloss:0.605713\n",
      "[439]\tvalidation_0-error:0.302838\tvalidation_0-logloss:0.579533\tvalidation_1-error:0.331257\tvalidation_1-logloss:0.605705\n",
      "[440]\tvalidation_0-error:0.302856\tvalidation_0-logloss:0.579466\tvalidation_1-error:0.331226\tvalidation_1-logloss:0.605649\n",
      "[441]\tvalidation_0-error:0.302862\tvalidation_0-logloss:0.579395\tvalidation_1-error:0.33124\tvalidation_1-logloss:0.605625\n",
      "[442]\tvalidation_0-error:0.302814\tvalidation_0-logloss:0.57936\tvalidation_1-error:0.331211\tvalidation_1-logloss:0.605616\n",
      "[443]\tvalidation_0-error:0.302754\tvalidation_0-logloss:0.579305\tvalidation_1-error:0.331207\tvalidation_1-logloss:0.605594\n",
      "[444]\tvalidation_0-error:0.3027\tvalidation_0-logloss:0.579244\tvalidation_1-error:0.331171\tvalidation_1-logloss:0.605576\n",
      "[445]\tvalidation_0-error:0.302688\tvalidation_0-logloss:0.579159\tvalidation_1-error:0.331178\tvalidation_1-logloss:0.605526\n",
      "[446]\tvalidation_0-error:0.30264\tvalidation_0-logloss:0.579096\tvalidation_1-error:0.331121\tvalidation_1-logloss:0.605493\n",
      "[447]\tvalidation_0-error:0.302577\tvalidation_0-logloss:0.579076\tvalidation_1-error:0.331046\tvalidation_1-logloss:0.605493\n",
      "[448]\tvalidation_0-error:0.302532\tvalidation_0-logloss:0.57901\tvalidation_1-error:0.330991\tvalidation_1-logloss:0.605463\n",
      "[449]\tvalidation_0-error:0.302475\tvalidation_0-logloss:0.578962\tvalidation_1-error:0.330969\tvalidation_1-logloss:0.605401\n",
      "[450]\tvalidation_0-error:0.302424\tvalidation_0-logloss:0.578896\tvalidation_1-error:0.330892\tvalidation_1-logloss:0.605376\n",
      "[451]\tvalidation_0-error:0.30237\tvalidation_0-logloss:0.578787\tvalidation_1-error:0.330892\tvalidation_1-logloss:0.605323\n",
      "[452]\tvalidation_0-error:0.302316\tvalidation_0-logloss:0.578289\tvalidation_1-error:0.33088\tvalidation_1-logloss:0.604809\n",
      "[453]\tvalidation_0-error:0.302244\tvalidation_0-logloss:0.578208\tvalidation_1-error:0.330752\tvalidation_1-logloss:0.604768\n",
      "[454]\tvalidation_0-error:0.302175\tvalidation_0-logloss:0.578159\tvalidation_1-error:0.3307\tvalidation_1-logloss:0.604752\n",
      "[455]\tvalidation_0-error:0.302148\tvalidation_0-logloss:0.578101\tvalidation_1-error:0.330672\tvalidation_1-logloss:0.604717\n",
      "[456]\tvalidation_0-error:0.302019\tvalidation_0-logloss:0.578039\tvalidation_1-error:0.33069\tvalidation_1-logloss:0.604695\n",
      "[457]\tvalidation_0-error:0.302022\tvalidation_0-logloss:0.577977\tvalidation_1-error:0.330642\tvalidation_1-logloss:0.604684\n",
      "[458]\tvalidation_0-error:0.301953\tvalidation_0-logloss:0.577913\tvalidation_1-error:0.330647\tvalidation_1-logloss:0.604666\n",
      "[459]\tvalidation_0-error:0.301911\tvalidation_0-logloss:0.577856\tvalidation_1-error:0.330607\tvalidation_1-logloss:0.604631\n",
      "[460]\tvalidation_0-error:0.301875\tvalidation_0-logloss:0.577802\tvalidation_1-error:0.330536\tvalidation_1-logloss:0.604615\n",
      "[461]\tvalidation_0-error:0.30183\tvalidation_0-logloss:0.577741\tvalidation_1-error:0.330514\tvalidation_1-logloss:0.604582\n",
      "[462]\tvalidation_0-error:0.301779\tvalidation_0-logloss:0.57768\tvalidation_1-error:0.330526\tvalidation_1-logloss:0.604547\n",
      "[463]\tvalidation_0-error:0.301782\tvalidation_0-logloss:0.577621\tvalidation_1-error:0.330588\tvalidation_1-logloss:0.605063\n",
      "[464]\tvalidation_0-error:0.301692\tvalidation_0-logloss:0.577562\tvalidation_1-error:0.330613\tvalidation_1-logloss:0.605081\n",
      "[465]\tvalidation_0-error:0.301692\tvalidation_0-logloss:0.577462\tvalidation_1-error:0.330642\tvalidation_1-logloss:0.605083\n",
      "[466]\tvalidation_0-error:0.301617\tvalidation_0-logloss:0.57741\tvalidation_1-error:0.330616\tvalidation_1-logloss:0.60507\n",
      "[467]\tvalidation_0-error:0.301554\tvalidation_0-logloss:0.577353\tvalidation_1-error:0.330585\tvalidation_1-logloss:0.605033\n",
      "[468]\tvalidation_0-error:0.301477\tvalidation_0-logloss:0.577304\tvalidation_1-error:0.330533\tvalidation_1-logloss:0.605019\n",
      "[469]\tvalidation_0-error:0.30142\tvalidation_0-logloss:0.577223\tvalidation_1-error:0.33052\tvalidation_1-logloss:0.604985\n",
      "[470]\tvalidation_0-error:0.30133\tvalidation_0-logloss:0.577168\tvalidation_1-error:0.330527\tvalidation_1-logloss:0.605005\n",
      "[471]\tvalidation_0-error:0.301243\tvalidation_0-logloss:0.577119\tvalidation_1-error:0.330505\tvalidation_1-logloss:0.604973\n",
      "[472]\tvalidation_0-error:0.301141\tvalidation_0-logloss:0.577077\tvalidation_1-error:0.330535\tvalidation_1-logloss:0.604952\n",
      "[473]\tvalidation_0-error:0.30112\tvalidation_0-logloss:0.577012\tvalidation_1-error:0.330546\tvalidation_1-logloss:0.604913\n",
      "[474]\tvalidation_0-error:0.301084\tvalidation_0-logloss:0.576924\tvalidation_1-error:0.330548\tvalidation_1-logloss:0.60487\n",
      "[475]\tvalidation_0-error:0.300985\tvalidation_0-logloss:0.576845\tvalidation_1-error:0.330526\tvalidation_1-logloss:0.604872\n",
      "[476]\tvalidation_0-error:0.300979\tvalidation_0-logloss:0.576804\tvalidation_1-error:0.33056\tvalidation_1-logloss:0.604861\n"
     ]
    },
    {
     "name": "stdout",
     "output_type": "stream",
     "text": [
      "[477]\tvalidation_0-error:0.300895\tvalidation_0-logloss:0.57675\tvalidation_1-error:0.330501\tvalidation_1-logloss:0.604836\n",
      "[478]\tvalidation_0-error:0.300844\tvalidation_0-logloss:0.576701\tvalidation_1-error:0.330527\tvalidation_1-logloss:0.604829\n",
      "[479]\tvalidation_0-error:0.300847\tvalidation_0-logloss:0.576637\tvalidation_1-error:0.330515\tvalidation_1-logloss:0.604816\n",
      "[480]\tvalidation_0-error:0.300799\tvalidation_0-logloss:0.576558\tvalidation_1-error:0.330446\tvalidation_1-logloss:0.604787\n",
      "[481]\tvalidation_0-error:0.300814\tvalidation_0-logloss:0.576508\tvalidation_1-error:0.330411\tvalidation_1-logloss:0.604755\n",
      "[482]\tvalidation_0-error:0.300718\tvalidation_0-logloss:0.576558\tvalidation_1-error:0.330428\tvalidation_1-logloss:0.604791\n",
      "[483]\tvalidation_0-error:0.300598\tvalidation_0-logloss:0.576511\tvalidation_1-error:0.330409\tvalidation_1-logloss:0.604781\n",
      "[484]\tvalidation_0-error:0.300556\tvalidation_0-logloss:0.576453\tvalidation_1-error:0.330347\tvalidation_1-logloss:0.604738\n",
      "[485]\tvalidation_0-error:0.300511\tvalidation_0-logloss:0.576412\tvalidation_1-error:0.330321\tvalidation_1-logloss:0.604711\n",
      "[486]\tvalidation_0-error:0.300487\tvalidation_0-logloss:0.576136\tvalidation_1-error:0.330315\tvalidation_1-logloss:0.604592\n",
      "[487]\tvalidation_0-error:0.300457\tvalidation_0-logloss:0.576073\tvalidation_1-error:0.330334\tvalidation_1-logloss:0.604592\n",
      "[488]\tvalidation_0-error:0.300343\tvalidation_0-logloss:0.576\tvalidation_1-error:0.330344\tvalidation_1-logloss:0.604598\n",
      "[489]\tvalidation_0-error:0.300268\tvalidation_0-logloss:0.575963\tvalidation_1-error:0.330307\tvalidation_1-logloss:0.604578\n",
      "[490]\tvalidation_0-error:0.300241\tvalidation_0-logloss:0.575902\tvalidation_1-error:0.330281\tvalidation_1-logloss:0.604554\n",
      "[491]\tvalidation_0-error:0.300202\tvalidation_0-logloss:0.575843\tvalidation_1-error:0.33025\tvalidation_1-logloss:0.60452\n",
      "[492]\tvalidation_0-error:0.300121\tvalidation_0-logloss:0.575788\tvalidation_1-error:0.330233\tvalidation_1-logloss:0.604492\n",
      "[493]\tvalidation_0-error:0.300112\tvalidation_0-logloss:0.575737\tvalidation_1-error:0.330226\tvalidation_1-logloss:0.604478\n",
      "[494]\tvalidation_0-error:0.30004\tvalidation_0-logloss:0.575666\tvalidation_1-error:0.330168\tvalidation_1-logloss:0.604479\n",
      "[495]\tvalidation_0-error:0.299975\tvalidation_0-logloss:0.575606\tvalidation_1-error:0.330164\tvalidation_1-logloss:0.604462\n",
      "[496]\tvalidation_0-error:0.299882\tvalidation_0-logloss:0.575545\tvalidation_1-error:0.330145\tvalidation_1-logloss:0.604456\n",
      "[497]\tvalidation_0-error:0.299822\tvalidation_0-logloss:0.575498\tvalidation_1-error:0.330095\tvalidation_1-logloss:0.604422\n",
      "[498]\tvalidation_0-error:0.299729\tvalidation_0-logloss:0.575444\tvalidation_1-error:0.330108\tvalidation_1-logloss:0.604403\n",
      "[499]\tvalidation_0-error:0.299726\tvalidation_0-logloss:0.575419\tvalidation_1-error:0.330096\tvalidation_1-logloss:0.604389\n",
      "[500]\tvalidation_0-error:0.299654\tvalidation_0-logloss:0.575366\tvalidation_1-error:0.330112\tvalidation_1-logloss:0.60436\n",
      "[501]\tvalidation_0-error:0.299618\tvalidation_0-logloss:0.5753\tvalidation_1-error:0.330106\tvalidation_1-logloss:0.604321\n",
      "[502]\tvalidation_0-error:0.299543\tvalidation_0-logloss:0.575254\tvalidation_1-error:0.330043\tvalidation_1-logloss:0.604297\n",
      "[503]\tvalidation_0-error:0.299561\tvalidation_0-logloss:0.575202\tvalidation_1-error:0.330077\tvalidation_1-logloss:0.604308\n",
      "[504]\tvalidation_0-error:0.299504\tvalidation_0-logloss:0.575147\tvalidation_1-error:0.330075\tvalidation_1-logloss:0.604333\n",
      "[505]\tvalidation_0-error:0.299444\tvalidation_0-logloss:0.575059\tvalidation_1-error:0.330013\tvalidation_1-logloss:0.604325\n",
      "[506]\tvalidation_0-error:0.299411\tvalidation_0-logloss:0.575007\tvalidation_1-error:0.330003\tvalidation_1-logloss:0.604323\n",
      "[507]\tvalidation_0-error:0.299372\tvalidation_0-logloss:0.574951\tvalidation_1-error:0.329993\tvalidation_1-logloss:0.604314\n",
      "[508]\tvalidation_0-error:0.299309\tvalidation_0-logloss:0.574904\tvalidation_1-error:0.329959\tvalidation_1-logloss:0.604293\n",
      "[509]\tvalidation_0-error:0.299237\tvalidation_0-logloss:0.574856\tvalidation_1-error:0.329988\tvalidation_1-logloss:0.604298\n",
      "[510]\tvalidation_0-error:0.299189\tvalidation_0-logloss:0.574794\tvalidation_1-error:0.329948\tvalidation_1-logloss:0.604265\n",
      "[511]\tvalidation_0-error:0.299084\tvalidation_0-logloss:0.574737\tvalidation_1-error:0.329891\tvalidation_1-logloss:0.604208\n",
      "[512]\tvalidation_0-error:0.298985\tvalidation_0-logloss:0.574667\tvalidation_1-error:0.329824\tvalidation_1-logloss:0.604172\n",
      "[513]\tvalidation_0-error:0.299024\tvalidation_0-logloss:0.574608\tvalidation_1-error:0.329802\tvalidation_1-logloss:0.604139\n",
      "[514]\tvalidation_0-error:0.298919\tvalidation_0-logloss:0.57454\tvalidation_1-error:0.329764\tvalidation_1-logloss:0.604113\n",
      "[515]\tvalidation_0-error:0.298853\tvalidation_0-logloss:0.574491\tvalidation_1-error:0.329749\tvalidation_1-logloss:0.604086\n",
      "[516]\tvalidation_0-error:0.298823\tvalidation_0-logloss:0.574441\tvalidation_1-error:0.329733\tvalidation_1-logloss:0.604066\n",
      "[517]\tvalidation_0-error:0.298787\tvalidation_0-logloss:0.574389\tvalidation_1-error:0.329764\tvalidation_1-logloss:0.604065\n",
      "[518]\tvalidation_0-error:0.298721\tvalidation_0-logloss:0.574549\tvalidation_1-error:0.329739\tvalidation_1-logloss:0.604255\n",
      "[519]\tvalidation_0-error:0.298712\tvalidation_0-logloss:0.574281\tvalidation_1-error:0.32972\tvalidation_1-logloss:0.604011\n",
      "[520]\tvalidation_0-error:0.298688\tvalidation_0-logloss:0.57438\tvalidation_1-error:0.329774\tvalidation_1-logloss:0.604215\n",
      "[521]\tvalidation_0-error:0.298646\tvalidation_0-logloss:0.574326\tvalidation_1-error:0.329758\tvalidation_1-logloss:0.604199\n",
      "[522]\tvalidation_0-error:0.298652\tvalidation_0-logloss:0.574256\tvalidation_1-error:0.329759\tvalidation_1-logloss:0.604185\n",
      "[523]\tvalidation_0-error:0.298616\tvalidation_0-logloss:0.574203\tvalidation_1-error:0.329771\tvalidation_1-logloss:0.604178\n",
      "[524]\tvalidation_0-error:0.298583\tvalidation_0-logloss:0.574141\tvalidation_1-error:0.329768\tvalidation_1-logloss:0.604183\n",
      "[525]\tvalidation_0-error:0.298505\tvalidation_0-logloss:0.574087\tvalidation_1-error:0.329748\tvalidation_1-logloss:0.604151\n",
      "[526]\tvalidation_0-error:0.29838\tvalidation_0-logloss:0.574029\tvalidation_1-error:0.329687\tvalidation_1-logloss:0.604126\n",
      "[527]\tvalidation_0-error:0.298314\tvalidation_0-logloss:0.573975\tvalidation_1-error:0.329606\tvalidation_1-logloss:0.604099\n",
      "[528]\tvalidation_0-error:0.298203\tvalidation_0-logloss:0.573922\tvalidation_1-error:0.329569\tvalidation_1-logloss:0.604079\n",
      "[529]\tvalidation_0-error:0.298188\tvalidation_0-logloss:0.573867\tvalidation_1-error:0.329572\tvalidation_1-logloss:0.60407\n",
      "[530]\tvalidation_0-error:0.298089\tvalidation_0-logloss:0.573817\tvalidation_1-error:0.329516\tvalidation_1-logloss:0.604033\n",
      "[531]\tvalidation_0-error:0.297963\tvalidation_0-logloss:0.573776\tvalidation_1-error:0.329421\tvalidation_1-logloss:0.604031\n",
      "[532]\tvalidation_0-error:0.297951\tvalidation_0-logloss:0.573736\tvalidation_1-error:0.329393\tvalidation_1-logloss:0.604013\n",
      "[533]\tvalidation_0-error:0.297933\tvalidation_0-logloss:0.573685\tvalidation_1-error:0.329359\tvalidation_1-logloss:0.60398\n",
      "[534]\tvalidation_0-error:0.297873\tvalidation_0-logloss:0.573635\tvalidation_1-error:0.329263\tvalidation_1-logloss:0.603945\n",
      "[535]\tvalidation_0-error:0.297768\tvalidation_0-logloss:0.573602\tvalidation_1-error:0.329243\tvalidation_1-logloss:0.60395\n",
      "[536]\tvalidation_0-error:0.29772\tvalidation_0-logloss:0.573545\tvalidation_1-error:0.329194\tvalidation_1-logloss:0.603944\n",
      "[537]\tvalidation_0-error:0.29769\tvalidation_0-logloss:0.573468\tvalidation_1-error:0.329204\tvalidation_1-logloss:0.60391\n",
      "[538]\tvalidation_0-error:0.297666\tvalidation_0-logloss:0.573435\tvalidation_1-error:0.32911\tvalidation_1-logloss:0.6039\n",
      "[539]\tvalidation_0-error:0.297603\tvalidation_0-logloss:0.573384\tvalidation_1-error:0.329068\tvalidation_1-logloss:0.603872\n",
      "[540]\tvalidation_0-error:0.297546\tvalidation_0-logloss:0.573339\tvalidation_1-error:0.329062\tvalidation_1-logloss:0.60384\n",
      "[541]\tvalidation_0-error:0.297543\tvalidation_0-logloss:0.573291\tvalidation_1-error:0.329101\tvalidation_1-logloss:0.603847\n",
      "[542]\tvalidation_0-error:0.297516\tvalidation_0-logloss:0.573249\tvalidation_1-error:0.329092\tvalidation_1-logloss:0.603821\n",
      "[543]\tvalidation_0-error:0.297441\tvalidation_0-logloss:0.573199\tvalidation_1-error:0.329092\tvalidation_1-logloss:0.603811\n",
      "[544]\tvalidation_0-error:0.297429\tvalidation_0-logloss:0.573141\tvalidation_1-error:0.329079\tvalidation_1-logloss:0.603785\n"
     ]
    },
    {
     "name": "stdout",
     "output_type": "stream",
     "text": [
      "[545]\tvalidation_0-error:0.297402\tvalidation_0-logloss:0.573087\tvalidation_1-error:0.329065\tvalidation_1-logloss:0.603765\n",
      "[546]\tvalidation_0-error:0.297309\tvalidation_0-logloss:0.57303\tvalidation_1-error:0.329018\tvalidation_1-logloss:0.603743\n",
      "[547]\tvalidation_0-error:0.297279\tvalidation_0-logloss:0.572981\tvalidation_1-error:0.328995\tvalidation_1-logloss:0.603709\n",
      "[548]\tvalidation_0-error:0.297219\tvalidation_0-logloss:0.572926\tvalidation_1-error:0.329008\tvalidation_1-logloss:0.603688\n",
      "[549]\tvalidation_0-error:0.297156\tvalidation_0-logloss:0.572875\tvalidation_1-error:0.329002\tvalidation_1-logloss:0.603685\n",
      "[550]\tvalidation_0-error:0.297054\tvalidation_0-logloss:0.572824\tvalidation_1-error:0.328941\tvalidation_1-logloss:0.603675\n",
      "[551]\tvalidation_0-error:0.296974\tvalidation_0-logloss:0.572748\tvalidation_1-error:0.328899\tvalidation_1-logloss:0.603671\n",
      "[552]\tvalidation_0-error:0.296935\tvalidation_0-logloss:0.572702\tvalidation_1-error:0.328925\tvalidation_1-logloss:0.603645\n",
      "[553]\tvalidation_0-error:0.296887\tvalidation_0-logloss:0.572658\tvalidation_1-error:0.328949\tvalidation_1-logloss:0.603633\n",
      "[554]\tvalidation_0-error:0.296881\tvalidation_0-logloss:0.572603\tvalidation_1-error:0.328881\tvalidation_1-logloss:0.603616\n",
      "[555]\tvalidation_0-error:0.296842\tvalidation_0-logloss:0.572559\tvalidation_1-error:0.328882\tvalidation_1-logloss:0.603597\n",
      "[556]\tvalidation_0-error:0.296863\tvalidation_0-logloss:0.572513\tvalidation_1-error:0.328896\tvalidation_1-logloss:0.603569\n",
      "[557]\tvalidation_0-error:0.296737\tvalidation_0-logloss:0.572564\tvalidation_1-error:0.328829\tvalidation_1-logloss:0.603587\n",
      "[558]\tvalidation_0-error:0.296632\tvalidation_0-logloss:0.572498\tvalidation_1-error:0.328841\tvalidation_1-logloss:0.603567\n",
      "[559]\tvalidation_0-error:0.296599\tvalidation_0-logloss:0.572448\tvalidation_1-error:0.328817\tvalidation_1-logloss:0.603518\n",
      "[560]\tvalidation_0-error:0.296569\tvalidation_0-logloss:0.572286\tvalidation_1-error:0.328845\tvalidation_1-logloss:0.603459\n",
      "[561]\tvalidation_0-error:0.296551\tvalidation_0-logloss:0.572224\tvalidation_1-error:0.328828\tvalidation_1-logloss:0.603439\n",
      "[562]\tvalidation_0-error:0.296479\tvalidation_0-logloss:0.572274\tvalidation_1-error:0.328785\tvalidation_1-logloss:0.603465\n",
      "[563]\tvalidation_0-error:0.29644\tvalidation_0-logloss:0.57222\tvalidation_1-error:0.328751\tvalidation_1-logloss:0.603438\n",
      "[564]\tvalidation_0-error:0.296338\tvalidation_0-logloss:0.572173\tvalidation_1-error:0.328671\tvalidation_1-logloss:0.603405\n",
      "[565]\tvalidation_0-error:0.296293\tvalidation_0-logloss:0.572132\tvalidation_1-error:0.328692\tvalidation_1-logloss:0.60341\n",
      "[566]\tvalidation_0-error:0.296254\tvalidation_0-logloss:0.572066\tvalidation_1-error:0.328679\tvalidation_1-logloss:0.603387\n",
      "[567]\tvalidation_0-error:0.296308\tvalidation_0-logloss:0.572023\tvalidation_1-error:0.328705\tvalidation_1-logloss:0.60339\n",
      "[568]\tvalidation_0-error:0.29626\tvalidation_0-logloss:0.571967\tvalidation_1-error:0.328718\tvalidation_1-logloss:0.603367\n",
      "[569]\tvalidation_0-error:0.296236\tvalidation_0-logloss:0.571926\tvalidation_1-error:0.328671\tvalidation_1-logloss:0.603345\n",
      "[570]\tvalidation_0-error:0.296143\tvalidation_0-logloss:0.571869\tvalidation_1-error:0.328646\tvalidation_1-logloss:0.603308\n",
      "[571]\tvalidation_0-error:0.296095\tvalidation_0-logloss:0.571834\tvalidation_1-error:0.328714\tvalidation_1-logloss:0.60334\n",
      "[572]\tvalidation_0-error:0.296065\tvalidation_0-logloss:0.571781\tvalidation_1-error:0.328714\tvalidation_1-logloss:0.603326\n",
      "[573]\tvalidation_0-error:0.296047\tvalidation_0-logloss:0.571689\tvalidation_1-error:0.328695\tvalidation_1-logloss:0.603265\n",
      "[574]\tvalidation_0-error:0.295975\tvalidation_0-logloss:0.571664\tvalidation_1-error:0.32867\tvalidation_1-logloss:0.603269\n",
      "[575]\tvalidation_0-error:0.295999\tvalidation_0-logloss:0.571552\tvalidation_1-error:0.328622\tvalidation_1-logloss:0.603215\n",
      "[576]\tvalidation_0-error:0.295954\tvalidation_0-logloss:0.571513\tvalidation_1-error:0.328653\tvalidation_1-logloss:0.603206\n",
      "[577]\tvalidation_0-error:0.295873\tvalidation_0-logloss:0.571449\tvalidation_1-error:0.328645\tvalidation_1-logloss:0.603191\n",
      "[578]\tvalidation_0-error:0.295825\tvalidation_0-logloss:0.571406\tvalidation_1-error:0.328652\tvalidation_1-logloss:0.603184\n",
      "[579]\tvalidation_0-error:0.295762\tvalidation_0-logloss:0.571358\tvalidation_1-error:0.328608\tvalidation_1-logloss:0.603171\n",
      "[580]\tvalidation_0-error:0.295699\tvalidation_0-logloss:0.571302\tvalidation_1-error:0.328634\tvalidation_1-logloss:0.603173\n",
      "[581]\tvalidation_0-error:0.295645\tvalidation_0-logloss:0.57125\tvalidation_1-error:0.328622\tvalidation_1-logloss:0.603161\n",
      "[582]\tvalidation_0-error:0.295582\tvalidation_0-logloss:0.571201\tvalidation_1-error:0.328535\tvalidation_1-logloss:0.603153\n",
      "[583]\tvalidation_0-error:0.295469\tvalidation_0-logloss:0.571144\tvalidation_1-error:0.328546\tvalidation_1-logloss:0.603144\n",
      "[584]\tvalidation_0-error:0.295412\tvalidation_0-logloss:0.571098\tvalidation_1-error:0.328543\tvalidation_1-logloss:0.60312\n",
      "[585]\tvalidation_0-error:0.295358\tvalidation_0-logloss:0.57105\tvalidation_1-error:0.328513\tvalidation_1-logloss:0.603106\n",
      "[586]\tvalidation_0-error:0.295388\tvalidation_0-logloss:0.571011\tvalidation_1-error:0.328485\tvalidation_1-logloss:0.603084\n",
      "[587]\tvalidation_0-error:0.295277\tvalidation_0-logloss:0.570954\tvalidation_1-error:0.328433\tvalidation_1-logloss:0.603053\n",
      "[588]\tvalidation_0-error:0.29519\tvalidation_0-logloss:0.570893\tvalidation_1-error:0.328435\tvalidation_1-logloss:0.603035\n",
      "[589]\tvalidation_0-error:0.29519\tvalidation_0-logloss:0.570829\tvalidation_1-error:0.328473\tvalidation_1-logloss:0.603016\n",
      "[590]\tvalidation_0-error:0.295142\tvalidation_0-logloss:0.570781\tvalidation_1-error:0.328466\tvalidation_1-logloss:0.603006\n",
      "[591]\tvalidation_0-error:0.295055\tvalidation_0-logloss:0.57073\tvalidation_1-error:0.328478\tvalidation_1-logloss:0.603036\n",
      "[592]\tvalidation_0-error:0.294959\tvalidation_0-logloss:0.570664\tvalidation_1-error:0.328515\tvalidation_1-logloss:0.603038\n",
      "[593]\tvalidation_0-error:0.294887\tvalidation_0-logloss:0.570604\tvalidation_1-error:0.328473\tvalidation_1-logloss:0.602978\n",
      "[594]\tvalidation_0-error:0.294905\tvalidation_0-logloss:0.570555\tvalidation_1-error:0.328451\tvalidation_1-logloss:0.602948\n",
      "[595]\tvalidation_0-error:0.294869\tvalidation_0-logloss:0.570517\tvalidation_1-error:0.328432\tvalidation_1-logloss:0.602938\n",
      "[596]\tvalidation_0-error:0.294851\tvalidation_0-logloss:0.57046\tvalidation_1-error:0.328385\tvalidation_1-logloss:0.602924\n",
      "[597]\tvalidation_0-error:0.294821\tvalidation_0-logloss:0.570417\tvalidation_1-error:0.328349\tvalidation_1-logloss:0.602908\n",
      "[598]\tvalidation_0-error:0.294821\tvalidation_0-logloss:0.570381\tvalidation_1-error:0.328351\tvalidation_1-logloss:0.602903\n",
      "[599]\tvalidation_0-error:0.294803\tvalidation_0-logloss:0.570338\tvalidation_1-error:0.328368\tvalidation_1-logloss:0.602894\n",
      "[600]\tvalidation_0-error:0.294815\tvalidation_0-logloss:0.570085\tvalidation_1-error:0.328362\tvalidation_1-logloss:0.602773\n",
      "[601]\tvalidation_0-error:0.294803\tvalidation_0-logloss:0.570028\tvalidation_1-error:0.328343\tvalidation_1-logloss:0.60275\n",
      "[602]\tvalidation_0-error:0.294698\tvalidation_0-logloss:0.569958\tvalidation_1-error:0.328324\tvalidation_1-logloss:0.602735\n",
      "[603]\tvalidation_0-error:0.294644\tvalidation_0-logloss:0.569915\tvalidation_1-error:0.32828\tvalidation_1-logloss:0.602713\n",
      "[604]\tvalidation_0-error:0.294659\tvalidation_0-logloss:0.569861\tvalidation_1-error:0.32828\tvalidation_1-logloss:0.602715\n",
      "[605]\tvalidation_0-error:0.294557\tvalidation_0-logloss:0.569808\tvalidation_1-error:0.328302\tvalidation_1-logloss:0.602696\n",
      "[606]\tvalidation_0-error:0.294473\tvalidation_0-logloss:0.56976\tvalidation_1-error:0.328342\tvalidation_1-logloss:0.602718\n",
      "[607]\tvalidation_0-error:0.29441\tvalidation_0-logloss:0.569723\tvalidation_1-error:0.32834\tvalidation_1-logloss:0.60272\n",
      "[608]\tvalidation_0-error:0.294443\tvalidation_0-logloss:0.56966\tvalidation_1-error:0.328309\tvalidation_1-logloss:0.602673\n",
      "[609]\tvalidation_0-error:0.294398\tvalidation_0-logloss:0.569613\tvalidation_1-error:0.328292\tvalidation_1-logloss:0.602644\n",
      "[610]\tvalidation_0-error:0.294305\tvalidation_0-logloss:0.569564\tvalidation_1-error:0.328237\tvalidation_1-logloss:0.602629\n",
      "[611]\tvalidation_0-error:0.294287\tvalidation_0-logloss:0.569512\tvalidation_1-error:0.328253\tvalidation_1-logloss:0.602611\n",
      "[612]\tvalidation_0-error:0.294191\tvalidation_0-logloss:0.56947\tvalidation_1-error:0.328269\tvalidation_1-logloss:0.602602\n"
     ]
    },
    {
     "name": "stdout",
     "output_type": "stream",
     "text": [
      "[613]\tvalidation_0-error:0.294191\tvalidation_0-logloss:0.569424\tvalidation_1-error:0.328236\tvalidation_1-logloss:0.602562\n",
      "[614]\tvalidation_0-error:0.294155\tvalidation_0-logloss:0.569382\tvalidation_1-error:0.328206\tvalidation_1-logloss:0.602538\n",
      "[615]\tvalidation_0-error:0.294185\tvalidation_0-logloss:0.569339\tvalidation_1-error:0.328171\tvalidation_1-logloss:0.602508\n",
      "[616]\tvalidation_0-error:0.29411\tvalidation_0-logloss:0.569291\tvalidation_1-error:0.328145\tvalidation_1-logloss:0.602484\n",
      "[617]\tvalidation_0-error:0.294041\tvalidation_0-logloss:0.569234\tvalidation_1-error:0.328116\tvalidation_1-logloss:0.602462\n",
      "[618]\tvalidation_0-error:0.293985\tvalidation_0-logloss:0.569188\tvalidation_1-error:0.328076\tvalidation_1-logloss:0.60244\n",
      "[619]\tvalidation_0-error:0.293967\tvalidation_0-logloss:0.569139\tvalidation_1-error:0.328055\tvalidation_1-logloss:0.602416\n",
      "[620]\tvalidation_0-error:0.293913\tvalidation_0-logloss:0.569091\tvalidation_1-error:0.328039\tvalidation_1-logloss:0.602402\n",
      "[621]\tvalidation_0-error:0.293919\tvalidation_0-logloss:0.569051\tvalidation_1-error:0.328042\tvalidation_1-logloss:0.60239\n",
      "[622]\tvalidation_0-error:0.293874\tvalidation_0-logloss:0.569007\tvalidation_1-error:0.328042\tvalidation_1-logloss:0.602374\n",
      "[623]\tvalidation_0-error:0.293808\tvalidation_0-logloss:0.568969\tvalidation_1-error:0.328004\tvalidation_1-logloss:0.602363\n",
      "[624]\tvalidation_0-error:0.293751\tvalidation_0-logloss:0.568923\tvalidation_1-error:0.327964\tvalidation_1-logloss:0.602333\n",
      "[625]\tvalidation_0-error:0.293727\tvalidation_0-logloss:0.568875\tvalidation_1-error:0.327952\tvalidation_1-logloss:0.602312\n",
      "[626]\tvalidation_0-error:0.293682\tvalidation_0-logloss:0.568828\tvalidation_1-error:0.327979\tvalidation_1-logloss:0.602291\n",
      "[627]\tvalidation_0-error:0.293634\tvalidation_0-logloss:0.568788\tvalidation_1-error:0.327967\tvalidation_1-logloss:0.602284\n",
      "[628]\tvalidation_0-error:0.293646\tvalidation_0-logloss:0.568751\tvalidation_1-error:0.327962\tvalidation_1-logloss:0.602261\n",
      "[629]\tvalidation_0-error:0.293502\tvalidation_0-logloss:0.568692\tvalidation_1-error:0.327878\tvalidation_1-logloss:0.602242\n",
      "[630]\tvalidation_0-error:0.293511\tvalidation_0-logloss:0.568753\tvalidation_1-error:0.327868\tvalidation_1-logloss:0.602288\n",
      "[631]\tvalidation_0-error:0.293424\tvalidation_0-logloss:0.568701\tvalidation_1-error:0.327857\tvalidation_1-logloss:0.602284\n",
      "[632]\tvalidation_0-error:0.293394\tvalidation_0-logloss:0.568671\tvalidation_1-error:0.327835\tvalidation_1-logloss:0.602243\n",
      "[633]\tvalidation_0-error:0.293301\tvalidation_0-logloss:0.568617\tvalidation_1-error:0.327807\tvalidation_1-logloss:0.60223\n",
      "[634]\tvalidation_0-error:0.29325\tvalidation_0-logloss:0.56857\tvalidation_1-error:0.327818\tvalidation_1-logloss:0.602213\n",
      "[635]\tvalidation_0-error:0.293187\tvalidation_0-logloss:0.568459\tvalidation_1-error:0.327813\tvalidation_1-logloss:0.602175\n",
      "[636]\tvalidation_0-error:0.293181\tvalidation_0-logloss:0.568407\tvalidation_1-error:0.32779\tvalidation_1-logloss:0.602168\n",
      "[637]\tvalidation_0-error:0.293133\tvalidation_0-logloss:0.568363\tvalidation_1-error:0.327829\tvalidation_1-logloss:0.60217\n",
      "[638]\tvalidation_0-error:0.293055\tvalidation_0-logloss:0.568326\tvalidation_1-error:0.3278\tvalidation_1-logloss:0.602149\n",
      "[639]\tvalidation_0-error:0.293046\tvalidation_0-logloss:0.568289\tvalidation_1-error:0.327803\tvalidation_1-logloss:0.602143\n",
      "[640]\tvalidation_0-error:0.293079\tvalidation_0-logloss:0.568249\tvalidation_1-error:0.32777\tvalidation_1-logloss:0.602145\n",
      "[641]\tvalidation_0-error:0.293028\tvalidation_0-logloss:0.568204\tvalidation_1-error:0.327781\tvalidation_1-logloss:0.602124\n",
      "[642]\tvalidation_0-error:0.292992\tvalidation_0-logloss:0.568169\tvalidation_1-error:0.327714\tvalidation_1-logloss:0.602098\n",
      "[643]\tvalidation_0-error:0.292902\tvalidation_0-logloss:0.568121\tvalidation_1-error:0.327666\tvalidation_1-logloss:0.602063\n",
      "[644]\tvalidation_0-error:0.292824\tvalidation_0-logloss:0.568076\tvalidation_1-error:0.32771\tvalidation_1-logloss:0.602049\n",
      "[645]\tvalidation_0-error:0.292836\tvalidation_0-logloss:0.568036\tvalidation_1-error:0.327713\tvalidation_1-logloss:0.602035\n",
      "[646]\tvalidation_0-error:0.292764\tvalidation_0-logloss:0.567997\tvalidation_1-error:0.327697\tvalidation_1-logloss:0.60201\n",
      "[647]\tvalidation_0-error:0.292731\tvalidation_0-logloss:0.567962\tvalidation_1-error:0.327692\tvalidation_1-logloss:0.602018\n",
      "[648]\tvalidation_0-error:0.292623\tvalidation_0-logloss:0.567905\tvalidation_1-error:0.327702\tvalidation_1-logloss:0.601987\n",
      "[649]\tvalidation_0-error:0.292656\tvalidation_0-logloss:0.56787\tvalidation_1-error:0.327664\tvalidation_1-logloss:0.601987\n",
      "[650]\tvalidation_0-error:0.292587\tvalidation_0-logloss:0.567825\tvalidation_1-error:0.327658\tvalidation_1-logloss:0.601968\n",
      "[651]\tvalidation_0-error:0.29256\tvalidation_0-logloss:0.567778\tvalidation_1-error:0.327652\tvalidation_1-logloss:0.601962\n",
      "[652]\tvalidation_0-error:0.292551\tvalidation_0-logloss:0.567741\tvalidation_1-error:0.327682\tvalidation_1-logloss:0.601947\n",
      "[653]\tvalidation_0-error:0.292509\tvalidation_0-logloss:0.567693\tvalidation_1-error:0.327671\tvalidation_1-logloss:0.601963\n",
      "[654]\tvalidation_0-error:0.2925\tvalidation_0-logloss:0.567656\tvalidation_1-error:0.327657\tvalidation_1-logloss:0.601947\n",
      "[655]\tvalidation_0-error:0.292512\tvalidation_0-logloss:0.56761\tvalidation_1-error:0.327682\tvalidation_1-logloss:0.601923\n",
      "[656]\tvalidation_0-error:0.292465\tvalidation_0-logloss:0.567568\tvalidation_1-error:0.327602\tvalidation_1-logloss:0.601889\n",
      "[657]\tvalidation_0-error:0.292417\tvalidation_0-logloss:0.56751\tvalidation_1-error:0.327621\tvalidation_1-logloss:0.60187\n",
      "[658]\tvalidation_0-error:0.292315\tvalidation_0-logloss:0.567464\tvalidation_1-error:0.32754\tvalidation_1-logloss:0.601847\n",
      "[659]\tvalidation_0-error:0.292273\tvalidation_0-logloss:0.567426\tvalidation_1-error:0.327543\tvalidation_1-logloss:0.601857\n",
      "[660]\tvalidation_0-error:0.292324\tvalidation_0-logloss:0.567391\tvalidation_1-error:0.327533\tvalidation_1-logloss:0.601845\n",
      "[661]\tvalidation_0-error:0.292285\tvalidation_0-logloss:0.567003\tvalidation_1-error:0.32759\tvalidation_1-logloss:0.601463\n",
      "[662]\tvalidation_0-error:0.292273\tvalidation_0-logloss:0.566949\tvalidation_1-error:0.327556\tvalidation_1-logloss:0.601423\n",
      "[663]\tvalidation_0-error:0.292267\tvalidation_0-logloss:0.567082\tvalidation_1-error:0.327553\tvalidation_1-logloss:0.601595\n",
      "[664]\tvalidation_0-error:0.29221\tvalidation_0-logloss:0.567035\tvalidation_1-error:0.327561\tvalidation_1-logloss:0.601585\n",
      "[665]\tvalidation_0-error:0.292162\tvalidation_0-logloss:0.566992\tvalidation_1-error:0.327515\tvalidation_1-logloss:0.601575\n",
      "[666]\tvalidation_0-error:0.292108\tvalidation_0-logloss:0.566948\tvalidation_1-error:0.327496\tvalidation_1-logloss:0.601573\n",
      "[667]\tvalidation_0-error:0.292084\tvalidation_0-logloss:0.566884\tvalidation_1-error:0.327477\tvalidation_1-logloss:0.601539\n",
      "[668]\tvalidation_0-error:0.29206\tvalidation_0-logloss:0.56685\tvalidation_1-error:0.327468\tvalidation_1-logloss:0.601526\n",
      "[669]\tvalidation_0-error:0.291973\tvalidation_0-logloss:0.566822\tvalidation_1-error:0.327443\tvalidation_1-logloss:0.601534\n",
      "[670]\tvalidation_0-error:0.29194\tvalidation_0-logloss:0.566773\tvalidation_1-error:0.327386\tvalidation_1-logloss:0.601497\n",
      "[671]\tvalidation_0-error:0.291904\tvalidation_0-logloss:0.566734\tvalidation_1-error:0.327389\tvalidation_1-logloss:0.601488\n",
      "[672]\tvalidation_0-error:0.29188\tvalidation_0-logloss:0.566696\tvalidation_1-error:0.327358\tvalidation_1-logloss:0.601474\n",
      "[673]\tvalidation_0-error:0.291847\tvalidation_0-logloss:0.566657\tvalidation_1-error:0.327347\tvalidation_1-logloss:0.601482\n",
      "[674]\tvalidation_0-error:0.291796\tvalidation_0-logloss:0.566622\tvalidation_1-error:0.327381\tvalidation_1-logloss:0.60148\n",
      "[675]\tvalidation_0-error:0.291757\tvalidation_0-logloss:0.56657\tvalidation_1-error:0.327389\tvalidation_1-logloss:0.601457\n",
      "[676]\tvalidation_0-error:0.291718\tvalidation_0-logloss:0.566548\tvalidation_1-error:0.327385\tvalidation_1-logloss:0.601443\n",
      "[677]\tvalidation_0-error:0.291724\tvalidation_0-logloss:0.566497\tvalidation_1-error:0.32736\tvalidation_1-logloss:0.601412\n",
      "[678]\tvalidation_0-error:0.291709\tvalidation_0-logloss:0.566447\tvalidation_1-error:0.327326\tvalidation_1-logloss:0.601382\n",
      "[679]\tvalidation_0-error:0.291613\tvalidation_0-logloss:0.566399\tvalidation_1-error:0.327314\tvalidation_1-logloss:0.601365\n",
      "[680]\tvalidation_0-error:0.291583\tvalidation_0-logloss:0.566363\tvalidation_1-error:0.327307\tvalidation_1-logloss:0.60135\n"
     ]
    },
    {
     "name": "stdout",
     "output_type": "stream",
     "text": [
      "[681]\tvalidation_0-error:0.291535\tvalidation_0-logloss:0.56633\tvalidation_1-error:0.327286\tvalidation_1-logloss:0.601341\n",
      "[682]\tvalidation_0-error:0.291499\tvalidation_0-logloss:0.56628\tvalidation_1-error:0.327286\tvalidation_1-logloss:0.60135\n",
      "[683]\tvalidation_0-error:0.29143\tvalidation_0-logloss:0.566238\tvalidation_1-error:0.327293\tvalidation_1-logloss:0.601331\n",
      "[684]\tvalidation_0-error:0.291439\tvalidation_0-logloss:0.5662\tvalidation_1-error:0.327254\tvalidation_1-logloss:0.60132\n",
      "[685]\tvalidation_0-error:0.291424\tvalidation_0-logloss:0.566156\tvalidation_1-error:0.327276\tvalidation_1-logloss:0.601317\n",
      "[686]\tvalidation_0-error:0.291364\tvalidation_0-logloss:0.566115\tvalidation_1-error:0.327208\tvalidation_1-logloss:0.601307\n",
      "[687]\tvalidation_0-error:0.291325\tvalidation_0-logloss:0.566085\tvalidation_1-error:0.327199\tvalidation_1-logloss:0.601286\n",
      "[688]\tvalidation_0-error:0.291286\tvalidation_0-logloss:0.56603\tvalidation_1-error:0.327166\tvalidation_1-logloss:0.601268\n",
      "[689]\tvalidation_0-error:0.291274\tvalidation_0-logloss:0.565994\tvalidation_1-error:0.327178\tvalidation_1-logloss:0.601267\n",
      "[690]\tvalidation_0-error:0.291208\tvalidation_0-logloss:0.565945\tvalidation_1-error:0.327153\tvalidation_1-logloss:0.601261\n",
      "[691]\tvalidation_0-error:0.291187\tvalidation_0-logloss:0.565894\tvalidation_1-error:0.327166\tvalidation_1-logloss:0.601237\n",
      "[692]\tvalidation_0-error:0.291178\tvalidation_0-logloss:0.565877\tvalidation_1-error:0.32718\tvalidation_1-logloss:0.601236\n",
      "[693]\tvalidation_0-error:0.291142\tvalidation_0-logloss:0.565839\tvalidation_1-error:0.327113\tvalidation_1-logloss:0.601231\n",
      "[694]\tvalidation_0-error:0.291124\tvalidation_0-logloss:0.565801\tvalidation_1-error:0.327128\tvalidation_1-logloss:0.60122\n",
      "[695]\tvalidation_0-error:0.291088\tvalidation_0-logloss:0.565709\tvalidation_1-error:0.3271\tvalidation_1-logloss:0.601182\n",
      "[696]\tvalidation_0-error:0.291052\tvalidation_0-logloss:0.565713\tvalidation_1-error:0.327088\tvalidation_1-logloss:0.601179\n",
      "[697]\tvalidation_0-error:0.291004\tvalidation_0-logloss:0.565682\tvalidation_1-error:0.327081\tvalidation_1-logloss:0.601163\n",
      "[698]\tvalidation_0-error:0.290972\tvalidation_0-logloss:0.565602\tvalidation_1-error:0.327067\tvalidation_1-logloss:0.601139\n",
      "[699]\tvalidation_0-error:0.290942\tvalidation_0-logloss:0.565559\tvalidation_1-error:0.327073\tvalidation_1-logloss:0.601133\n",
      "[700]\tvalidation_0-error:0.290912\tvalidation_0-logloss:0.565565\tvalidation_1-error:0.327066\tvalidation_1-logloss:0.601149\n",
      "[701]\tvalidation_0-error:0.290864\tvalidation_0-logloss:0.565494\tvalidation_1-error:0.327039\tvalidation_1-logloss:0.601147\n",
      "[702]\tvalidation_0-error:0.29081\tvalidation_0-logloss:0.56545\tvalidation_1-error:0.327022\tvalidation_1-logloss:0.601134\n",
      "[703]\tvalidation_0-error:0.290837\tvalidation_0-logloss:0.565409\tvalidation_1-error:0.326995\tvalidation_1-logloss:0.601133\n",
      "[704]\tvalidation_0-error:0.290828\tvalidation_0-logloss:0.565372\tvalidation_1-error:0.32705\tvalidation_1-logloss:0.601119\n",
      "[705]\tvalidation_0-error:0.290756\tvalidation_0-logloss:0.565332\tvalidation_1-error:0.327081\tvalidation_1-logloss:0.601133\n",
      "[706]\tvalidation_0-error:0.290687\tvalidation_0-logloss:0.565366\tvalidation_1-error:0.327072\tvalidation_1-logloss:0.601178\n",
      "[707]\tvalidation_0-error:0.290663\tvalidation_0-logloss:0.565332\tvalidation_1-error:0.327042\tvalidation_1-logloss:0.601168\n",
      "[708]\tvalidation_0-error:0.290711\tvalidation_0-logloss:0.565277\tvalidation_1-error:0.326992\tvalidation_1-logloss:0.601145\n",
      "[709]\tvalidation_0-error:0.290732\tvalidation_0-logloss:0.565245\tvalidation_1-error:0.326977\tvalidation_1-logloss:0.601145\n",
      "[710]\tvalidation_0-error:0.290657\tvalidation_0-logloss:0.565206\tvalidation_1-error:0.326972\tvalidation_1-logloss:0.601132\n",
      "[711]\tvalidation_0-error:0.290558\tvalidation_0-logloss:0.56517\tvalidation_1-error:0.326988\tvalidation_1-logloss:0.601142\n",
      "[712]\tvalidation_0-error:0.290522\tvalidation_0-logloss:0.565126\tvalidation_1-error:0.326969\tvalidation_1-logloss:0.601103\n",
      "[713]\tvalidation_0-error:0.290405\tvalidation_0-logloss:0.565086\tvalidation_1-error:0.326949\tvalidation_1-logloss:0.601104\n",
      "[714]\tvalidation_0-error:0.290351\tvalidation_0-logloss:0.565053\tvalidation_1-error:0.326924\tvalidation_1-logloss:0.601109\n",
      "[715]\tvalidation_0-error:0.290285\tvalidation_0-logloss:0.565007\tvalidation_1-error:0.326963\tvalidation_1-logloss:0.601111\n",
      "[716]\tvalidation_0-error:0.29024\tvalidation_0-logloss:0.564964\tvalidation_1-error:0.326954\tvalidation_1-logloss:0.601102\n",
      "[717]\tvalidation_0-error:0.290222\tvalidation_0-logloss:0.564899\tvalidation_1-error:0.326921\tvalidation_1-logloss:0.601076\n",
      "[718]\tvalidation_0-error:0.290165\tvalidation_0-logloss:0.564851\tvalidation_1-error:0.326946\tvalidation_1-logloss:0.601071\n",
      "[719]\tvalidation_0-error:0.290123\tvalidation_0-logloss:0.564813\tvalidation_1-error:0.326958\tvalidation_1-logloss:0.601093\n",
      "[720]\tvalidation_0-error:0.29006\tvalidation_0-logloss:0.564775\tvalidation_1-error:0.326943\tvalidation_1-logloss:0.601098\n",
      "[721]\tvalidation_0-error:0.289934\tvalidation_0-logloss:0.564732\tvalidation_1-error:0.326927\tvalidation_1-logloss:0.601092\n",
      "[722]\tvalidation_0-error:0.289889\tvalidation_0-logloss:0.564527\tvalidation_1-error:0.326907\tvalidation_1-logloss:0.601004\n",
      "[723]\tvalidation_0-error:0.289838\tvalidation_0-logloss:0.564492\tvalidation_1-error:0.32691\tvalidation_1-logloss:0.601004\n",
      "[724]\tvalidation_0-error:0.289841\tvalidation_0-logloss:0.56444\tvalidation_1-error:0.326911\tvalidation_1-logloss:0.600965\n",
      "[725]\tvalidation_0-error:0.289808\tvalidation_0-logloss:0.564396\tvalidation_1-error:0.326896\tvalidation_1-logloss:0.600935\n",
      "[726]\tvalidation_0-error:0.289706\tvalidation_0-logloss:0.564338\tvalidation_1-error:0.326877\tvalidation_1-logloss:0.600929\n",
      "[727]\tvalidation_0-error:0.289676\tvalidation_0-logloss:0.564311\tvalidation_1-error:0.326865\tvalidation_1-logloss:0.600922\n",
      "[728]\tvalidation_0-error:0.289598\tvalidation_0-logloss:0.564244\tvalidation_1-error:0.326769\tvalidation_1-logloss:0.600884\n",
      "[729]\tvalidation_0-error:0.289565\tvalidation_0-logloss:0.564215\tvalidation_1-error:0.326762\tvalidation_1-logloss:0.600872\n",
      "[730]\tvalidation_0-error:0.289523\tvalidation_0-logloss:0.564175\tvalidation_1-error:0.326743\tvalidation_1-logloss:0.600855\n",
      "[731]\tvalidation_0-error:0.289481\tvalidation_0-logloss:0.564147\tvalidation_1-error:0.326725\tvalidation_1-logloss:0.600832\n",
      "[732]\tvalidation_0-error:0.289449\tvalidation_0-logloss:0.564096\tvalidation_1-error:0.326701\tvalidation_1-logloss:0.600833\n",
      "[733]\tvalidation_0-error:0.289452\tvalidation_0-logloss:0.564052\tvalidation_1-error:0.326687\tvalidation_1-logloss:0.600831\n",
      "[734]\tvalidation_0-error:0.289389\tvalidation_0-logloss:0.563994\tvalidation_1-error:0.326636\tvalidation_1-logloss:0.600807\n",
      "[735]\tvalidation_0-error:0.289314\tvalidation_0-logloss:0.563947\tvalidation_1-error:0.32665\tvalidation_1-logloss:0.600794\n",
      "[736]\tvalidation_0-error:0.289284\tvalidation_0-logloss:0.563904\tvalidation_1-error:0.326656\tvalidation_1-logloss:0.600773\n",
      "[737]\tvalidation_0-error:0.289278\tvalidation_0-logloss:0.563888\tvalidation_1-error:0.326675\tvalidation_1-logloss:0.600781\n",
      "[738]\tvalidation_0-error:0.289284\tvalidation_0-logloss:0.563854\tvalidation_1-error:0.32662\tvalidation_1-logloss:0.600767\n",
      "[739]\tvalidation_0-error:0.289251\tvalidation_0-logloss:0.563796\tvalidation_1-error:0.326673\tvalidation_1-logloss:0.600746\n",
      "[740]\tvalidation_0-error:0.289266\tvalidation_0-logloss:0.563753\tvalidation_1-error:0.326689\tvalidation_1-logloss:0.600729\n",
      "[741]\tvalidation_0-error:0.289236\tvalidation_0-logloss:0.563715\tvalidation_1-error:0.326692\tvalidation_1-logloss:0.600726\n",
      "[742]\tvalidation_0-error:0.289143\tvalidation_0-logloss:0.563678\tvalidation_1-error:0.326684\tvalidation_1-logloss:0.600717\n",
      "[743]\tvalidation_0-error:0.289116\tvalidation_0-logloss:0.563639\tvalidation_1-error:0.326722\tvalidation_1-logloss:0.600719\n",
      "[744]\tvalidation_0-error:0.289086\tvalidation_0-logloss:0.563603\tvalidation_1-error:0.326746\tvalidation_1-logloss:0.601074\n",
      "[745]\tvalidation_0-error:0.289053\tvalidation_0-logloss:0.56357\tvalidation_1-error:0.326732\tvalidation_1-logloss:0.601056\n",
      "[746]\tvalidation_0-error:0.289047\tvalidation_0-logloss:0.563533\tvalidation_1-error:0.326715\tvalidation_1-logloss:0.601046\n",
      "[747]\tvalidation_0-error:0.288996\tvalidation_0-logloss:0.563487\tvalidation_1-error:0.326735\tvalidation_1-logloss:0.601064\n",
      "[748]\tvalidation_0-error:0.288954\tvalidation_0-logloss:0.563464\tvalidation_1-error:0.326746\tvalidation_1-logloss:0.601038\n"
     ]
    },
    {
     "name": "stdout",
     "output_type": "stream",
     "text": [
      "[749]\tvalidation_0-error:0.288924\tvalidation_0-logloss:0.563428\tvalidation_1-error:0.326722\tvalidation_1-logloss:0.601008\n",
      "[750]\tvalidation_0-error:0.288924\tvalidation_0-logloss:0.563394\tvalidation_1-error:0.326697\tvalidation_1-logloss:0.600992\n",
      "[751]\tvalidation_0-error:0.288885\tvalidation_0-logloss:0.563361\tvalidation_1-error:0.326678\tvalidation_1-logloss:0.600973\n",
      "[752]\tvalidation_0-error:0.288801\tvalidation_0-logloss:0.563281\tvalidation_1-error:0.326675\tvalidation_1-logloss:0.600959\n",
      "[753]\tvalidation_0-error:0.288816\tvalidation_0-logloss:0.563239\tvalidation_1-error:0.326638\tvalidation_1-logloss:0.600935\n",
      "[754]\tvalidation_0-error:0.288774\tvalidation_0-logloss:0.563222\tvalidation_1-error:0.326589\tvalidation_1-logloss:0.600899\n",
      "[755]\tvalidation_0-error:0.288783\tvalidation_0-logloss:0.563189\tvalidation_1-error:0.326574\tvalidation_1-logloss:0.600898\n",
      "[756]\tvalidation_0-error:0.288726\tvalidation_0-logloss:0.563103\tvalidation_1-error:0.326571\tvalidation_1-logloss:0.600859\n",
      "[757]\tvalidation_0-error:0.288684\tvalidation_0-logloss:0.563079\tvalidation_1-error:0.326565\tvalidation_1-logloss:0.60085\n",
      "[758]\tvalidation_0-error:0.288681\tvalidation_0-logloss:0.563044\tvalidation_1-error:0.32656\tvalidation_1-logloss:0.600841\n",
      "[759]\tvalidation_0-error:0.288642\tvalidation_0-logloss:0.563\tvalidation_1-error:0.326537\tvalidation_1-logloss:0.600802\n",
      "[760]\tvalidation_0-error:0.288621\tvalidation_0-logloss:0.563007\tvalidation_1-error:0.32649\tvalidation_1-logloss:0.600813\n",
      "[761]\tvalidation_0-error:0.288549\tvalidation_0-logloss:0.562927\tvalidation_1-error:0.326505\tvalidation_1-logloss:0.600793\n",
      "[762]\tvalidation_0-error:0.288525\tvalidation_0-logloss:0.562891\tvalidation_1-error:0.326484\tvalidation_1-logloss:0.600799\n",
      "[763]\tvalidation_0-error:0.288447\tvalidation_0-logloss:0.562847\tvalidation_1-error:0.326452\tvalidation_1-logloss:0.600793\n",
      "[764]\tvalidation_0-error:0.288438\tvalidation_0-logloss:0.562809\tvalidation_1-error:0.326462\tvalidation_1-logloss:0.600798\n",
      "[765]\tvalidation_0-error:0.288402\tvalidation_0-logloss:0.562777\tvalidation_1-error:0.326441\tvalidation_1-logloss:0.600771\n",
      "[766]\tvalidation_0-error:0.288375\tvalidation_0-logloss:0.562737\tvalidation_1-error:0.326471\tvalidation_1-logloss:0.600775\n",
      "[767]\tvalidation_0-error:0.288333\tvalidation_0-logloss:0.562708\tvalidation_1-error:0.326487\tvalidation_1-logloss:0.600765\n",
      "[768]\tvalidation_0-error:0.288303\tvalidation_0-logloss:0.562669\tvalidation_1-error:0.326468\tvalidation_1-logloss:0.600749\n",
      "[769]\tvalidation_0-error:0.288258\tvalidation_0-logloss:0.562645\tvalidation_1-error:0.326471\tvalidation_1-logloss:0.600746\n",
      "[770]\tvalidation_0-error:0.288195\tvalidation_0-logloss:0.562607\tvalidation_1-error:0.326425\tvalidation_1-logloss:0.600722\n",
      "[771]\tvalidation_0-error:0.288129\tvalidation_0-logloss:0.562596\tvalidation_1-error:0.326441\tvalidation_1-logloss:0.60073\n",
      "[772]\tvalidation_0-error:0.288108\tvalidation_0-logloss:0.562537\tvalidation_1-error:0.326416\tvalidation_1-logloss:0.600704\n",
      "[773]\tvalidation_0-error:0.288099\tvalidation_0-logloss:0.56252\tvalidation_1-error:0.326421\tvalidation_1-logloss:0.600704\n",
      "[774]\tvalidation_0-error:0.288093\tvalidation_0-logloss:0.562472\tvalidation_1-error:0.326413\tvalidation_1-logloss:0.600692\n",
      "[775]\tvalidation_0-error:0.288078\tvalidation_0-logloss:0.562454\tvalidation_1-error:0.326402\tvalidation_1-logloss:0.600682\n",
      "[776]\tvalidation_0-error:0.288048\tvalidation_0-logloss:0.562417\tvalidation_1-error:0.326421\tvalidation_1-logloss:0.600682\n",
      "[777]\tvalidation_0-error:0.288042\tvalidation_0-logloss:0.562378\tvalidation_1-error:0.326373\tvalidation_1-logloss:0.600669\n",
      "[778]\tvalidation_0-error:0.288045\tvalidation_0-logloss:0.562328\tvalidation_1-error:0.326348\tvalidation_1-logloss:0.600641\n",
      "[779]\tvalidation_0-error:0.288024\tvalidation_0-logloss:0.562285\tvalidation_1-error:0.326357\tvalidation_1-logloss:0.600636\n",
      "[780]\tvalidation_0-error:0.288\tvalidation_0-logloss:0.562253\tvalidation_1-error:0.326334\tvalidation_1-logloss:0.600614\n",
      "[781]\tvalidation_0-error:0.287994\tvalidation_0-logloss:0.562217\tvalidation_1-error:0.326344\tvalidation_1-logloss:0.600608\n",
      "[782]\tvalidation_0-error:0.287988\tvalidation_0-logloss:0.562174\tvalidation_1-error:0.326314\tvalidation_1-logloss:0.600588\n",
      "[783]\tvalidation_0-error:0.288009\tvalidation_0-logloss:0.562145\tvalidation_1-error:0.326295\tvalidation_1-logloss:0.600571\n",
      "[784]\tvalidation_0-error:0.287977\tvalidation_0-logloss:0.562115\tvalidation_1-error:0.326254\tvalidation_1-logloss:0.600555\n",
      "[785]\tvalidation_0-error:0.287896\tvalidation_0-logloss:0.562067\tvalidation_1-error:0.326258\tvalidation_1-logloss:0.60054\n",
      "[786]\tvalidation_0-error:0.28786\tvalidation_0-logloss:0.562028\tvalidation_1-error:0.326232\tvalidation_1-logloss:0.600512\n",
      "[787]\tvalidation_0-error:0.287812\tvalidation_0-logloss:0.561987\tvalidation_1-error:0.326211\tvalidation_1-logloss:0.600492\n",
      "[788]\tvalidation_0-error:0.287791\tvalidation_0-logloss:0.561946\tvalidation_1-error:0.326186\tvalidation_1-logloss:0.600492\n",
      "[789]\tvalidation_0-error:0.287797\tvalidation_0-logloss:0.561906\tvalidation_1-error:0.326176\tvalidation_1-logloss:0.600481\n",
      "[790]\tvalidation_0-error:0.287746\tvalidation_0-logloss:0.561875\tvalidation_1-error:0.326173\tvalidation_1-logloss:0.60047\n",
      "[791]\tvalidation_0-error:0.287692\tvalidation_0-logloss:0.561835\tvalidation_1-error:0.326161\tvalidation_1-logloss:0.600457\n",
      "[792]\tvalidation_0-error:0.287677\tvalidation_0-logloss:0.561804\tvalidation_1-error:0.326165\tvalidation_1-logloss:0.600448\n",
      "[793]\tvalidation_0-error:0.287635\tvalidation_0-logloss:0.56177\tvalidation_1-error:0.326161\tvalidation_1-logloss:0.600448\n",
      "[794]\tvalidation_0-error:0.287611\tvalidation_0-logloss:0.561735\tvalidation_1-error:0.326176\tvalidation_1-logloss:0.600432\n",
      "[795]\tvalidation_0-error:0.287554\tvalidation_0-logloss:0.561704\tvalidation_1-error:0.32618\tvalidation_1-logloss:0.600426\n",
      "[796]\tvalidation_0-error:0.287575\tvalidation_0-logloss:0.561673\tvalidation_1-error:0.326118\tvalidation_1-logloss:0.600434\n",
      "[797]\tvalidation_0-error:0.287503\tvalidation_0-logloss:0.561708\tvalidation_1-error:0.326114\tvalidation_1-logloss:0.600454\n",
      "[798]\tvalidation_0-error:0.287509\tvalidation_0-logloss:0.561675\tvalidation_1-error:0.326131\tvalidation_1-logloss:0.60044\n",
      "[799]\tvalidation_0-error:0.287473\tvalidation_0-logloss:0.561639\tvalidation_1-error:0.326131\tvalidation_1-logloss:0.600431\n",
      "[800]\tvalidation_0-error:0.287473\tvalidation_0-logloss:0.561603\tvalidation_1-error:0.326091\tvalidation_1-logloss:0.600405\n",
      "[801]\tvalidation_0-error:0.287488\tvalidation_0-logloss:0.56157\tvalidation_1-error:0.326127\tvalidation_1-logloss:0.599692\n",
      "[802]\tvalidation_0-error:0.287473\tvalidation_0-logloss:0.561539\tvalidation_1-error:0.326115\tvalidation_1-logloss:0.599682\n",
      "[803]\tvalidation_0-error:0.287473\tvalidation_0-logloss:0.561498\tvalidation_1-error:0.326111\tvalidation_1-logloss:0.599673\n",
      "[804]\tvalidation_0-error:0.287443\tvalidation_0-logloss:0.561461\tvalidation_1-error:0.326088\tvalidation_1-logloss:0.599686\n",
      "[805]\tvalidation_0-error:0.287416\tvalidation_0-logloss:0.561431\tvalidation_1-error:0.326072\tvalidation_1-logloss:0.599676\n",
      "[806]\tvalidation_0-error:0.287329\tvalidation_0-logloss:0.561393\tvalidation_1-error:0.326063\tvalidation_1-logloss:0.599675\n",
      "[807]\tvalidation_0-error:0.287356\tvalidation_0-logloss:0.561363\tvalidation_1-error:0.326109\tvalidation_1-logloss:0.599667\n",
      "[808]\tvalidation_0-error:0.28732\tvalidation_0-logloss:0.561333\tvalidation_1-error:0.326105\tvalidation_1-logloss:0.599676\n",
      "[809]\tvalidation_0-error:0.287311\tvalidation_0-logloss:0.561294\tvalidation_1-error:0.326087\tvalidation_1-logloss:0.599681\n",
      "[810]\tvalidation_0-error:0.28732\tvalidation_0-logloss:0.561255\tvalidation_1-error:0.32609\tvalidation_1-logloss:0.599689\n",
      "[811]\tvalidation_0-error:0.287284\tvalidation_0-logloss:0.56122\tvalidation_1-error:0.32608\tvalidation_1-logloss:0.59969\n",
      "[812]\tvalidation_0-error:0.287185\tvalidation_0-logloss:0.561184\tvalidation_1-error:0.326053\tvalidation_1-logloss:0.599672\n",
      "[813]\tvalidation_0-error:0.287116\tvalidation_0-logloss:0.561159\tvalidation_1-error:0.326009\tvalidation_1-logloss:0.599643\n",
      "[814]\tvalidation_0-error:0.287068\tvalidation_0-logloss:0.561123\tvalidation_1-error:0.326032\tvalidation_1-logloss:0.599638\n",
      "[815]\tvalidation_0-error:0.287056\tvalidation_0-logloss:0.561089\tvalidation_1-error:0.326044\tvalidation_1-logloss:0.599635\n",
      "[816]\tvalidation_0-error:0.287086\tvalidation_0-logloss:0.561046\tvalidation_1-error:0.326037\tvalidation_1-logloss:0.599627\n"
     ]
    },
    {
     "name": "stdout",
     "output_type": "stream",
     "text": [
      "[817]\tvalidation_0-error:0.28705\tvalidation_0-logloss:0.561016\tvalidation_1-error:0.326059\tvalidation_1-logloss:0.599624\n",
      "[818]\tvalidation_0-error:0.286936\tvalidation_0-logloss:0.560967\tvalidation_1-error:0.326021\tvalidation_1-logloss:0.599617\n",
      "[819]\tvalidation_0-error:0.286927\tvalidation_0-logloss:0.560965\tvalidation_1-error:0.32599\tvalidation_1-logloss:0.599621\n",
      "[820]\tvalidation_0-error:0.286858\tvalidation_0-logloss:0.560924\tvalidation_1-error:0.326024\tvalidation_1-logloss:0.59965\n",
      "[821]\tvalidation_0-error:0.28678\tvalidation_0-logloss:0.560891\tvalidation_1-error:0.325978\tvalidation_1-logloss:0.599653\n",
      "[822]\tvalidation_0-error:0.286786\tvalidation_0-logloss:0.560863\tvalidation_1-error:0.325963\tvalidation_1-logloss:0.599638\n",
      "[823]\tvalidation_0-error:0.286717\tvalidation_0-logloss:0.56083\tvalidation_1-error:0.325926\tvalidation_1-logloss:0.599631\n",
      "[824]\tvalidation_0-error:0.286657\tvalidation_0-logloss:0.5608\tvalidation_1-error:0.325863\tvalidation_1-logloss:0.599608\n",
      "[825]\tvalidation_0-error:0.286645\tvalidation_0-logloss:0.560767\tvalidation_1-error:0.325888\tvalidation_1-logloss:0.599608\n",
      "[826]\tvalidation_0-error:0.286567\tvalidation_0-logloss:0.560738\tvalidation_1-error:0.325895\tvalidation_1-logloss:0.599612\n",
      "[827]\tvalidation_0-error:0.286519\tvalidation_0-logloss:0.560696\tvalidation_1-error:0.325917\tvalidation_1-logloss:0.599605\n",
      "[828]\tvalidation_0-error:0.286492\tvalidation_0-logloss:0.560662\tvalidation_1-error:0.32595\tvalidation_1-logloss:0.599631\n",
      "[829]\tvalidation_0-error:0.286456\tvalidation_0-logloss:0.560628\tvalidation_1-error:0.325907\tvalidation_1-logloss:0.599608\n",
      "[830]\tvalidation_0-error:0.286442\tvalidation_0-logloss:0.560599\tvalidation_1-error:0.32591\tvalidation_1-logloss:0.599601\n",
      "[831]\tvalidation_0-error:0.286403\tvalidation_0-logloss:0.560573\tvalidation_1-error:0.325897\tvalidation_1-logloss:0.599589\n",
      "[832]\tvalidation_0-error:0.286382\tvalidation_0-logloss:0.560551\tvalidation_1-error:0.325888\tvalidation_1-logloss:0.599577\n",
      "[833]\tvalidation_0-error:0.286358\tvalidation_0-logloss:0.560519\tvalidation_1-error:0.325873\tvalidation_1-logloss:0.599568\n",
      "[834]\tvalidation_0-error:0.286337\tvalidation_0-logloss:0.560482\tvalidation_1-error:0.32586\tvalidation_1-logloss:0.599558\n",
      "[835]\tvalidation_0-error:0.286316\tvalidation_0-logloss:0.560439\tvalidation_1-error:0.325866\tvalidation_1-logloss:0.599566\n",
      "[836]\tvalidation_0-error:0.286325\tvalidation_0-logloss:0.560409\tvalidation_1-error:0.325845\tvalidation_1-logloss:0.599548\n",
      "[837]\tvalidation_0-error:0.286337\tvalidation_0-logloss:0.56033\tvalidation_1-error:0.325843\tvalidation_1-logloss:0.599505\n",
      "[838]\tvalidation_0-error:0.286292\tvalidation_0-logloss:0.560332\tvalidation_1-error:0.325883\tvalidation_1-logloss:0.599524\n",
      "[839]\tvalidation_0-error:0.286253\tvalidation_0-logloss:0.560256\tvalidation_1-error:0.326001\tvalidation_1-logloss:0.59952\n",
      "[840]\tvalidation_0-error:0.286229\tvalidation_0-logloss:0.560223\tvalidation_1-error:0.326001\tvalidation_1-logloss:0.599508\n",
      "[841]\tvalidation_0-error:0.286193\tvalidation_0-logloss:0.560194\tvalidation_1-error:0.325987\tvalidation_1-logloss:0.599503\n",
      "[842]\tvalidation_0-error:0.28616\tvalidation_0-logloss:0.560156\tvalidation_1-error:0.325964\tvalidation_1-logloss:0.599496\n",
      "[843]\tvalidation_0-error:0.286136\tvalidation_0-logloss:0.560124\tvalidation_1-error:0.325951\tvalidation_1-logloss:0.599487\n",
      "[844]\tvalidation_0-error:0.286094\tvalidation_0-logloss:0.560092\tvalidation_1-error:0.32592\tvalidation_1-logloss:0.599485\n",
      "[845]\tvalidation_0-error:0.286088\tvalidation_0-logloss:0.560052\tvalidation_1-error:0.32591\tvalidation_1-logloss:0.599493\n",
      "[846]\tvalidation_0-error:0.286106\tvalidation_0-logloss:0.560146\tvalidation_1-error:0.325947\tvalidation_1-logloss:0.599669\n",
      "[847]\tvalidation_0-error:0.286061\tvalidation_0-logloss:0.560118\tvalidation_1-error:0.325962\tvalidation_1-logloss:0.599663\n",
      "[848]\tvalidation_0-error:0.286052\tvalidation_0-logloss:0.559939\tvalidation_1-error:0.325979\tvalidation_1-logloss:0.59952\n",
      "[849]\tvalidation_0-error:0.285986\tvalidation_0-logloss:0.559891\tvalidation_1-error:0.325938\tvalidation_1-logloss:0.599509\n",
      "[850]\tvalidation_0-error:0.285938\tvalidation_0-logloss:0.559858\tvalidation_1-error:0.325919\tvalidation_1-logloss:0.599505\n",
      "[851]\tvalidation_0-error:0.285914\tvalidation_0-logloss:0.559867\tvalidation_1-error:0.325929\tvalidation_1-logloss:0.599532\n",
      "[852]\tvalidation_0-error:0.285884\tvalidation_0-logloss:0.559785\tvalidation_1-error:0.325899\tvalidation_1-logloss:0.599494\n",
      "[853]\tvalidation_0-error:0.285842\tvalidation_0-logloss:0.559746\tvalidation_1-error:0.325882\tvalidation_1-logloss:0.59949\n",
      "[854]\tvalidation_0-error:0.285797\tvalidation_0-logloss:0.559717\tvalidation_1-error:0.325888\tvalidation_1-logloss:0.599473\n",
      "[855]\tvalidation_0-error:0.285779\tvalidation_0-logloss:0.559685\tvalidation_1-error:0.325873\tvalidation_1-logloss:0.599467\n",
      "[856]\tvalidation_0-error:0.285782\tvalidation_0-logloss:0.559653\tvalidation_1-error:0.325868\tvalidation_1-logloss:0.599466\n",
      "[857]\tvalidation_0-error:0.28574\tvalidation_0-logloss:0.559621\tvalidation_1-error:0.325852\tvalidation_1-logloss:0.59946\n",
      "[858]\tvalidation_0-error:0.285725\tvalidation_0-logloss:0.559592\tvalidation_1-error:0.325827\tvalidation_1-logloss:0.599461\n",
      "[859]\tvalidation_0-error:0.285698\tvalidation_0-logloss:0.55956\tvalidation_1-error:0.325804\tvalidation_1-logloss:0.59945\n",
      "[860]\tvalidation_0-error:0.285653\tvalidation_0-logloss:0.559527\tvalidation_1-error:0.325821\tvalidation_1-logloss:0.599471\n",
      "[861]\tvalidation_0-error:0.285626\tvalidation_0-logloss:0.559485\tvalidation_1-error:0.325833\tvalidation_1-logloss:0.599473\n",
      "[862]\tvalidation_0-error:0.285611\tvalidation_0-logloss:0.559453\tvalidation_1-error:0.325823\tvalidation_1-logloss:0.599479\n",
      "[863]\tvalidation_0-error:0.285599\tvalidation_0-logloss:0.559413\tvalidation_1-error:0.32584\tvalidation_1-logloss:0.599483\n",
      "[864]\tvalidation_0-error:0.285596\tvalidation_0-logloss:0.559511\tvalidation_1-error:0.325837\tvalidation_1-logloss:0.599625\n",
      "[865]\tvalidation_0-error:0.285584\tvalidation_0-logloss:0.55948\tvalidation_1-error:0.325833\tvalidation_1-logloss:0.599604\n",
      "[866]\tvalidation_0-error:0.285539\tvalidation_0-logloss:0.559448\tvalidation_1-error:0.325811\tvalidation_1-logloss:0.599587\n",
      "[867]\tvalidation_0-error:0.285494\tvalidation_0-logloss:0.559408\tvalidation_1-error:0.325829\tvalidation_1-logloss:0.599601\n",
      "[868]\tvalidation_0-error:0.285395\tvalidation_0-logloss:0.559356\tvalidation_1-error:0.325835\tvalidation_1-logloss:0.599614\n",
      "[869]\tvalidation_0-error:0.28535\tvalidation_0-logloss:0.559326\tvalidation_1-error:0.325821\tvalidation_1-logloss:0.599606\n",
      "[870]\tvalidation_0-error:0.285296\tvalidation_0-logloss:0.559284\tvalidation_1-error:0.32582\tvalidation_1-logloss:0.599589\n",
      "[871]\tvalidation_0-error:0.285278\tvalidation_0-logloss:0.559235\tvalidation_1-error:0.325823\tvalidation_1-logloss:0.599572\n",
      "[872]\tvalidation_0-error:0.285275\tvalidation_0-logloss:0.55921\tvalidation_1-error:0.325808\tvalidation_1-logloss:0.599557\n",
      "[873]\tvalidation_0-error:0.285218\tvalidation_0-logloss:0.559179\tvalidation_1-error:0.325775\tvalidation_1-logloss:0.599543\n",
      "[874]\tvalidation_0-error:0.285188\tvalidation_0-logloss:0.559134\tvalidation_1-error:0.325784\tvalidation_1-logloss:0.599532\n",
      "[875]\tvalidation_0-error:0.285203\tvalidation_0-logloss:0.559107\tvalidation_1-error:0.325789\tvalidation_1-logloss:0.59952\n",
      "[876]\tvalidation_0-error:0.285155\tvalidation_0-logloss:0.559065\tvalidation_1-error:0.325827\tvalidation_1-logloss:0.599511\n",
      "[877]\tvalidation_0-error:0.285113\tvalidation_0-logloss:0.559025\tvalidation_1-error:0.325789\tvalidation_1-logloss:0.599511\n",
      "[878]\tvalidation_0-error:0.285101\tvalidation_0-logloss:0.558996\tvalidation_1-error:0.325823\tvalidation_1-logloss:0.599503\n",
      "[879]\tvalidation_0-error:0.285083\tvalidation_0-logloss:0.558966\tvalidation_1-error:0.325802\tvalidation_1-logloss:0.599483\n",
      "[880]\tvalidation_0-error:0.285071\tvalidation_0-logloss:0.558932\tvalidation_1-error:0.325789\tvalidation_1-logloss:0.599483\n",
      "[881]\tvalidation_0-error:0.285035\tvalidation_0-logloss:0.558914\tvalidation_1-error:0.325808\tvalidation_1-logloss:0.599504\n",
      "[882]\tvalidation_0-error:0.285017\tvalidation_0-logloss:0.558881\tvalidation_1-error:0.325824\tvalidation_1-logloss:0.599501\n",
      "[883]\tvalidation_0-error:0.28488\tvalidation_0-logloss:0.558842\tvalidation_1-error:0.325765\tvalidation_1-logloss:0.599496\n",
      "[884]\tvalidation_0-error:0.284865\tvalidation_0-logloss:0.558795\tvalidation_1-error:0.325756\tvalidation_1-logloss:0.599477\n"
     ]
    },
    {
     "name": "stdout",
     "output_type": "stream",
     "text": [
      "[885]\tvalidation_0-error:0.284865\tvalidation_0-logloss:0.558756\tvalidation_1-error:0.325772\tvalidation_1-logloss:0.599463\n",
      "[886]\tvalidation_0-error:0.284871\tvalidation_0-logloss:0.558737\tvalidation_1-error:0.325722\tvalidation_1-logloss:0.599451\n",
      "[887]\tvalidation_0-error:0.284814\tvalidation_0-logloss:0.558696\tvalidation_1-error:0.325708\tvalidation_1-logloss:0.599432\n",
      "[888]\tvalidation_0-error:0.284769\tvalidation_0-logloss:0.558655\tvalidation_1-error:0.32573\tvalidation_1-logloss:0.599414\n",
      "[889]\tvalidation_0-error:0.284718\tvalidation_0-logloss:0.558626\tvalidation_1-error:0.325721\tvalidation_1-logloss:0.599415\n",
      "[890]\tvalidation_0-error:0.28473\tvalidation_0-logloss:0.558617\tvalidation_1-error:0.325728\tvalidation_1-logloss:0.59942\n",
      "[891]\tvalidation_0-error:0.284709\tvalidation_0-logloss:0.558568\tvalidation_1-error:0.325719\tvalidation_1-logloss:0.599392\n",
      "[892]\tvalidation_0-error:0.284706\tvalidation_0-logloss:0.558554\tvalidation_1-error:0.325697\tvalidation_1-logloss:0.599402\n",
      "[893]\tvalidation_0-error:0.284673\tvalidation_0-logloss:0.558523\tvalidation_1-error:0.325671\tvalidation_1-logloss:0.599389\n",
      "[894]\tvalidation_0-error:0.284664\tvalidation_0-logloss:0.558496\tvalidation_1-error:0.325705\tvalidation_1-logloss:0.599382\n",
      "[895]\tvalidation_0-error:0.284643\tvalidation_0-logloss:0.558455\tvalidation_1-error:0.325682\tvalidation_1-logloss:0.599381\n",
      "[896]\tvalidation_0-error:0.284631\tvalidation_0-logloss:0.558426\tvalidation_1-error:0.325659\tvalidation_1-logloss:0.599361\n",
      "[897]\tvalidation_0-error:0.284655\tvalidation_0-logloss:0.558387\tvalidation_1-error:0.325653\tvalidation_1-logloss:0.599356\n",
      "[898]\tvalidation_0-error:0.284655\tvalidation_0-logloss:0.558355\tvalidation_1-error:0.325632\tvalidation_1-logloss:0.599348\n",
      "[899]\tvalidation_0-error:0.284634\tvalidation_0-logloss:0.558327\tvalidation_1-error:0.325635\tvalidation_1-logloss:0.599335\n",
      "[900]\tvalidation_0-error:0.284613\tvalidation_0-logloss:0.558136\tvalidation_1-error:0.325613\tvalidation_1-logloss:0.599238\n",
      "[901]\tvalidation_0-error:0.284547\tvalidation_0-logloss:0.558115\tvalidation_1-error:0.325595\tvalidation_1-logloss:0.599246\n",
      "[902]\tvalidation_0-error:0.28446\tvalidation_0-logloss:0.558082\tvalidation_1-error:0.325594\tvalidation_1-logloss:0.599236\n",
      "[903]\tvalidation_0-error:0.284475\tvalidation_0-logloss:0.558045\tvalidation_1-error:0.325619\tvalidation_1-logloss:0.599226\n",
      "[904]\tvalidation_0-error:0.284448\tvalidation_0-logloss:0.558093\tvalidation_1-error:0.325613\tvalidation_1-logloss:0.599258\n",
      "[905]\tvalidation_0-error:0.284391\tvalidation_0-logloss:0.557976\tvalidation_1-error:0.325617\tvalidation_1-logloss:0.599228\n",
      "[906]\tvalidation_0-error:0.284352\tvalidation_0-logloss:0.557948\tvalidation_1-error:0.325601\tvalidation_1-logloss:0.599231\n",
      "[907]\tvalidation_0-error:0.284364\tvalidation_0-logloss:0.557994\tvalidation_1-error:0.325632\tvalidation_1-logloss:0.599268\n",
      "[908]\tvalidation_0-error:0.284328\tvalidation_0-logloss:0.557941\tvalidation_1-error:0.32565\tvalidation_1-logloss:0.599262\n",
      "[909]\tvalidation_0-error:0.284238\tvalidation_0-logloss:0.557906\tvalidation_1-error:0.325638\tvalidation_1-logloss:0.599252\n",
      "[910]\tvalidation_0-error:0.284193\tvalidation_0-logloss:0.557873\tvalidation_1-error:0.325626\tvalidation_1-logloss:0.599247\n",
      "[911]\tvalidation_0-error:0.284154\tvalidation_0-logloss:0.557842\tvalidation_1-error:0.325628\tvalidation_1-logloss:0.599235\n",
      "[912]\tvalidation_0-error:0.284109\tvalidation_0-logloss:0.557814\tvalidation_1-error:0.32561\tvalidation_1-logloss:0.599241\n",
      "[913]\tvalidation_0-error:0.284076\tvalidation_0-logloss:0.557777\tvalidation_1-error:0.325625\tvalidation_1-logloss:0.599232\n",
      "[914]\tvalidation_0-error:0.284025\tvalidation_0-logloss:0.557739\tvalidation_1-error:0.325586\tvalidation_1-logloss:0.599231\n",
      "[915]\tvalidation_0-error:0.283977\tvalidation_0-logloss:0.557704\tvalidation_1-error:0.325563\tvalidation_1-logloss:0.599224\n",
      "[916]\tvalidation_0-error:0.283962\tvalidation_0-logloss:0.557672\tvalidation_1-error:0.325511\tvalidation_1-logloss:0.599215\n",
      "[917]\tvalidation_0-error:0.283947\tvalidation_0-logloss:0.557645\tvalidation_1-error:0.325476\tvalidation_1-logloss:0.599204\n",
      "[918]\tvalidation_0-error:0.283959\tvalidation_0-logloss:0.557616\tvalidation_1-error:0.325486\tvalidation_1-logloss:0.59919\n",
      "[919]\tvalidation_0-error:0.283938\tvalidation_0-logloss:0.557578\tvalidation_1-error:0.325467\tvalidation_1-logloss:0.599178\n",
      "[920]\tvalidation_0-error:0.283884\tvalidation_0-logloss:0.557546\tvalidation_1-error:0.325473\tvalidation_1-logloss:0.599167\n",
      "[921]\tvalidation_0-error:0.283881\tvalidation_0-logloss:0.557522\tvalidation_1-error:0.325452\tvalidation_1-logloss:0.599166\n",
      "[922]\tvalidation_0-error:0.283845\tvalidation_0-logloss:0.557483\tvalidation_1-error:0.325477\tvalidation_1-logloss:0.599164\n",
      "[923]\tvalidation_0-error:0.283806\tvalidation_0-logloss:0.55745\tvalidation_1-error:0.325467\tvalidation_1-logloss:0.599142\n",
      "[924]\tvalidation_0-error:0.28377\tvalidation_0-logloss:0.557409\tvalidation_1-error:0.325445\tvalidation_1-logloss:0.599135\n",
      "[925]\tvalidation_0-error:0.28377\tvalidation_0-logloss:0.557377\tvalidation_1-error:0.325455\tvalidation_1-logloss:0.59914\n",
      "[926]\tvalidation_0-error:0.283758\tvalidation_0-logloss:0.557345\tvalidation_1-error:0.325467\tvalidation_1-logloss:0.599145\n",
      "[927]\tvalidation_0-error:0.283692\tvalidation_0-logloss:0.557316\tvalidation_1-error:0.325483\tvalidation_1-logloss:0.599156\n",
      "[928]\tvalidation_0-error:0.283674\tvalidation_0-logloss:0.557284\tvalidation_1-error:0.325471\tvalidation_1-logloss:0.599153\n",
      "[929]\tvalidation_0-error:0.283656\tvalidation_0-logloss:0.557239\tvalidation_1-error:0.325479\tvalidation_1-logloss:0.599147\n",
      "[930]\tvalidation_0-error:0.283656\tvalidation_0-logloss:0.55721\tvalidation_1-error:0.325519\tvalidation_1-logloss:0.599154\n",
      "[931]\tvalidation_0-error:0.283608\tvalidation_0-logloss:0.557179\tvalidation_1-error:0.32553\tvalidation_1-logloss:0.59914\n",
      "[932]\tvalidation_0-error:0.283584\tvalidation_0-logloss:0.557148\tvalidation_1-error:0.325544\tvalidation_1-logloss:0.599133\n",
      "[933]\tvalidation_0-error:0.283551\tvalidation_0-logloss:0.557103\tvalidation_1-error:0.325554\tvalidation_1-logloss:0.59912\n",
      "[934]\tvalidation_0-error:0.283572\tvalidation_0-logloss:0.557075\tvalidation_1-error:0.325541\tvalidation_1-logloss:0.599098\n",
      "[935]\tvalidation_0-error:0.283539\tvalidation_0-logloss:0.557038\tvalidation_1-error:0.32551\tvalidation_1-logloss:0.599081\n",
      "[936]\tvalidation_0-error:0.283506\tvalidation_0-logloss:0.556997\tvalidation_1-error:0.325514\tvalidation_1-logloss:0.599109\n",
      "[937]\tvalidation_0-error:0.2835\tvalidation_0-logloss:0.556962\tvalidation_1-error:0.325459\tvalidation_1-logloss:0.599125\n",
      "[938]\tvalidation_0-error:0.283464\tvalidation_0-logloss:0.556919\tvalidation_1-error:0.325505\tvalidation_1-logloss:0.599118\n",
      "[939]\tvalidation_0-error:0.283455\tvalidation_0-logloss:0.556884\tvalidation_1-error:0.32548\tvalidation_1-logloss:0.599125\n",
      "[940]\tvalidation_0-error:0.283441\tvalidation_0-logloss:0.556856\tvalidation_1-error:0.325485\tvalidation_1-logloss:0.599116\n",
      "[941]\tvalidation_0-error:0.283408\tvalidation_0-logloss:0.556821\tvalidation_1-error:0.325392\tvalidation_1-logloss:0.599113\n",
      "[942]\tvalidation_0-error:0.28339\tvalidation_0-logloss:0.556782\tvalidation_1-error:0.325384\tvalidation_1-logloss:0.599113\n",
      "[943]\tvalidation_0-error:0.283375\tvalidation_0-logloss:0.556754\tvalidation_1-error:0.325377\tvalidation_1-logloss:0.599108\n",
      "[944]\tvalidation_0-error:0.283321\tvalidation_0-logloss:0.556726\tvalidation_1-error:0.325374\tvalidation_1-logloss:0.599094\n",
      "[945]\tvalidation_0-error:0.283267\tvalidation_0-logloss:0.556667\tvalidation_1-error:0.325369\tvalidation_1-logloss:0.599084\n",
      "[946]\tvalidation_0-error:0.283261\tvalidation_0-logloss:0.556628\tvalidation_1-error:0.325361\tvalidation_1-logloss:0.599103\n",
      "[947]\tvalidation_0-error:0.283255\tvalidation_0-logloss:0.556601\tvalidation_1-error:0.325312\tvalidation_1-logloss:0.599088\n",
      "[948]\tvalidation_0-error:0.283216\tvalidation_0-logloss:0.556575\tvalidation_1-error:0.325294\tvalidation_1-logloss:0.599087\n",
      "[949]\tvalidation_0-error:0.28324\tvalidation_0-logloss:0.55655\tvalidation_1-error:0.325279\tvalidation_1-logloss:0.599078\n",
      "[950]\tvalidation_0-error:0.283219\tvalidation_0-logloss:0.556515\tvalidation_1-error:0.325257\tvalidation_1-logloss:0.599065\n",
      "[951]\tvalidation_0-error:0.283207\tvalidation_0-logloss:0.55648\tvalidation_1-error:0.325248\tvalidation_1-logloss:0.599068\n",
      "[952]\tvalidation_0-error:0.283174\tvalidation_0-logloss:0.556445\tvalidation_1-error:0.325241\tvalidation_1-logloss:0.59906\n"
     ]
    },
    {
     "name": "stdout",
     "output_type": "stream",
     "text": [
      "[953]\tvalidation_0-error:0.283186\tvalidation_0-logloss:0.556419\tvalidation_1-error:0.325257\tvalidation_1-logloss:0.599052\n",
      "[954]\tvalidation_0-error:0.283204\tvalidation_0-logloss:0.556383\tvalidation_1-error:0.325231\tvalidation_1-logloss:0.599027\n",
      "[955]\tvalidation_0-error:0.28315\tvalidation_0-logloss:0.556349\tvalidation_1-error:0.325185\tvalidation_1-logloss:0.599036\n",
      "[956]\tvalidation_0-error:0.283108\tvalidation_0-logloss:0.556298\tvalidation_1-error:0.325208\tvalidation_1-logloss:0.599028\n",
      "[957]\tvalidation_0-error:0.283075\tvalidation_0-logloss:0.556261\tvalidation_1-error:0.32521\tvalidation_1-logloss:0.599025\n",
      "[958]\tvalidation_0-error:0.282997\tvalidation_0-logloss:0.55623\tvalidation_1-error:0.325235\tvalidation_1-logloss:0.599044\n",
      "[959]\tvalidation_0-error:0.28294\tvalidation_0-logloss:0.556208\tvalidation_1-error:0.325244\tvalidation_1-logloss:0.599048\n",
      "[960]\tvalidation_0-error:0.282943\tvalidation_0-logloss:0.556167\tvalidation_1-error:0.325241\tvalidation_1-logloss:0.599055\n",
      "[961]\tvalidation_0-error:0.282907\tvalidation_0-logloss:0.556122\tvalidation_1-error:0.325294\tvalidation_1-logloss:0.599045\n",
      "[962]\tvalidation_0-error:0.282904\tvalidation_0-logloss:0.556098\tvalidation_1-error:0.325288\tvalidation_1-logloss:0.599051\n",
      "[963]\tvalidation_0-error:0.282895\tvalidation_0-logloss:0.556069\tvalidation_1-error:0.325315\tvalidation_1-logloss:0.599059\n",
      "[964]\tvalidation_0-error:0.282874\tvalidation_0-logloss:0.556039\tvalidation_1-error:0.325319\tvalidation_1-logloss:0.599069\n",
      "[965]\tvalidation_0-error:0.282859\tvalidation_0-logloss:0.555995\tvalidation_1-error:0.325307\tvalidation_1-logloss:0.59906\n",
      "[966]\tvalidation_0-error:0.282829\tvalidation_0-logloss:0.555963\tvalidation_1-error:0.325331\tvalidation_1-logloss:0.59906\n",
      "[967]\tvalidation_0-error:0.282829\tvalidation_0-logloss:0.555932\tvalidation_1-error:0.32529\tvalidation_1-logloss:0.599075\n",
      "[968]\tvalidation_0-error:0.282793\tvalidation_0-logloss:0.555907\tvalidation_1-error:0.325294\tvalidation_1-logloss:0.599058\n",
      "[969]\tvalidation_0-error:0.282709\tvalidation_0-logloss:0.555864\tvalidation_1-error:0.325294\tvalidation_1-logloss:0.59905\n",
      "[970]\tvalidation_0-error:0.282664\tvalidation_0-logloss:0.555837\tvalidation_1-error:0.32531\tvalidation_1-logloss:0.599038\n",
      "[971]\tvalidation_0-error:0.282619\tvalidation_0-logloss:0.555813\tvalidation_1-error:0.325265\tvalidation_1-logloss:0.599035\n",
      "[972]\tvalidation_0-error:0.282571\tvalidation_0-logloss:0.555775\tvalidation_1-error:0.325276\tvalidation_1-logloss:0.599035\n",
      "[973]\tvalidation_0-error:0.282559\tvalidation_0-logloss:0.555756\tvalidation_1-error:0.325309\tvalidation_1-logloss:0.599056\n",
      "[974]\tvalidation_0-error:0.28252\tvalidation_0-logloss:0.555717\tvalidation_1-error:0.325306\tvalidation_1-logloss:0.599054\n",
      "[975]\tvalidation_0-error:0.282499\tvalidation_0-logloss:0.555686\tvalidation_1-error:0.325306\tvalidation_1-logloss:0.599058\n",
      "[976]\tvalidation_0-error:0.282439\tvalidation_0-logloss:0.555666\tvalidation_1-error:0.325279\tvalidation_1-logloss:0.599055\n",
      "[977]\tvalidation_0-error:0.282439\tvalidation_0-logloss:0.555636\tvalidation_1-error:0.325262\tvalidation_1-logloss:0.599032\n",
      "[978]\tvalidation_0-error:0.282385\tvalidation_0-logloss:0.555612\tvalidation_1-error:0.325262\tvalidation_1-logloss:0.599029\n",
      "[979]\tvalidation_0-error:0.282355\tvalidation_0-logloss:0.555321\tvalidation_1-error:0.325234\tvalidation_1-logloss:0.598728\n",
      "[980]\tvalidation_0-error:0.282364\tvalidation_0-logloss:0.555298\tvalidation_1-error:0.325222\tvalidation_1-logloss:0.598713\n",
      "[981]\tvalidation_0-error:0.282325\tvalidation_0-logloss:0.55526\tvalidation_1-error:0.325198\tvalidation_1-logloss:0.59871\n",
      "[982]\tvalidation_0-error:0.28228\tvalidation_0-logloss:0.555223\tvalidation_1-error:0.325216\tvalidation_1-logloss:0.598718\n",
      "[983]\tvalidation_0-error:0.282298\tvalidation_0-logloss:0.555198\tvalidation_1-error:0.3252\tvalidation_1-logloss:0.598726\n",
      "[984]\tvalidation_0-error:0.282253\tvalidation_0-logloss:0.555169\tvalidation_1-error:0.325182\tvalidation_1-logloss:0.598716\n",
      "[985]\tvalidation_0-error:0.282232\tvalidation_0-logloss:0.555141\tvalidation_1-error:0.32517\tvalidation_1-logloss:0.598709\n",
      "[986]\tvalidation_0-error:0.282232\tvalidation_0-logloss:0.555122\tvalidation_1-error:0.3252\tvalidation_1-logloss:0.598721\n",
      "[987]\tvalidation_0-error:0.282265\tvalidation_0-logloss:0.555096\tvalidation_1-error:0.325216\tvalidation_1-logloss:0.598711\n",
      "[988]\tvalidation_0-error:0.282271\tvalidation_0-logloss:0.555053\tvalidation_1-error:0.325228\tvalidation_1-logloss:0.598696\n",
      "[989]\tvalidation_0-error:0.282229\tvalidation_0-logloss:0.555011\tvalidation_1-error:0.325239\tvalidation_1-logloss:0.598697\n",
      "[990]\tvalidation_0-error:0.282208\tvalidation_0-logloss:0.554985\tvalidation_1-error:0.32521\tvalidation_1-logloss:0.598671\n",
      "[991]\tvalidation_0-error:0.28216\tvalidation_0-logloss:0.554959\tvalidation_1-error:0.325208\tvalidation_1-logloss:0.598667\n",
      "[992]\tvalidation_0-error:0.282118\tvalidation_0-logloss:0.554932\tvalidation_1-error:0.325188\tvalidation_1-logloss:0.598647\n",
      "[993]\tvalidation_0-error:0.282127\tvalidation_0-logloss:0.554906\tvalidation_1-error:0.32516\tvalidation_1-logloss:0.598641\n",
      "[994]\tvalidation_0-error:0.282088\tvalidation_0-logloss:0.554868\tvalidation_1-error:0.325176\tvalidation_1-logloss:0.598638\n",
      "[995]\tvalidation_0-error:0.282052\tvalidation_0-logloss:0.554842\tvalidation_1-error:0.325183\tvalidation_1-logloss:0.598646\n",
      "[996]\tvalidation_0-error:0.282028\tvalidation_0-logloss:0.55482\tvalidation_1-error:0.325164\tvalidation_1-logloss:0.598621\n",
      "[997]\tvalidation_0-error:0.282004\tvalidation_0-logloss:0.554787\tvalidation_1-error:0.325201\tvalidation_1-logloss:0.59861\n",
      "[998]\tvalidation_0-error:0.281942\tvalidation_0-logloss:0.554761\tvalidation_1-error:0.3252\tvalidation_1-logloss:0.5986\n",
      "[999]\tvalidation_0-error:0.281918\tvalidation_0-logloss:0.55474\tvalidation_1-error:0.325203\tvalidation_1-logloss:0.598598\n"
     ]
    },
    {
     "data": {
      "text/plain": [
       "XGBClassifier(base_score=0.5, booster='gbtree', colsample_bylevel=1,\n",
       "       colsample_bytree=0.7, eta=0.01, gamma=0, learning_rate=0.1,\n",
       "       max_delta_step=0, max_depth=8, min_child_weight=6, missing=None,\n",
       "       n_estimators=1000, n_jobs=1, nthread=None,\n",
       "       objective='binary:logistic', random_state=0, reg_alpha=0,\n",
       "       reg_lambda=1, scale_pos_weight=1, seed=None, silent=True,\n",
       "       subsample=0.7)"
      ]
     },
     "execution_count": 56,
     "metadata": {},
     "output_type": "execute_result"
    }
   ],
   "source": [
    "from xgboost import XGBClassifier\n",
    "\n",
    "eval_set = [(X_train, y_train), (X_test, y_test)]\n",
    "params = {\n",
    "    'n_estimators': 1000,\n",
    "    'booster': 'gbtree',\n",
    "    'eta': .01,\n",
    "    'min_child_weight': 6,\n",
    "    'max_depth': 8,\n",
    "    'subsample': 0.7,\n",
    "    'colsample_bytree': 0.7\n",
    "}\n",
    "\n",
    "xgb = XGBClassifier(**params)\n",
    "xgb.fit(X_train, y_train, eval_metric=[\"error\", \"logloss\"], eval_set=eval_set)"
   ]
  },
  {
   "cell_type": "code",
   "execution_count": 57,
   "metadata": {},
   "outputs": [
    {
     "data": {
      "text/plain": [
       "0.6747974802796145"
      ]
     },
     "execution_count": 57,
     "metadata": {},
     "output_type": "execute_result"
    }
   ],
   "source": [
    "xgb_pred = xgb.predict(X_test)\n",
    "accuracy_score(y_test, xgb_pred)"
   ]
  },
  {
   "cell_type": "code",
   "execution_count": 58,
   "metadata": {},
   "outputs": [
    {
     "data": {
      "text/plain": [
       "<matplotlib.legend.Legend at 0x1a38933668>"
      ]
     },
     "execution_count": 58,
     "metadata": {},
     "output_type": "execute_result"
    },
    {
     "data": {
      "image/png": "[encoded data removed]",
      "text/plain": [
       "<Figure size 432x288 with 1 Axes>"
      ]
     },
     "metadata": {
      "needs_background": "light"
     },
     "output_type": "display_data"
    }
   ],
   "source": [
    "import matplotlib.pyplot as plt\n",
    "\n",
    "results = xgb.evals_result()\n",
    "epochs = len(results['validation_0']['error'])\n",
    "x_axis = range(0, epochs)\n",
    "# plot log loss\n",
    "fig, ax = plt.subplots()\n",
    "ax.plot(x_axis, results['validation_0']['error'], label='Train')\n",
    "ax.plot(x_axis, results['validation_1']['error'], label='Test')\n",
    "ax.legend()"
   ]
  },
  {
   "cell_type": "code",
   "execution_count": 49,
   "metadata": {},
   "outputs": [
    {
     "data": {
      "text/plain": [
       "Text(0.5, 1.0, '2-class Precision-Recall curve: AP=0.62')"
      ]
     },
     "execution_count": 49,
     "metadata": {},
     "output_type": "execute_result"
    },
    {
     "data": {
      "image/png": "[encoded data removed]",
      "text/plain": [
       "<Figure size 432x288 with 1 Axes>"
      ]
     },
     "metadata": {
      "needs_background": "light"
     },
     "output_type": "display_data"
    }
   ],
   "source": [
    "precision, recall, thresholds = precision_recall_curve(y_test, xgb_pred)\n",
    "step_kwargs = ({'step': 'post'})\n",
    "plt.step(recall, precision, color='b', alpha=0.2,\n",
    "         where='post')\n",
    "plt.fill_between(recall, precision, alpha=0.2, color='b', **step_kwargs)\n",
    "\n",
    "from sklearn.metrics import average_precision_score\n",
    "average_precision = average_precision_score(y_test, xgb_pred)\n",
    "\n",
    "plt.xlabel('Recall')\n",
    "plt.ylabel('Precision')\n",
    "plt.ylim([0.0, 1.05])\n",
    "plt.xlim([0.0, 1.0])\n",
    "plt.title('2-class Precision-Recall curve: AP={0:0.2f}'.format(average_precision))"
   ]
  },
  {
   "cell_type": "code",
   "execution_count": 22,
   "metadata": {},
   "outputs": [
    {
     "data": {
      "image/png": "[encoded data removed]",
      "text/plain": [
       "<Figure size 432x288 with 2 Axes>"
      ]
     },
     "metadata": {
      "needs_background": "light"
     },
     "output_type": "display_data"
    }
   ],
   "source": [
    "cm = confusion_matrix(y_test, xgb.predict(X_test))\n",
    "fig = plt.figure()\n",
    "ax = fig.add_subplot(111)\n",
    "cax = ax.matshow(cm)\n",
    "fig.colorbar(cax)\n",
    "plt.xlabel('Predicted')\n",
    "plt.ylabel('True')\n",
    "plt.show()"
   ]
  },
  {
   "cell_type": "code",
   "execution_count": 59,
   "metadata": {},
   "outputs": [
    {
     "name": "stdout",
     "output_type": "stream",
     "text": [
      "Precision xgb:  0.7065748269277093\n",
      "Recall xgb:  0.5977742072680875\n",
      "F1 score xgb:  0.6476367842794676\n"
     ]
    }
   ],
   "source": [
    "print('Precision xgb: ', precision_score(y_test, xgb_pred))\n",
    "print('Recall xgb: ', recall_score(y_test, xgb_pred))\n",
    "print('F1 score xgb: ', f1_score(y_test, xgb_pred))"
   ]
  },
  {
   "cell_type": "code",
   "execution_count": 29,
   "metadata": {},
   "outputs": [
    {
     "name": "stdout",
     "output_type": "stream",
     "text": [
      "oob_score is  0.9815292830267872\n"
     ]
    }
   ],
   "source": [
    "from sklearn.svm import LinearSVC\n",
    "from sklearn.ensemble import BaggingClassifier\n",
    "\n",
    "#from sklearn import svm\n",
    "#from sklearn.ensemble import BaggingClassifier\n",
    "\n",
    "# bagging with SVM\n",
    "# oob Out-Of-Bag\n",
    "bag_log_reg_svm = BaggingClassifier(\n",
    "     LinearSVC(), n_estimators=200,\n",
    "    max_samples=50000, bootstrap=True, n_jobs=-1, oob_score=True)\n",
    "\n",
    "bag_log_reg_svm.fit(X_train,y_train)\n",
    "print('oob_score is ', bag_log_reg_svm.oob_score_)"
   ]
  },
  {
   "cell_type": "code",
   "execution_count": 30,
   "metadata": {},
   "outputs": [
    {
     "data": {
      "text/plain": [
       "0.6793646949726676"
      ]
     },
     "execution_count": 30,
     "metadata": {},
     "output_type": "execute_result"
    }
   ],
   "source": [
    "bag_reg_svm_pred = bag_log_reg_svm.predict(X_test)\n",
    "accuracy_score(y_test, bag_reg_svm_pred)"
   ]
  },
  {
   "cell_type": "code",
   "execution_count": 33,
   "metadata": {},
   "outputs": [
    {
     "data": {
      "image/png": "[encoded data removed]",
      "text/plain": [
       "<Figure size 432x288 with 1 Axes>"
      ]
     },
     "metadata": {
      "needs_background": "light"
     },
     "output_type": "display_data"
    }
   ],
   "source": [
    "# calculate roc curve\n",
    "fpr, tpr, thresholds = roc_curve(y_test, bag_reg_svm_pred)\n",
    "# plot no skill\n",
    "plt.plot([0, 1], [0, 1], linestyle='--')\n",
    "# plot the roc curve for the model\n",
    "plt.plot(fpr, tpr, marker='.')\n",
    "# show the plot\n",
    "plt.show()"
   ]
  },
  {
   "cell_type": "code",
   "execution_count": 34,
   "metadata": {},
   "outputs": [
    {
     "data": {
      "image/png": "[encoded data removed]",
      "text/plain": [
       "<Figure size 432x288 with 1 Axes>"
      ]
     },
     "metadata": {
      "needs_background": "light"
     },
     "output_type": "display_data"
    }
   ],
   "source": [
    "from sklearn.metrics import precision_recall_curve\n",
    "\n",
    "precision, recall, thresholds = precision_recall_curve(y_test, bag_reg_svm_pred)\n",
    "# plot no skill\n",
    "plt.plot([0, 1], [0.5, 0.5], linestyle='--')\n",
    "# plot the precision-recall curve for the model\n",
    "plt.plot(recall, precision, marker='.')\n",
    "# show the plot\n",
    "plt.show()"
   ]
  },
  {
   "cell_type": "code",
   "execution_count": 39,
   "metadata": {},
   "outputs": [
    {
     "data": {
      "text/plain": [
       "Text(0.5, 1.0, '2-class Precision-Recall curve: AP=0.62')"
      ]
     },
     "execution_count": 39,
     "metadata": {},
     "output_type": "execute_result"
    },
    {
     "data": {
      "image/png": "[encoded data removed]",
      "text/plain": [
       "<Figure size 432x288 with 1 Axes>"
      ]
     },
     "metadata": {
      "needs_background": "light"
     },
     "output_type": "display_data"
    }
   ],
   "source": [
    "# In matplotlib < 1.5, plt.fill_between does not have a 'step' argument\n",
    "step_kwargs = ({'step': 'post'})\n",
    "plt.step(recall, precision, color='b', alpha=0.2,\n",
    "         where='post')\n",
    "plt.fill_between(recall, precision, alpha=0.2, color='b', **step_kwargs)\n",
    "\n",
    "from sklearn.metrics import average_precision_score\n",
    "average_precision = average_precision_score(y_test, bag_reg_svm_pred)\n",
    "\n",
    "plt.xlabel('Recall')\n",
    "plt.ylabel('Precision')\n",
    "plt.ylim([0.0, 1.05])\n",
    "plt.xlim([0.0, 1.0])\n",
    "plt.title('2-class Precision-Recall curve: AP={0:0.2f}'.format(average_precision))"
   ]
  },
  {
   "cell_type": "code",
   "execution_count": 25,
   "metadata": {},
   "outputs": [
    {
     "data": {
      "image/png": "[encoded data removed]",
      "text/plain": [
       "<Figure size 432x288 with 2 Axes>"
      ]
     },
     "metadata": {
      "needs_background": "light"
     },
     "output_type": "display_data"
    }
   ],
   "source": [
    "cm = confusion_matrix(y_test, bag_log_reg_svm.predict(X_test))\n",
    "fig = plt.figure()\n",
    "ax = fig.add_subplot(111)\n",
    "cax = ax.matshow(cm)\n",
    "fig.colorbar(cax)\n",
    "plt.xlabel('Predicted')\n",
    "plt.ylabel('True')\n",
    "plt.show()"
   ]
  },
  {
   "cell_type": "code",
   "execution_count": 48,
   "metadata": {},
   "outputs": [
    {
     "name": "stdout",
     "output_type": "stream",
     "text": [
      "Precision bagging svm:  0.6778406528068233\n",
      "Recall bagging svm:  0.6835304333443599\n",
      "F1 score bagging svm:  0.6806736530028206\n"
     ]
    }
   ],
   "source": [
    "print('Precision bagging svm: ', precision_score(y_test, bag_reg_svm_pred))\n",
    "print('Recall bagging svm: ', recall_score(y_test, bag_reg_svm_pred))\n",
    "print('F1 score bagging svm: ', f1_score(y_test, bag_reg_svm_pred))"
   ]
  },
  {
   "cell_type": "code",
   "execution_count": null,
   "metadata": {},
   "outputs": [],
   "source": []
  }
 ],
 "metadata": {
  "kernelspec": {
   "display_name": "Python 3",
   "language": "python",
   "name": "python3"
  },
  "language_info": {
   "codemirror_mode": {
    "name": "ipython",
    "version": 3
   },
   "file_extension": ".py",
   "mimetype": "text/x-python",
   "name": "python",
   "nbconvert_exporter": "python",
   "pygments_lexer": "ipython3",
   "version": "3.7.1"
  }
 },
 "nbformat": 4,
 "nbformat_minor": 2
}
